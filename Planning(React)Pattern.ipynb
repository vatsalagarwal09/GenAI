{
  "nbformat": 4,
  "nbformat_minor": 0,
  "metadata": {
    "colab": {
      "provenance": [],
      "include_colab_link": true
    },
    "kernelspec": {
      "name": "python3",
      "display_name": "Python 3"
    },
    "language_info": {
      "name": "python"
    }
  },
  "cells": [
    {
      "cell_type": "markdown",
      "metadata": {
        "id": "view-in-github",
        "colab_type": "text"
      },
      "source": [
        "<a href=\"https://colab.research.google.com/github/vatsalagarwal09/GenAI/blob/main/Planning(React)Pattern.ipynb\" target=\"_parent\"><img src=\"https://colab.research.google.com/assets/colab-badge.svg\" alt=\"Open In Colab\"/></a>"
      ]
    },
    {
      "cell_type": "code",
      "source": [
        "!pip install openai colorama"
      ],
      "metadata": {
        "id": "WyDJEkcTjzOr",
        "outputId": "3a5fc6e5-3ab0-4870-dd6e-1755203ca6e1",
        "colab": {
          "base_uri": "https://localhost:8080/"
        }
      },
      "execution_count": 1,
      "outputs": [
        {
          "output_type": "stream",
          "name": "stdout",
          "text": [
            "Requirement already satisfied: openai in /usr/local/lib/python3.11/dist-packages (1.99.9)\n",
            "Collecting colorama\n",
            "  Downloading colorama-0.4.6-py2.py3-none-any.whl.metadata (17 kB)\n",
            "Requirement already satisfied: anyio<5,>=3.5.0 in /usr/local/lib/python3.11/dist-packages (from openai) (4.10.0)\n",
            "Requirement already satisfied: distro<2,>=1.7.0 in /usr/local/lib/python3.11/dist-packages (from openai) (1.9.0)\n",
            "Requirement already satisfied: httpx<1,>=0.23.0 in /usr/local/lib/python3.11/dist-packages (from openai) (0.28.1)\n",
            "Requirement already satisfied: jiter<1,>=0.4.0 in /usr/local/lib/python3.11/dist-packages (from openai) (0.10.0)\n",
            "Requirement already satisfied: pydantic<3,>=1.9.0 in /usr/local/lib/python3.11/dist-packages (from openai) (2.11.7)\n",
            "Requirement already satisfied: sniffio in /usr/local/lib/python3.11/dist-packages (from openai) (1.3.1)\n",
            "Requirement already satisfied: tqdm>4 in /usr/local/lib/python3.11/dist-packages (from openai) (4.67.1)\n",
            "Requirement already satisfied: typing-extensions<5,>=4.11 in /usr/local/lib/python3.11/dist-packages (from openai) (4.14.1)\n",
            "Requirement already satisfied: idna>=2.8 in /usr/local/lib/python3.11/dist-packages (from anyio<5,>=3.5.0->openai) (3.10)\n",
            "Requirement already satisfied: certifi in /usr/local/lib/python3.11/dist-packages (from httpx<1,>=0.23.0->openai) (2025.8.3)\n",
            "Requirement already satisfied: httpcore==1.* in /usr/local/lib/python3.11/dist-packages (from httpx<1,>=0.23.0->openai) (1.0.9)\n",
            "Requirement already satisfied: h11>=0.16 in /usr/local/lib/python3.11/dist-packages (from httpcore==1.*->httpx<1,>=0.23.0->openai) (0.16.0)\n",
            "Requirement already satisfied: annotated-types>=0.6.0 in /usr/local/lib/python3.11/dist-packages (from pydantic<3,>=1.9.0->openai) (0.7.0)\n",
            "Requirement already satisfied: pydantic-core==2.33.2 in /usr/local/lib/python3.11/dist-packages (from pydantic<3,>=1.9.0->openai) (2.33.2)\n",
            "Requirement already satisfied: typing-inspection>=0.4.0 in /usr/local/lib/python3.11/dist-packages (from pydantic<3,>=1.9.0->openai) (0.4.1)\n",
            "Downloading colorama-0.4.6-py2.py3-none-any.whl (25 kB)\n",
            "Installing collected packages: colorama\n",
            "Successfully installed colorama-0.4.6\n"
          ]
        }
      ]
    },
    {
      "cell_type": "markdown",
      "source": [
        "# Planning Pattern - ReAct Technique\n",
        "\n",
        "<img src=\"https://drive.google.com/uc?id=12W4mMY-9-GRdwgisKP8xhuH3ajp9-7Lu\" alt=\"Alt text\" width=\"600\"/>\n",
        "\n",
        "So, we've seen agents capable of reflecting and using tools to access the outside world. But ... **what about planning**,\n",
        "i.e. deciding what sequence of steps to follow to accomplish a large task?\n",
        "\n",
        "That is exactly what the Planning Pattern provides; ways for the LLM to break a task into **smaller, more easily accomplished subgoals** without losing track of the end goal.\n",
        "\n",
        "The most paradigmatic example of the planning pattern is the [**ReAct**](https://react-lm.github.io/) technique, displayed in the diagram above.\n"
      ],
      "metadata": {
        "id": "aJwVSJ7cf1CE"
      }
    },
    {
      "cell_type": "markdown",
      "source": [
        "## ReAct System Prompt"
      ],
      "metadata": {
        "id": "ZUM6I4L-jY9B"
      }
    },
    {
      "cell_type": "markdown",
      "source": [
        "We start by importing all the libraries we'll be using in this tutorial as well as the OpenAI client."
      ],
      "metadata": {
        "id": "Nqim7JK4jb6O"
      }
    },
    {
      "cell_type": "code",
      "source": [
        "# @title\n",
        "import json\n",
        "import re\n",
        "from dataclasses import dataclass\n",
        "from typing import Callable\n",
        "\n",
        "\n",
        "def get_fn_signature(fn: Callable) -> dict:\n",
        "    \"\"\"\n",
        "    Generates the signature for a given function.\n",
        "\n",
        "    Args:\n",
        "        fn (Callable): The function whose signature needs to be extracted.\n",
        "\n",
        "    Returns:\n",
        "        dict: A dictionary containing the function's name, description,\n",
        "              and parameter types.\n",
        "    \"\"\"\n",
        "    fn_signature: dict = {\n",
        "        \"name\": fn.__name__,\n",
        "        \"description\": fn.__doc__,\n",
        "        \"parameters\": {\"properties\": {}},\n",
        "    }\n",
        "    schema = {\n",
        "        k: {\"type\": v.__name__} for k, v in fn.__annotations__.items() if k != \"return\"\n",
        "    }\n",
        "    fn_signature[\"parameters\"][\"properties\"] = schema\n",
        "    return fn_signature\n",
        "\n",
        "\n",
        "def validate_arguments(tool_call: dict, tool_signature: dict) -> dict:\n",
        "    \"\"\"\n",
        "    Validates and converts arguments in the input dictionary to match the expected types.\n",
        "\n",
        "    Args:\n",
        "        tool_call (dict): A dictionary containing the arguments passed to the tool.\n",
        "        tool_signature (dict): The expected function signature and parameter types.\n",
        "\n",
        "    Returns:\n",
        "        dict: The tool call dictionary with the arguments converted to the correct types if necessary.\n",
        "    \"\"\"\n",
        "    properties = tool_signature[\"parameters\"][\"properties\"]\n",
        "\n",
        "    # TODO: This is overly simplified but enough for simple Tools.\n",
        "    type_mapping = {\n",
        "        \"int\": int,\n",
        "        \"str\": str,\n",
        "        \"bool\": bool,\n",
        "        \"float\": float,\n",
        "    }\n",
        "\n",
        "    for arg_name, arg_value in tool_call[\"arguments\"].items():\n",
        "        expected_type = properties[arg_name].get(\"type\")\n",
        "\n",
        "        if not isinstance(arg_value, type_mapping[expected_type]):\n",
        "            tool_call[\"arguments\"][arg_name] = type_mapping[expected_type](arg_value)\n",
        "\n",
        "    return tool_call\n",
        "\n",
        "\n",
        "class Tool:\n",
        "    \"\"\"\n",
        "    A class representing a tool that wraps a callable and its signature.\n",
        "\n",
        "    Attributes:\n",
        "        name (str): The name of the tool (function).\n",
        "        fn (Callable): The function that the tool represents.\n",
        "        fn_signature (str): JSON string representation of the function's signature.\n",
        "    \"\"\"\n",
        "\n",
        "    def __init__(self, name: str, fn: Callable, fn_signature: str):\n",
        "        self.name = name\n",
        "        self.fn = fn\n",
        "        self.fn_signature = fn_signature\n",
        "\n",
        "    def __str__(self):\n",
        "        return self.fn_signature\n",
        "\n",
        "    def run(self, **kwargs):\n",
        "        \"\"\"\n",
        "        Executes the tool (function) with provided arguments.\n",
        "\n",
        "        Args:\n",
        "            **kwargs: Keyword arguments passed to the function.\n",
        "\n",
        "        Returns:\n",
        "            The result of the function call.\n",
        "        \"\"\"\n",
        "        return self.fn(**kwargs)\n",
        "\n",
        "\n",
        "def tool(fn: Callable):\n",
        "    \"\"\"\n",
        "    A decorator that wraps a function into a Tool object.\n",
        "\n",
        "    Args:\n",
        "        fn (Callable): The function to be wrapped.\n",
        "\n",
        "    Returns:\n",
        "        Tool: A Tool object containing the function, its name, and its signature.\n",
        "    \"\"\"\n",
        "\n",
        "    def wrapper():\n",
        "        fn_signature = get_fn_signature(fn)\n",
        "        return Tool(\n",
        "            name=fn_signature.get(\"name\"), fn=fn, fn_signature=json.dumps(fn_signature)\n",
        "        )\n",
        "\n",
        "    return wrapper()\n",
        "\n",
        "\n",
        "@dataclass\n",
        "class TagContentResult:\n",
        "    \"\"\"\n",
        "    A data class to represent the result of extracting tag content.\n",
        "\n",
        "    Attributes:\n",
        "        content (List[str]): A list of strings containing the content found between the specified tags.\n",
        "        found (bool): A flag indicating whether any content was found for the given tag.\n",
        "    \"\"\"\n",
        "\n",
        "    content: list[str]\n",
        "    found: bool\n",
        "\n",
        "\n",
        "def extract_tag_content(text: str, tag: str) -> TagContentResult:\n",
        "    \"\"\"\n",
        "    Extracts all content enclosed by specified tags (e.g., <thought>, <response>, etc.).\n",
        "\n",
        "    Parameters:\n",
        "        text (str): The input string containing multiple potential tags.\n",
        "        tag (str): The name of the tag to search for (e.g., 'thought', 'response').\n",
        "\n",
        "    Returns:\n",
        "        dict: A dictionary with the following keys:\n",
        "            - 'content' (list): A list of strings containing the content found between the specified tags.\n",
        "            - 'found' (bool): A flag indicating whether any content was found for the given tag.\n",
        "    \"\"\"\n",
        "    # Build the regex pattern dynamically to find multiple occurrences of the tag\n",
        "    tag_pattern = rf\"<{tag}>(.*?)</{tag}>\"\n",
        "\n",
        "    # Use findall to capture all content between the specified tag\n",
        "    matched_contents = re.findall(tag_pattern, text, re.DOTALL)\n",
        "\n",
        "    # Return the dataclass instance with the result\n",
        "    return TagContentResult(\n",
        "        content=[content.strip() for content in matched_contents],\n",
        "        found=bool(matched_contents),\n",
        "    )\n"
      ],
      "metadata": {
        "id": "NjZ7SbhEjmVd"
      },
      "execution_count": 2,
      "outputs": []
    },
    {
      "cell_type": "code",
      "source": [
        "from getpass import getpass\n",
        "\n",
        "gemini_key = getpass(\"Enter Gemini Key\")"
      ],
      "metadata": {
        "colab": {
          "base_uri": "https://localhost:8080/"
        },
        "id": "i321z4cw3ujc",
        "outputId": "d0fbb31c-5d5b-4bd9-ff59-529404ed863e"
      },
      "execution_count": 3,
      "outputs": [
        {
          "name": "stdout",
          "output_type": "stream",
          "text": [
            "Enter Gemini Key··········\n"
          ]
        }
      ]
    },
    {
      "cell_type": "code",
      "source": [
        "import os\n",
        "os.environ[\"GOOGLE_API_KEY\"] = gemini_key"
      ],
      "metadata": {
        "id": "vOi8iB-33vZX"
      },
      "execution_count": 4,
      "outputs": []
    },
    {
      "cell_type": "code",
      "source": [
        "import google.generativeai as genai"
      ],
      "metadata": {
        "id": "9UAySH5I34GG"
      },
      "execution_count": 5,
      "outputs": []
    },
    {
      "cell_type": "markdown",
      "source": [],
      "metadata": {
        "id": "vd0ZJZi43uSj"
      }
    },
    {
      "cell_type": "code",
      "source": [
        "import os\n",
        "import re\n",
        "import math\n",
        "import json\n",
        "from google.colab import userdata\n",
        "\n",
        "client = genai.configure(api_key=gemini_key)\n",
        "# from openai import OpenAI\n",
        "\n",
        "# # Remember to add your OpenAI API Key to the user data\n",
        "# client = OpenAI(\n",
        "#     api_key=userdata.get('OPENAI_API_KEY')\n",
        "# )\n",
        "# model = \"gpt-4o\""
      ],
      "metadata": {
        "id": "q5XYw4O4gEh5"
      },
      "execution_count": 6,
      "outputs": []
    },
    {
      "cell_type": "markdown",
      "source": [
        "As we did with the Tool Pattern, we also need a System Prompt for the ReAct technique. This System Prompt is very similar, the difference is that it describes the ReAct loop, so that the LLM is aware of\n",
        "the three operations it's allowed to use:\n",
        "\n",
        "1. Thought: The LLM will think about which action to take\n",
        "2. Action: The LLM will use a Tool to \"act on the environment\"\n",
        "3. Observation: The LLM will observe the tool output and reflect on the next thing to do.\n",
        "\n",
        "Another key difference from the Tool Pattern System Prompt is that we are going to enclose all the messages with tags, like these: ```<thought></thought>```, ```<observation></observation>```\n",
        ". We could implement the ReAct logic without these tags, but I found it eeasier for the LLM to understand the instructions this way.\n",
        "\n",
        "Ok! So without further ado, there's the prompt!"
      ],
      "metadata": {
        "id": "9escMQIxkDge"
      }
    },
    {
      "cell_type": "code",
      "source": [
        "# Define the System Prompt as a constant\n",
        "REACT_SYSTEM_PROMPT1 = \"\"\"\n",
        "You are a function calling AI model. You operate by running a loop with the following steps: Thought, Action, Observation.\n",
        "You are provided with function signatures within <tools></tools> XML tags.\n",
        "You may call one or more functions to assist with the user query. Don' make assumptions about what values to plug\n",
        "into functions. Pay special attention to the properties 'types'. You should use those types as in a Python dict.\n",
        "\n",
        "For each function call return a json object with function name and arguments within <tool_call></tool_call> XML tags as follows:\n",
        "\n",
        "<tool_call>\n",
        "{\"name\": <function-name>,\"arguments\": <args-dict>, \"id\": <monotonically-increasing-id>}\n",
        "</tool_call>\n",
        "\n",
        "Here are the available tools / actions:\n",
        "\n",
        "<tools>\n",
        "%s\n",
        "</tools>\n",
        "\n",
        "Example session:\n",
        "\n",
        "<question>What's the current temperature in Madrid?</question>\n",
        "<thought>I need to get the current weather in Madrid</thought>\n",
        "<tool_call>{\"name\": \"get_current_weather\",\"arguments\": {\"location\": \"Madrid\", \"unit\": \"celsius\"}, \"id\": 0}</tool_call>\n",
        "\n",
        "You will be called again with this:\n",
        "\n",
        "<observation>{0: {\"temperature\": 25, \"unit\": \"celsius\"}}</observation>\n",
        "\n",
        "You then output:\n",
        "\n",
        "<response>The current temperature in Madrid is 25 degrees Celsius</response>\n",
        "\n",
        "Additional constraints:\n",
        "\n",
        "- If the user asks you something unrelated to any of the tools above, answer freely enclosing your answer with <response></response> tags.\n",
        "\"\"\""
      ],
      "metadata": {
        "id": "Yc880vWfj4bS"
      },
      "execution_count": 106,
      "outputs": []
    },
    {
      "cell_type": "markdown",
      "source": [
        "Now, it's time to define a set of tools. Like the following ones."
      ],
      "metadata": {
        "id": "s0e7xflakaKG"
      }
    },
    {
      "cell_type": "code",
      "source": [
        "@tool\n",
        "def sum_two_elements(a: int, b: int) -> int:\n",
        "    \"\"\"\n",
        "    Computes the sum of two integers.\n",
        "\n",
        "    Args:\n",
        "        a (int): The first integer to be summed.\n",
        "        b (int): The second integer to be summed.\n",
        "\n",
        "    Returns:\n",
        "        int: The sum of `a` and `b`.\n",
        "    \"\"\"\n",
        "    return a + b\n",
        "\n",
        "\n",
        "@tool\n",
        "def multiply_two_elements(a: int, b: int) -> int:\n",
        "    \"\"\"\n",
        "    Multiplies two integers.\n",
        "\n",
        "    Args:\n",
        "        a (int): The first integer to multiply.\n",
        "        b (int): The second integer to multiply.\n",
        "\n",
        "    Returns:\n",
        "        int: The product of `a` and `b`.\n",
        "    \"\"\"\n",
        "    return a * b\n",
        "\n",
        "@tool\n",
        "def compute_log(x: int) -> float | str:\n",
        "    \"\"\"\n",
        "    Computes the logarithm of an integer `x` with an optional base.\n",
        "\n",
        "    Args:\n",
        "        x (int): The integer value for which the logarithm is computed. Must be greater than 0.\n",
        "\n",
        "    Returns:\n",
        "        float: The logarithm of `x` to the specified `base`.\n",
        "    \"\"\"\n",
        "    if x <= 0:\n",
        "        return \"Logarithm is undefined for values less than or equal to 0.\"\n",
        "\n",
        "    return math.log(x)\n",
        "\n",
        "\n",
        "available_tools = {\n",
        "    \"sum_two_elements\": sum_two_elements,\n",
        "    \"multiply_two_elements\": multiply_two_elements,\n",
        "    \"compute_log\": compute_log\n",
        "}"
      ],
      "metadata": {
        "id": "NS0UyZ2ZkQ5X"
      },
      "execution_count": 8,
      "outputs": []
    },
    {
      "cell_type": "markdown",
      "source": [
        "Remember that the `@tool` operator allows us to convert a Python function into a `Tool` automatically. We cana check that very easily with some of the functions above."
      ],
      "metadata": {
        "id": "cOHh9gwVkkQF"
      }
    },
    {
      "cell_type": "code",
      "source": [
        "print(\"Tool name: \", sum_two_elements.name)\n",
        "print(\"Tool signature: \", sum_two_elements.fn_signature)"
      ],
      "metadata": {
        "id": "lDQMWWhRkfl5",
        "colab": {
          "base_uri": "https://localhost:8080/"
        },
        "outputId": "4a70b389-6bbc-4665-c490-cf3fbd387826"
      },
      "execution_count": 9,
      "outputs": [
        {
          "output_type": "stream",
          "name": "stdout",
          "text": [
            "Tool name:  sum_two_elements\n",
            "Tool signature:  {\"name\": \"sum_two_elements\", \"description\": \"\\n    Computes the sum of two integers.\\n\\n    Args:\\n        a (int): The first integer to be summed.\\n        b (int): The second integer to be summed.\\n\\n    Returns:\\n        int: The sum of `a` and `b`.\\n    \", \"parameters\": {\"properties\": {\"a\": {\"type\": \"int\"}, \"b\": {\"type\": \"int\"}}}}\n"
          ]
        }
      ]
    },
    {
      "cell_type": "markdown",
      "source": [
        "Now, we just concatenate the tools signature and add them to the System Prompt."
      ],
      "metadata": {
        "id": "eDfV8et4koFl"
      }
    },
    {
      "cell_type": "code",
      "source": [
        "tools_signature = sum_two_elements.fn_signature + \",\\n\" + multiply_two_elements.fn_signature + \",\\n\" + compute_log.fn_signature"
      ],
      "metadata": {
        "id": "PA8vSzKxkl13"
      },
      "execution_count": 10,
      "outputs": []
    },
    {
      "cell_type": "code",
      "source": [
        "print(tools_signature)"
      ],
      "metadata": {
        "id": "2586T7d3kp60",
        "colab": {
          "base_uri": "https://localhost:8080/"
        },
        "outputId": "3323b42e-5178-41d3-e362-17130ca172ba"
      },
      "execution_count": 11,
      "outputs": [
        {
          "output_type": "stream",
          "name": "stdout",
          "text": [
            "{\"name\": \"sum_two_elements\", \"description\": \"\\n    Computes the sum of two integers.\\n\\n    Args:\\n        a (int): The first integer to be summed.\\n        b (int): The second integer to be summed.\\n\\n    Returns:\\n        int: The sum of `a` and `b`.\\n    \", \"parameters\": {\"properties\": {\"a\": {\"type\": \"int\"}, \"b\": {\"type\": \"int\"}}}},\n",
            "{\"name\": \"multiply_two_elements\", \"description\": \"\\n    Multiplies two integers.\\n\\n    Args:\\n        a (int): The first integer to multiply.\\n        b (int): The second integer to multiply.\\n\\n    Returns:\\n        int: The product of `a` and `b`.\\n    \", \"parameters\": {\"properties\": {\"a\": {\"type\": \"int\"}, \"b\": {\"type\": \"int\"}}}},\n",
            "{\"name\": \"compute_log\", \"description\": \"\\n    Computes the logarithm of an integer `x` with an optional base.\\n\\n    Args:\\n        x (int): The integer value for which the logarithm is computed. Must be greater than 0.\\n\\n    Returns:\\n        float: The logarithm of `x` to the specified `base`.\\n    \", \"parameters\": {\"properties\": {\"x\": {\"type\": \"int\"}}}}\n"
          ]
        }
      ]
    },
    {
      "cell_type": "code",
      "source": [
        "REACT_SYSTEM_PROMPT1 = REACT_SYSTEM_PROMPT1 % tools_signature"
      ],
      "metadata": {
        "id": "NvXPiBxmkrAt"
      },
      "execution_count": 107,
      "outputs": []
    },
    {
      "cell_type": "code",
      "source": [
        "print(REACT_SYSTEM_PROMPT1)"
      ],
      "metadata": {
        "id": "chtcbH0KksLP",
        "colab": {
          "base_uri": "https://localhost:8080/"
        },
        "outputId": "2e028893-ec68-4daa-c579-e81b86ccb69d"
      },
      "execution_count": 108,
      "outputs": [
        {
          "output_type": "stream",
          "name": "stdout",
          "text": [
            "\n",
            "You are a function calling AI model. You operate by running a loop with the following steps: Thought, Action, Observation.\n",
            "You are provided with function signatures within <tools></tools> XML tags.\n",
            "You may call one or more functions to assist with the user query. Don' make assumptions about what values to plug\n",
            "into functions. Pay special attention to the properties 'types'. You should use those types as in a Python dict.\n",
            "\n",
            "For each function call return a json object with function name and arguments within <tool_call></tool_call> XML tags as follows:\n",
            "\n",
            "<tool_call>\n",
            "{\"name\": <function-name>,\"arguments\": <args-dict>, \"id\": <monotonically-increasing-id>}\n",
            "</tool_call>\n",
            "\n",
            "Here are the available tools / actions:\n",
            "\n",
            "<tools>\n",
            "{\"name\": \"sum_two_elements\", \"description\": \"\\n    Computes the sum of two integers.\\n\\n    Args:\\n        a (int): The first integer to be summed.\\n        b (int): The second integer to be summed.\\n\\n    Returns:\\n        int: The sum of `a` and `b`.\\n    \", \"parameters\": {\"properties\": {\"a\": {\"type\": \"int\"}, \"b\": {\"type\": \"int\"}}}},\n",
            "{\"name\": \"multiply_two_elements\", \"description\": \"\\n    Multiplies two integers.\\n\\n    Args:\\n        a (int): The first integer to multiply.\\n        b (int): The second integer to multiply.\\n\\n    Returns:\\n        int: The product of `a` and `b`.\\n    \", \"parameters\": {\"properties\": {\"a\": {\"type\": \"int\"}, \"b\": {\"type\": \"int\"}}}},\n",
            "{\"name\": \"compute_log\", \"description\": \"\\n    Computes the logarithm of an integer `x` with an optional base.\\n\\n    Args:\\n        x (int): The integer value for which the logarithm is computed. Must be greater than 0.\\n\\n    Returns:\\n        float: The logarithm of `x` to the specified `base`.\\n    \", \"parameters\": {\"properties\": {\"x\": {\"type\": \"int\"}}}}\n",
            "</tools>\n",
            "\n",
            "Example session:\n",
            "\n",
            "<question>What's the current temperature in Madrid?</question>\n",
            "<thought>I need to get the current weather in Madrid</thought>\n",
            "<tool_call>{\"name\": \"get_current_weather\",\"arguments\": {\"location\": \"Madrid\", \"unit\": \"celsius\"}, \"id\": 0}</tool_call>\n",
            "\n",
            "You will be called again with this:\n",
            "\n",
            "<observation>{0: {\"temperature\": 25, \"unit\": \"celsius\"}}</observation>\n",
            "\n",
            "You then output:\n",
            "\n",
            "<response>The current temperature in Madrid is 25 degrees Celsius</response>\n",
            "\n",
            "Additional constraints:\n",
            "\n",
            "- If the user asks you something unrelated to any of the tools above, answer freely enclosing your answer with <response></response> tags.\n",
            "\n"
          ]
        }
      ]
    },
    {
      "cell_type": "markdown",
      "source": [
        "### ReAct Loop: Step 1"
      ],
      "metadata": {
        "id": "bZqcuUjEkv-M"
      }
    },
    {
      "cell_type": "code",
      "source": [
        "USER_QUESTION = \"I want to calculate the sum of 1234 and 5678 and multiply the result by 5. Then, I want to take the logarithm of this result\"\n",
        "\n",
        "chat_history = [\n",
        "    {\n",
        "        \"role\": \"model\",\n",
        "        \"parts\": [\n",
        "            {\n",
        "                \"text\": REACT_SYSTEM_PROMPT1\n",
        "            }\n",
        "        ]\n",
        "    },\n",
        "    {\n",
        "        \"role\": \"user\",\n",
        "        \"parts\": [\n",
        "            {\n",
        "                \"text\": f\"<question>{USER_QUESTION}</question>\"\n",
        "            }\n",
        "        ]\n",
        "    }\n",
        "]\n"
      ],
      "metadata": {
        "id": "X2xy6gt6ktd7"
      },
      "execution_count": 109,
      "outputs": []
    },
    {
      "cell_type": "code",
      "source": [
        "USER_QUESTION"
      ],
      "metadata": {
        "id": "wTvwQqcok1Un",
        "colab": {
          "base_uri": "https://localhost:8080/",
          "height": 35
        },
        "outputId": "3993772d-f733-4367-e588-e03c33fdbb8d"
      },
      "execution_count": 28,
      "outputs": [
        {
          "output_type": "execute_result",
          "data": {
            "text/plain": [
              "'I want to calculate the sum of 1234 and 5678 and multiply the result by 5. Then, I want to take the logarithm of this result'"
            ],
            "application/vnd.google.colaboratory.intrinsic+json": {
              "type": "string"
            }
          },
          "metadata": {},
          "execution_count": 28
        }
      ]
    },
    {
      "cell_type": "code",
      "source": [
        "model = genai.GenerativeModel(\n",
        "    'gemini-2.5-flash'\n",
        ")\n",
        "\n",
        "print(model)"
      ],
      "metadata": {
        "id": "xEcISFc-k2ee",
        "colab": {
          "base_uri": "https://localhost:8080/"
        },
        "outputId": "14b42537-3a10-41f6-b312-5d9ec82b2444"
      },
      "execution_count": 29,
      "outputs": [
        {
          "output_type": "stream",
          "name": "stdout",
          "text": [
            "genai.GenerativeModel(\n",
            "    model_name='models/gemini-2.5-flash',\n",
            "    generation_config={},\n",
            "    safety_settings={},\n",
            "    tools=None,\n",
            "    system_instruction=None,\n",
            "    cached_content=None\n",
            ")\n"
          ]
        }
      ]
    },
    {
      "cell_type": "code",
      "source": [
        "output = model.generate_content(\n",
        "    chat_history\n",
        ").candidates[0].content.parts[0].text\n",
        "\n",
        "print(output)"
      ],
      "metadata": {
        "colab": {
          "base_uri": "https://localhost:8080/",
          "height": 35
        },
        "id": "7wbCDcpB4nRL",
        "outputId": "a392916a-14eb-4bd8-8be3-122c33309c70"
      },
      "execution_count": 30,
      "outputs": [
        {
          "output_type": "stream",
          "name": "stdout",
          "text": [
            "<tool_call>{\"name\": \"sum_two_elements\",\"arguments\": {\"a\": 1234, \"b\": 5678}, \"id\": 0}</tool_call>\n"
          ]
        }
      ]
    },
    {
      "cell_type": "code",
      "source": [
        "chat_history.append(\n",
        "    {\n",
        "        \"role\": \"model\",\n",
        "        \"parts\": [\n",
        "            {\n",
        "                \"text\": output\n",
        "            }\n",
        "        ]\n",
        "    }\n",
        ")"
      ],
      "metadata": {
        "id": "o-BD2A3Qk5M6"
      },
      "execution_count": 31,
      "outputs": []
    },
    {
      "cell_type": "markdown",
      "source": [
        "### ReAct Loop: Step 2"
      ],
      "metadata": {
        "id": "Xy4PEfCnk-Dc"
      }
    },
    {
      "cell_type": "code",
      "source": [
        "tool_call = extract_tag_content(output, tag=\"tool_call\")"
      ],
      "metadata": {
        "id": "mHoEMUwEk7EZ"
      },
      "execution_count": 32,
      "outputs": []
    },
    {
      "cell_type": "code",
      "source": [
        "tool_call"
      ],
      "metadata": {
        "id": "W0rneJfLlAnI",
        "colab": {
          "base_uri": "https://localhost:8080/"
        },
        "outputId": "f0651bc0-6fff-480c-fe75-6ebead49c26f"
      },
      "execution_count": 33,
      "outputs": [
        {
          "output_type": "execute_result",
          "data": {
            "text/plain": [
              "TagContentResult(content=['{\"name\": \"sum_two_elements\",\"arguments\": {\"a\": 1234, \"b\": 5678}, \"id\": 0}'], found=True)"
            ]
          },
          "metadata": {},
          "execution_count": 33
        }
      ]
    },
    {
      "cell_type": "code",
      "source": [
        "tool_call = json.loads(tool_call.content[0])"
      ],
      "metadata": {
        "id": "4E_MxWxGlCFB"
      },
      "execution_count": 34,
      "outputs": []
    },
    {
      "cell_type": "code",
      "source": [
        "tool_call"
      ],
      "metadata": {
        "id": "niE6bqc4lDFA",
        "colab": {
          "base_uri": "https://localhost:8080/"
        },
        "outputId": "da952d74-e253-46a5-c6df-f1b6d4b345f7"
      },
      "execution_count": 35,
      "outputs": [
        {
          "output_type": "execute_result",
          "data": {
            "text/plain": [
              "{'name': 'sum_two_elements', 'arguments': {'a': 1234, 'b': 5678}, 'id': 0}"
            ]
          },
          "metadata": {},
          "execution_count": 35
        }
      ]
    },
    {
      "cell_type": "code",
      "source": [
        "tool_result = available_tools[tool_call[\"name\"]].run(**tool_call[\"arguments\"])"
      ],
      "metadata": {
        "id": "sHkw3Y59lEV3"
      },
      "execution_count": 36,
      "outputs": []
    },
    {
      "cell_type": "code",
      "source": [
        "assert tool_result == 1234 + 5678"
      ],
      "metadata": {
        "id": "aQ2NicKIlFul"
      },
      "execution_count": 37,
      "outputs": []
    },
    {
      "cell_type": "code",
      "source": [
        "chat_history.append(\n",
        "    {\n",
        "        \"role\": \"user\",\n",
        "        \"parts\": [\n",
        "            {\n",
        "                \"text\": f\"<observation>{tool_result}</observation>\"\n",
        "            }\n",
        "        ]\n",
        "    }\n",
        ")"
      ],
      "metadata": {
        "id": "9YtyIHqelGxP"
      },
      "execution_count": 38,
      "outputs": []
    },
    {
      "cell_type": "markdown",
      "source": [
        "### ReAct Loop: Step 3"
      ],
      "metadata": {
        "id": "973c2UHOlJ1B"
      }
    },
    {
      "cell_type": "code",
      "source": [
        "output = model.generate_content(\n",
        "    chat_history\n",
        ").candidates[0].content.parts[0].text\n",
        "\n",
        "print(output)"
      ],
      "metadata": {
        "id": "sjGKXHWklHxS",
        "colab": {
          "base_uri": "https://localhost:8080/",
          "height": 35
        },
        "outputId": "ed922a56-bb9a-4d9e-9f45-42975d2410c0"
      },
      "execution_count": 40,
      "outputs": [
        {
          "output_type": "stream",
          "name": "stdout",
          "text": [
            "<tool_call>{\"name\": \"multiply_two_elements\",\"arguments\": {\"a\": 6912, \"b\": 5}, \"id\": 1}</tool_call>\n"
          ]
        }
      ]
    },
    {
      "cell_type": "code",
      "source": [
        "chat_history.append(\n",
        "    {\n",
        "        \"role\": \"model\",\n",
        "        \"parts\": [\n",
        "            {\n",
        "                \"text\": output\n",
        "            }\n",
        "        ]\n",
        "    }\n",
        ")"
      ],
      "metadata": {
        "id": "1zJ9pmI_lMc_"
      },
      "execution_count": 41,
      "outputs": []
    },
    {
      "cell_type": "markdown",
      "source": [
        "### ReAct Loop: Step 4"
      ],
      "metadata": {
        "id": "_w4g7KKzlPUF"
      }
    },
    {
      "cell_type": "code",
      "source": [
        "tool_call = extract_tag_content(output, tag=\"tool_call\")\n",
        "tool_call = json.loads(tool_call.content[0])\n",
        "tool_result = available_tools[tool_call[\"name\"]].run(**tool_call[\"arguments\"])"
      ],
      "metadata": {
        "id": "Had3RLBAlN4O"
      },
      "execution_count": 42,
      "outputs": []
    },
    {
      "cell_type": "code",
      "source": [
        "tool_result"
      ],
      "metadata": {
        "id": "A8H3lo1UlRhu",
        "colab": {
          "base_uri": "https://localhost:8080/"
        },
        "outputId": "97913289-ac4d-4c42-dde6-d575f62a99ce"
      },
      "execution_count": 43,
      "outputs": [
        {
          "output_type": "execute_result",
          "data": {
            "text/plain": [
              "34560"
            ]
          },
          "metadata": {},
          "execution_count": 43
        }
      ]
    },
    {
      "cell_type": "code",
      "source": [
        "assert tool_result == (1234 + 5678) * 5"
      ],
      "metadata": {
        "id": "4BE4RyRSlSXz"
      },
      "execution_count": 44,
      "outputs": []
    },
    {
      "cell_type": "code",
      "source": [
        "chat_history.append(\n",
        "    {\n",
        "        \"role\": \"user\",\n",
        "        \"parts\": [\n",
        "            {\n",
        "                \"text\": f\"<observation>{tool_result}</observation>\"\n",
        "            }\n",
        "        ]\n",
        "    }\n",
        ")"
      ],
      "metadata": {
        "id": "yGuRV1HMlTbs"
      },
      "execution_count": 45,
      "outputs": []
    },
    {
      "cell_type": "markdown",
      "source": [
        "### ReAct Loop: Step 5"
      ],
      "metadata": {
        "id": "DULnmj-XlVzw"
      }
    },
    {
      "cell_type": "code",
      "source": [
        "output = model.generate_content(\n",
        "    chat_history\n",
        ").candidates[0].content.parts[0].text\n",
        "\n",
        "print(output)"
      ],
      "metadata": {
        "id": "6OmKgqV0lUkb",
        "colab": {
          "base_uri": "https://localhost:8080/",
          "height": 35
        },
        "outputId": "5f68f3d4-cecf-4c9e-e0e3-177e8a53c9da"
      },
      "execution_count": 46,
      "outputs": [
        {
          "output_type": "stream",
          "name": "stdout",
          "text": [
            "<tool_call>{\"name\": \"compute_log\",\"arguments\": {\"x\": 34560}, \"id\": 2}</tool_call>\n"
          ]
        }
      ]
    },
    {
      "cell_type": "code",
      "source": [
        "chat_history.append(\n",
        "    {\n",
        "        \"role\": \"model\",\n",
        "        \"parts\": [\n",
        "            {\n",
        "                \"text\": output\n",
        "            }\n",
        "        ]\n",
        "    }\n",
        ")"
      ],
      "metadata": {
        "id": "4_J4bsWZlZN8"
      },
      "execution_count": 47,
      "outputs": []
    },
    {
      "cell_type": "markdown",
      "source": [
        "### ReAct Loop: Step 6"
      ],
      "metadata": {
        "id": "IZcuvWMslcJw"
      }
    },
    {
      "cell_type": "code",
      "source": [
        "tool_call = extract_tag_content(output, tag=\"tool_call\")\n",
        "tool_call = json.loads(tool_call.content[0])\n",
        "tool_result = available_tools[tool_call[\"name\"]].run(**tool_call[\"arguments\"])"
      ],
      "metadata": {
        "id": "Br8qBO13lawT"
      },
      "execution_count": 48,
      "outputs": []
    },
    {
      "cell_type": "code",
      "source": [
        "tool_result"
      ],
      "metadata": {
        "id": "6HT4wadulexT",
        "colab": {
          "base_uri": "https://localhost:8080/"
        },
        "outputId": "04d1fd06-1acc-425e-bc43-04e2f150031c"
      },
      "execution_count": 50,
      "outputs": [
        {
          "output_type": "execute_result",
          "data": {
            "text/plain": [
              "10.450452222917992"
            ]
          },
          "metadata": {},
          "execution_count": 50
        }
      ]
    },
    {
      "cell_type": "code",
      "source": [
        "assert tool_result == math.log((1234 + 5678) * 5)"
      ],
      "metadata": {
        "id": "jdLjhlDxlgMt"
      },
      "execution_count": 51,
      "outputs": []
    },
    {
      "cell_type": "code",
      "source": [
        "chat_history.append(\n",
        "    {\n",
        "        \"role\": \"user\",\n",
        "        \"parts\": [\n",
        "            {\n",
        "                \"text\": f\"<observation>{tool_result}</observation>\"\n",
        "            }\n",
        "        ]\n",
        "    }\n",
        ")"
      ],
      "metadata": {
        "id": "UMri-gHnlhBx"
      },
      "execution_count": 52,
      "outputs": []
    },
    {
      "cell_type": "markdown",
      "source": [
        "### ReAct Loop: Step 7"
      ],
      "metadata": {
        "id": "e6KuLNpJljh4"
      }
    },
    {
      "cell_type": "code",
      "source": [
        "output = model.generate_content(\n",
        "    chat_history\n",
        ").candidates[0].content.parts[0].text\n",
        "\n",
        "print(output)"
      ],
      "metadata": {
        "id": "dDpY3mrPliSo",
        "colab": {
          "base_uri": "https://localhost:8080/",
          "height": 216
        },
        "outputId": "b751300b-72f2-4016-d777-e16f48e6b579"
      },
      "execution_count": 53,
      "outputs": [
        {
          "output_type": "error",
          "ename": "AttributeError",
          "evalue": "'NoneType' object has no attribute 'chat'",
          "traceback": [
            "\u001b[0;31m---------------------------------------------------------------------------\u001b[0m",
            "\u001b[0;31mAttributeError\u001b[0m                            Traceback (most recent call last)",
            "\u001b[0;32m/tmp/ipython-input-3096827047.py\u001b[0m in \u001b[0;36m<cell line: 0>\u001b[0;34m()\u001b[0m\n\u001b[0;32m----> 1\u001b[0;31m output = client.chat.completions.create(\n\u001b[0m\u001b[1;32m      2\u001b[0m     \u001b[0mmessages\u001b[0m\u001b[0;34m=\u001b[0m\u001b[0mchat_history\u001b[0m\u001b[0;34m,\u001b[0m\u001b[0;34m\u001b[0m\u001b[0;34m\u001b[0m\u001b[0m\n\u001b[1;32m      3\u001b[0m     \u001b[0mmodel\u001b[0m\u001b[0;34m=\u001b[0m\u001b[0mmodel\u001b[0m\u001b[0;34m\u001b[0m\u001b[0;34m\u001b[0m\u001b[0m\n\u001b[1;32m      4\u001b[0m ).choices[0].message.content\n\u001b[1;32m      5\u001b[0m \u001b[0;34m\u001b[0m\u001b[0m\n",
            "\u001b[0;31mAttributeError\u001b[0m: 'NoneType' object has no attribute 'chat'"
          ]
        }
      ]
    },
    {
      "cell_type": "markdown",
      "source": [
        "## Building a ReAct Agent"
      ],
      "metadata": {
        "id": "6S4UoKBzlqQU"
      }
    },
    {
      "cell_type": "code",
      "source": [
        "# @title\n",
        "\"\"\"\n",
        "This is a collection of helper functions and methods we are going to use in\n",
        "the Agent implementation. You don't need to know the specific implementation\n",
        "of these to follow the Agent code. But, if you are curious, feel free to check\n",
        "them out.\n",
        "\"\"\"\n",
        "\n",
        "import re\n",
        "import time\n",
        "\n",
        "from colorama import Fore\n",
        "from colorama import Style\n",
        "\n",
        "from dataclasses import dataclass\n",
        "\n",
        "\n",
        "def completions_create(client, messages: list, model: str) -> str:\n",
        "    \"\"\"\n",
        "    Sends a request to the client's `completions.create` method to interact with the language model.\n",
        "\n",
        "    Args:\n",
        "        client (OpenAI): The OpenAI client object\n",
        "        messages (list[dict]): A list of message objects containing chat history for the model.\n",
        "        model (str): The model to use for generating tool calls and responses.\n",
        "\n",
        "    Returns:\n",
        "        str: The content of the model's response.\n",
        "    \"\"\"\n",
        "    output = model.generate_content(\n",
        "        messages\n",
        "    ).candidates[0].content.parts[0].text\n",
        "\n",
        "    return str(output)\n",
        "\n",
        "\n",
        "def build_prompt_structure(prompt: str, role: str, tag: str = \"\") -> dict:\n",
        "    \"\"\"\n",
        "    Builds a structured prompt that includes the role and content.\n",
        "\n",
        "    Args:\n",
        "        prompt (str): The actual content of the prompt.\n",
        "        role (str): The role of the speaker (e.g., user, assistant).\n",
        "\n",
        "    Returns:\n",
        "        dict: A dictionary representing the structured prompt.\n",
        "    \"\"\"\n",
        "    if tag:\n",
        "        prompt = f\"<{tag}>{prompt}</{tag}>\"\n",
        "    return {\"role\": role, \"parts\": [{\"text\": prompt}]}\n",
        "\n",
        "def update_chat_history(history: list, msg: str, role: str):\n",
        "    \"\"\"\n",
        "    Updates the chat history by appending the latest response.\n",
        "\n",
        "    Args:\n",
        "        history (list): The list representing the current chat history.\n",
        "        msg (str): The message to append.\n",
        "        role (str): The role type (e.g. 'user', 'assistant', 'system')\n",
        "    \"\"\"\n",
        "    history.append(build_prompt_structure(prompt=msg, role=role))\n",
        "\n",
        "\n",
        "class ChatHistory(list):\n",
        "    def __init__(self, messages: list | None = None, total_length: int = -1):\n",
        "        \"\"\"Initialise the queue with a fixed total length.\n",
        "\n",
        "        Args:\n",
        "            messages (list | None): A list of initial messages\n",
        "            total_length (int): The maximum number of messages the chat history can hold.\n",
        "        \"\"\"\n",
        "        if messages is None:\n",
        "            messages = []\n",
        "\n",
        "        super().__init__(messages)\n",
        "        self.total_length = total_length\n",
        "\n",
        "    def append(self, msg: str):\n",
        "        \"\"\"Add a message to the queue.\n",
        "\n",
        "        Args:\n",
        "            msg (str): The message to be added to the queue\n",
        "        \"\"\"\n",
        "        if len(self) == self.total_length:\n",
        "            self.pop(0)\n",
        "        super().append(msg)\n",
        "\n",
        "\n",
        "\n",
        "class FixedFirstChatHistory(ChatHistory):\n",
        "    def __init__(self, messages: list | None = None, total_length: int = -1):\n",
        "        \"\"\"Initialise the queue with a fixed total length.\n",
        "\n",
        "        Args:\n",
        "            messages (list | None): A list of initial messages\n",
        "            total_length (int): The maximum number of messages the chat history can hold.\n",
        "        \"\"\"\n",
        "        super().__init__(messages, total_length)\n",
        "\n",
        "    def append(self, msg: str):\n",
        "        \"\"\"Add a message to the queue. The first messaage will always stay fixed.\n",
        "\n",
        "        Args:\n",
        "            msg (str): The message to be added to the queue\n",
        "        \"\"\"\n",
        "        if len(self) == self.total_length:\n",
        "            self.pop(1)\n",
        "        super().append(msg)\n",
        "\n",
        "def fancy_print(message: str) -> None:\n",
        "    \"\"\"\n",
        "    Displays a fancy print message.\n",
        "\n",
        "    Args:\n",
        "        message (str): The message to display.\n",
        "    \"\"\"\n",
        "    print(Style.BRIGHT + Fore.CYAN + f\"\\n{'=' * 50}\")\n",
        "    print(Fore.MAGENTA + f\"{message}\")\n",
        "    print(Style.BRIGHT + Fore.CYAN + f\"{'=' * 50}\\n\")\n",
        "    time.sleep(0.5)\n",
        "\n",
        "\n",
        "def fancy_step_tracker(step: int, total_steps: int) -> None:\n",
        "    \"\"\"\n",
        "    Displays a fancy step tracker for each iteration of the generation-reflection loop.\n",
        "\n",
        "    Args:\n",
        "        step (int): The current step in the loop.\n",
        "        total_steps (int): The total number of steps in the loop.\n",
        "    \"\"\"\n",
        "    fancy_print(f\"STEP {step + 1}/{total_steps}\")\n",
        "\n",
        "\n",
        "@dataclass\n",
        "class TagContentResult:\n",
        "    \"\"\"\n",
        "    A data class to represent the result of extracting tag content.\n",
        "\n",
        "    Attributes:\n",
        "        content (List[str]): A list of strings containing the content found between the specified tags.\n",
        "        found (bool): A flag indicating whether any content was found for the given tag.\n",
        "    \"\"\"\n",
        "\n",
        "    content: list[str]\n",
        "    found: bool\n",
        "\n",
        "\n",
        "def extract_tag_content(text: str, tag: str) -> TagContentResult:\n",
        "    \"\"\"\n",
        "    Extracts all content enclosed by specified tags (e.g., <thought>, <response>, etc.).\n",
        "\n",
        "    Parameters:\n",
        "        text (str): The input string containing multiple potential tags.\n",
        "        tag (str): The name of the tag to search for (e.g., 'thought', 'response').\n",
        "\n",
        "    Returns:\n",
        "        dict: A dictionary with the following keys:\n",
        "            - 'content' (list): A list of strings containing the content found between the specified tags.\n",
        "            - 'found' (bool): A flag indicating whether any content was found for the given tag.\n",
        "    \"\"\"\n",
        "    # Build the regex pattern dynamically to find multiple occurrences of the tag\n",
        "    tag_pattern = rf\"<{tag}>(.*?)</{tag}>\"\n",
        "\n",
        "    # Use findall to capture all content between the specified tag\n",
        "    matched_contents = re.findall(tag_pattern, text, re.DOTALL)\n",
        "\n",
        "    # Return the dataclass instance with the result\n",
        "    return TagContentResult(\n",
        "        content=[content.strip() for content in matched_contents],\n",
        "        found=bool(matched_contents),\n",
        "    )\n"
      ],
      "metadata": {
        "id": "Qp3XIJsYl1cu"
      },
      "execution_count": 110,
      "outputs": []
    },
    {
      "cell_type": "code",
      "source": [
        "import json\n",
        "import re\n",
        "\n",
        "from colorama import Fore\n",
        "\n",
        "\n",
        "BASE_SYSTEM_PROMPT = \"\"\n",
        "\n",
        "\n",
        "REACT_SYSTEM_PROMPT = \"\"\"\n",
        "You operate by running a loop with the following steps: Thought, Action, Observation.\n",
        "You are provided with function signatures within <tools></tools> XML tags.\n",
        "You may call one or more functions to assist with the user query. Don' make assumptions about what values to plug\n",
        "into functions. Pay special attention to the properties 'types'. You should use those types as in a Python dict.\n",
        "\n",
        "For each question return a string within <thought></thought> which shows the thinking of LLM before deciding the <tool_call>.\n",
        "For each function call return a json object with function name and arguments within <tool_call></tool_call> XML tags as follows:\n",
        "\n",
        "<tool_call>\n",
        "{\"name\": <function-name>,\"arguments\": <args-dict>, \"id\": <monotonically-increasing-id>}\n",
        "</tool_call>\n",
        "\n",
        "Here are the available tools / actions:\n",
        "\n",
        "<tools>\n",
        "%s\n",
        "</tools>\n",
        "\n",
        "Example session:\n",
        "\n",
        "<question>What's the current temperature in Madrid?</question>\n",
        "<thought>I need to get the current weather in Madrid</thought>\n",
        "<tool_call>{\"name\": \"get_current_weather\",\"arguments\": {\"location\": \"Madrid\", \"unit\": \"celsius\"}, \"id\": 0}</tool_call>\n",
        "\n",
        "You will be called again with this:\n",
        "\n",
        "<observation>{0: {\"temperature\": 25, \"unit\": \"celsius\"}}</observation>\n",
        "\n",
        "You then output:\n",
        "\n",
        "<response>The current temperature in Madrid is 25 degrees Celsius</response>\n",
        "\n",
        "Additional constraints:\n",
        "\n",
        "- If the user asks you something unrelated to any of the tools above, answer freely enclosing your answer with <response></response> tags.\n",
        "- Make sure that output contains <thought> and <tool_call> as given in the Example Session.\n",
        "\"\"\"\n",
        "\n",
        "\n",
        "class ReactAgent:\n",
        "    \"\"\"\n",
        "    A class that represents an agent using the ReAct logic that interacts with tools to process\n",
        "    user inputs, make decisions, and execute tool calls. The agent can run interactive sessions,\n",
        "    collect tool signatures, and process multiple tool calls in a given round of interaction.\n",
        "\n",
        "    Attributes:\n",
        "        client (OpenAI): The OpenAI client used to handle model-based completions.\n",
        "        model (str): The name of the model used for generating responses. Default is \"gpt-4o\".\n",
        "        tools (list[Tool]): A list of Tool instances available for execution.\n",
        "        tools_dict (dict): A dictionary mapping tool names to their corresponding Tool instances.\n",
        "    \"\"\"\n",
        "\n",
        "    def __init__(\n",
        "        self,\n",
        "        tools: Tool | list[Tool],\n",
        "        model: str = \"gemini-2.5-flash\",\n",
        "        system_prompt: str = BASE_SYSTEM_PROMPT,\n",
        "    ) -> None:\n",
        "        self.client = genai.configure(api_key=gemini_key)\n",
        "\n",
        "        self.model = genai.GenerativeModel(model)\n",
        "        self.system_prompt = system_prompt\n",
        "        self.tools = tools if isinstance(tools, list) else [tools]\n",
        "        self.tools_dict = {tool.name: tool for tool in self.tools}\n",
        "\n",
        "    def add_tool_signatures(self) -> str:\n",
        "        \"\"\"\n",
        "        Collects the function signatures of all available tools.\n",
        "\n",
        "        Returns:\n",
        "            str: A concatenated string of all tool function signatures in JSON format.\n",
        "        \"\"\"\n",
        "        return \"\".join([tool.fn_signature for tool in self.tools])\n",
        "\n",
        "    def process_tool_calls(self, tool_calls_content: list) -> dict:\n",
        "        \"\"\"\n",
        "        Processes each tool call, validates arguments, executes the tools, and collects results.\n",
        "\n",
        "        Args:\n",
        "            tool_calls_content (list): List of strings, each representing a tool call in JSON format.\n",
        "\n",
        "        Returns:\n",
        "            dict: A dictionary where the keys are tool call IDs and values are the results from the tools.\n",
        "        \"\"\"\n",
        "        observations = {}\n",
        "        for tool_call_str in tool_calls_content:\n",
        "            tool_call = json.loads(tool_call_str)\n",
        "            tool_name = tool_call[\"name\"]\n",
        "            tool = self.tools_dict[tool_name]\n",
        "\n",
        "            print(Fore.GREEN + f\"\\nUsing Tool: {tool_name}\")\n",
        "\n",
        "            # Validate and execute the tool call\n",
        "            validated_tool_call = validate_arguments(\n",
        "                tool_call, json.loads(tool.fn_signature)\n",
        "            )\n",
        "            print(Fore.GREEN + f\"\\nTool call dict: \\n{validated_tool_call}\")\n",
        "\n",
        "            result = tool.run(**validated_tool_call[\"arguments\"])\n",
        "            print(Fore.GREEN + f\"\\nTool result: \\n{result}\")\n",
        "\n",
        "            # Store the result using the tool call ID\n",
        "            observations[validated_tool_call[\"id\"]] = result\n",
        "\n",
        "        return observations\n",
        "\n",
        "    def run(\n",
        "        self,\n",
        "        user_msg: str,\n",
        "        max_rounds: int = 10,\n",
        "    ) -> str:\n",
        "        \"\"\"\n",
        "        Executes a user interaction session, where the agent processes user input, generates responses,\n",
        "        handles tool calls, and updates chat history until a final response is ready or the maximum\n",
        "        number of rounds is reached.\n",
        "\n",
        "        Args:\n",
        "            user_msg (str): The user's input message to start the interaction.\n",
        "            max_rounds (int, optional): Maximum number of interaction rounds the agent should perform. Default is 10.\n",
        "\n",
        "        Returns:\n",
        "            str: The final response generated by the agent after processing user input and any tool calls.\n",
        "        \"\"\"\n",
        "        user_prompt = build_prompt_structure(\n",
        "            prompt=user_msg, role=\"user\", tag=\"question\"\n",
        "        )\n",
        "\n",
        "        if self.tools:\n",
        "            self.system_prompt += (\n",
        "                \"\\n\" + REACT_SYSTEM_PROMPT % self.add_tool_signatures()\n",
        "            )\n",
        "\n",
        "        chat_history = ChatHistory(\n",
        "            [\n",
        "                build_prompt_structure(\n",
        "                    prompt=self.system_prompt,\n",
        "                    role=\"model\",\n",
        "                ),\n",
        "                user_prompt,\n",
        "            ]\n",
        "        )\n",
        "\n",
        "        if self.tools:\n",
        "            # Run the ReAct loop for max_rounds\n",
        "            for _ in range(max_rounds):\n",
        "                completion = completions_create(self.client, chat_history, self.model)\n",
        "\n",
        "                response = extract_tag_content(str(completion), \"response\")\n",
        "                if response.found:\n",
        "                    return response.content[0]\n",
        "\n",
        "                thought = extract_tag_content(str(completion), \"thought\")\n",
        "                tool_calls = extract_tag_content(str(completion), \"tool_call\")\n",
        "\n",
        "                update_chat_history(chat_history, completion, \"model\")\n",
        "\n",
        "                if thought.found:\n",
        "                  print(Fore.MAGENTA + f\"\\nThought: {thought.content[0]}\")\n",
        "\n",
        "                if tool_calls.found:\n",
        "                    observations = self.process_tool_calls(tool_calls.content)\n",
        "                    print(Fore.BLUE + f\"\\nObservations: {observations}\")\n",
        "                    update_chat_history(chat_history, f\"{observations}\", \"user\")\n",
        "\n",
        "        return completions_create(self.client, chat_history, self.model)\n"
      ],
      "metadata": {
        "id": "mqeCY-2jlmZb"
      },
      "execution_count": 114,
      "outputs": []
    },
    {
      "cell_type": "code",
      "source": [
        "agent = ReactAgent(tools=[sum_two_elements, multiply_two_elements, compute_log])"
      ],
      "metadata": {
        "id": "gnno6RSXmUvk"
      },
      "execution_count": 115,
      "outputs": []
    },
    {
      "cell_type": "code",
      "source": [
        "agent.run(user_msg=\"I want to calculate the sum of 555 and 555 and multiply the result by 5. Then, I want to take the logarithm of this result\")"
      ],
      "metadata": {
        "id": "vPyWxLjKmXIv",
        "colab": {
          "base_uri": "https://localhost:8080/",
          "height": 571
        },
        "outputId": "f43973da-432a-4699-96bc-ee2732697484"
      },
      "execution_count": 116,
      "outputs": [
        {
          "output_type": "stream",
          "name": "stdout",
          "text": [
            "\u001b[32m\n",
            "Using Tool: sum_two_elements\n",
            "\u001b[32m\n",
            "Tool call dict: \n",
            "{'name': 'sum_two_elements', 'arguments': {'a': 555, 'b': 555}, 'id': 0}\n",
            "\u001b[32m\n",
            "Tool result: \n",
            "1110\n",
            "\u001b[34m\n",
            "Observations: {0: 1110}\n",
            "\u001b[32m\n",
            "Using Tool: multiply_two_elements\n",
            "\u001b[32m\n",
            "Tool call dict: \n",
            "{'name': 'multiply_two_elements', 'arguments': {'a': 1110, 'b': 5}, 'id': 1}\n",
            "\u001b[32m\n",
            "Tool result: \n",
            "5550\n",
            "\u001b[34m\n",
            "Observations: {1: 5550}\n",
            "\u001b[32m\n",
            "Using Tool: compute_log\n",
            "\u001b[32m\n",
            "Tool call dict: \n",
            "{'name': 'compute_log', 'arguments': {'x': 5550}, 'id': 2}\n",
            "\u001b[32m\n",
            "Tool result: \n",
            "8.62155320674048\n",
            "\u001b[34m\n",
            "Observations: {2: 8.62155320674048}\n"
          ]
        },
        {
          "output_type": "execute_result",
          "data": {
            "text/plain": [
              "'The sum of 555 and 555 is 1110. When multiplied by 5, the result is 5550. The logarithm of 5550 is approximately 8.62.'"
            ],
            "application/vnd.google.colaboratory.intrinsic+json": {
              "type": "string"
            }
          },
          "metadata": {},
          "execution_count": 116
        }
      ]
    },
    {
      "cell_type": "markdown",
      "source": [
        "We did it!! A ReAct Agent working as expected, completely from Scratch! 🚀🚀🚀🚀"
      ],
      "metadata": {
        "id": "NjzlcPOnmbod"
      }
    },
    {
      "cell_type": "code",
      "source": [
        "import json\n",
        "\n",
        "model_texts = [message[\"parts\"][0][\"text\"] for message in chat_history if message[\"role\"] == \"model\"]\n",
        "print(json.dumps(model_texts, indent=2))"
      ],
      "metadata": {
        "colab": {
          "base_uri": "https://localhost:8080/"
        },
        "id": "HhLRQh1WGSxc",
        "outputId": "aa2a7c48-0d8c-4902-e6ab-0f9e292ef80b"
      },
      "execution_count": 121,
      "outputs": [
        {
          "output_type": "stream",
          "name": "stdout",
          "text": [
            "[\n",
            "  \"\\nYou are a function calling AI model. You operate by running a loop with the following steps: Thought, Action, Observation.\\nYou are provided with function signatures within <tools></tools> XML tags.\\nYou may call one or more functions to assist with the user query. Don' make assumptions about what values to plug\\ninto functions. Pay special attention to the properties 'types'. You should use those types as in a Python dict.\\n\\nFor each function call return a json object with function name and arguments within <tool_call></tool_call> XML tags as follows:\\n\\n<tool_call>\\n{\\\"name\\\": <function-name>,\\\"arguments\\\": <args-dict>, \\\"id\\\": <monotonically-increasing-id>}\\n</tool_call>\\n\\nHere are the available tools / actions:\\n\\n<tools>\\n{\\\"name\\\": \\\"sum_two_elements\\\", \\\"description\\\": \\\"\\\\n    Computes the sum of two integers.\\\\n\\\\n    Args:\\\\n        a (int): The first integer to be summed.\\\\n        b (int): The second integer to be summed.\\\\n\\\\n    Returns:\\\\n        int: The sum of `a` and `b`.\\\\n    \\\", \\\"parameters\\\": {\\\"properties\\\": {\\\"a\\\": {\\\"type\\\": \\\"int\\\"}, \\\"b\\\": {\\\"type\\\": \\\"int\\\"}}}},\\n{\\\"name\\\": \\\"multiply_two_elements\\\", \\\"description\\\": \\\"\\\\n    Multiplies two integers.\\\\n\\\\n    Args:\\\\n        a (int): The first integer to multiply.\\\\n        b (int): The second integer to multiply.\\\\n\\\\n    Returns:\\\\n        int: The product of `a` and `b`.\\\\n    \\\", \\\"parameters\\\": {\\\"properties\\\": {\\\"a\\\": {\\\"type\\\": \\\"int\\\"}, \\\"b\\\": {\\\"type\\\": \\\"int\\\"}}}},\\n{\\\"name\\\": \\\"compute_log\\\", \\\"description\\\": \\\"\\\\n    Computes the logarithm of an integer `x` with an optional base.\\\\n\\\\n    Args:\\\\n        x (int): The integer value for which the logarithm is computed. Must be greater than 0.\\\\n\\\\n    Returns:\\\\n        float: The logarithm of `x` to the specified `base`.\\\\n    \\\", \\\"parameters\\\": {\\\"properties\\\": {\\\"x\\\": {\\\"type\\\": \\\"int\\\"}}}}\\n</tools>\\n\\nExample session:\\n\\n<question>What's the current temperature in Madrid?</question>\\n<thought>I need to get the current weather in Madrid</thought>\\n<tool_call>{\\\"name\\\": \\\"get_current_weather\\\",\\\"arguments\\\": {\\\"location\\\": \\\"Madrid\\\", \\\"unit\\\": \\\"celsius\\\"}, \\\"id\\\": 0}</tool_call>\\n\\nYou will be called again with this:\\n\\n<observation>{0: {\\\"temperature\\\": 25, \\\"unit\\\": \\\"celsius\\\"}}</observation>\\n\\nYou then output:\\n\\n<response>The current temperature in Madrid is 25 degrees Celsius</response>\\n\\nAdditional constraints:\\n\\n- If the user asks you something unrelated to any of the tools above, answer freely enclosing your answer with <response></response> tags.\\n\"\n",
            "]\n"
          ]
        }
      ]
    }
  ]
}