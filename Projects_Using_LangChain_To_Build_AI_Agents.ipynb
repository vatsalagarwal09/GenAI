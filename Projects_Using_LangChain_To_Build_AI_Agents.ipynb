{
  "cells": [
    {
      "cell_type": "markdown",
      "metadata": {
        "id": "view-in-github",
        "colab_type": "text"
      },
      "source": [
        "<a href=\"https://colab.research.google.com/github/vatsalagarwal09/GenAI/blob/main/Projects_Using_LangChain_To_Build_AI_Agents.ipynb\" target=\"_parent\"><img src=\"https://colab.research.google.com/assets/colab-badge.svg\" alt=\"Open In Colab\"/></a>"
      ]
    },
    {
      "cell_type": "markdown",
      "source": [
        "# Projects\n",
        "In this notebook you will leverage ChatGPT and LangChain to solve and do a few mini-projects based on some real-world scenarios:\n",
        "\n",
        "\n",
        "\n",
        "1.   Mini-Project 1: Review Analyst\n",
        "2.  Mini-Project 2: Research Paper Analyst\n",
        "3. Mini-Project 3: Social Media Marketing Analyst\n",
        "4. Mini-Project 4: IT Support Analyst"
      ],
      "metadata": {
        "id": "5M9viyEWLFKa"
      }
    },
    {
      "cell_type": "code",
      "execution_count": 1,
      "metadata": {
        "colab": {
          "base_uri": "https://localhost:8080/"
        },
        "id": "blZcL1TAwU_E",
        "outputId": "754cdc32-e396-4bd8-e3cb-70119dc63158",
        "collapsed": true
      },
      "outputs": [
        {
          "output_type": "stream",
          "name": "stdout",
          "text": [
            "Collecting langchain==0.3.21\n",
            "  Downloading langchain-0.3.21-py3-none-any.whl.metadata (7.8 kB)\n",
            "Requirement already satisfied: langchain-core<1.0.0,>=0.3.45 in /usr/local/lib/python3.11/dist-packages (from langchain==0.3.21) (0.3.71)\n",
            "Requirement already satisfied: langchain-text-splitters<1.0.0,>=0.3.7 in /usr/local/lib/python3.11/dist-packages (from langchain==0.3.21) (0.3.8)\n",
            "Collecting langsmith<0.4,>=0.1.17 (from langchain==0.3.21)\n",
            "  Downloading langsmith-0.3.45-py3-none-any.whl.metadata (15 kB)\n",
            "Requirement already satisfied: pydantic<3.0.0,>=2.7.4 in /usr/local/lib/python3.11/dist-packages (from langchain==0.3.21) (2.11.7)\n",
            "Requirement already satisfied: SQLAlchemy<3,>=1.4 in /usr/local/lib/python3.11/dist-packages (from langchain==0.3.21) (2.0.41)\n",
            "Requirement already satisfied: requests<3,>=2 in /usr/local/lib/python3.11/dist-packages (from langchain==0.3.21) (2.32.3)\n",
            "Requirement already satisfied: PyYAML>=5.3 in /usr/local/lib/python3.11/dist-packages (from langchain==0.3.21) (6.0.2)\n",
            "Requirement already satisfied: tenacity!=8.4.0,<10.0.0,>=8.1.0 in /usr/local/lib/python3.11/dist-packages (from langchain-core<1.0.0,>=0.3.45->langchain==0.3.21) (8.5.0)\n",
            "Requirement already satisfied: jsonpatch<2.0,>=1.33 in /usr/local/lib/python3.11/dist-packages (from langchain-core<1.0.0,>=0.3.45->langchain==0.3.21) (1.33)\n",
            "Requirement already satisfied: typing-extensions>=4.7 in /usr/local/lib/python3.11/dist-packages (from langchain-core<1.0.0,>=0.3.45->langchain==0.3.21) (4.14.1)\n",
            "Requirement already satisfied: packaging>=23.2 in /usr/local/lib/python3.11/dist-packages (from langchain-core<1.0.0,>=0.3.45->langchain==0.3.21) (25.0)\n",
            "Requirement already satisfied: httpx<1,>=0.23.0 in /usr/local/lib/python3.11/dist-packages (from langsmith<0.4,>=0.1.17->langchain==0.3.21) (0.28.1)\n",
            "Requirement already satisfied: orjson<4.0.0,>=3.9.14 in /usr/local/lib/python3.11/dist-packages (from langsmith<0.4,>=0.1.17->langchain==0.3.21) (3.11.0)\n",
            "Requirement already satisfied: requests-toolbelt<2.0.0,>=1.0.0 in /usr/local/lib/python3.11/dist-packages (from langsmith<0.4,>=0.1.17->langchain==0.3.21) (1.0.0)\n",
            "Requirement already satisfied: zstandard<0.24.0,>=0.23.0 in /usr/local/lib/python3.11/dist-packages (from langsmith<0.4,>=0.1.17->langchain==0.3.21) (0.23.0)\n",
            "Requirement already satisfied: annotated-types>=0.6.0 in /usr/local/lib/python3.11/dist-packages (from pydantic<3.0.0,>=2.7.4->langchain==0.3.21) (0.7.0)\n",
            "Requirement already satisfied: pydantic-core==2.33.2 in /usr/local/lib/python3.11/dist-packages (from pydantic<3.0.0,>=2.7.4->langchain==0.3.21) (2.33.2)\n",
            "Requirement already satisfied: typing-inspection>=0.4.0 in /usr/local/lib/python3.11/dist-packages (from pydantic<3.0.0,>=2.7.4->langchain==0.3.21) (0.4.1)\n",
            "Requirement already satisfied: charset-normalizer<4,>=2 in /usr/local/lib/python3.11/dist-packages (from requests<3,>=2->langchain==0.3.21) (3.4.2)\n",
            "Requirement already satisfied: idna<4,>=2.5 in /usr/local/lib/python3.11/dist-packages (from requests<3,>=2->langchain==0.3.21) (3.10)\n",
            "Requirement already satisfied: urllib3<3,>=1.21.1 in /usr/local/lib/python3.11/dist-packages (from requests<3,>=2->langchain==0.3.21) (2.5.0)\n",
            "Requirement already satisfied: certifi>=2017.4.17 in /usr/local/lib/python3.11/dist-packages (from requests<3,>=2->langchain==0.3.21) (2025.7.14)\n",
            "Requirement already satisfied: greenlet>=1 in /usr/local/lib/python3.11/dist-packages (from SQLAlchemy<3,>=1.4->langchain==0.3.21) (3.2.3)\n",
            "Requirement already satisfied: anyio in /usr/local/lib/python3.11/dist-packages (from httpx<1,>=0.23.0->langsmith<0.4,>=0.1.17->langchain==0.3.21) (4.9.0)\n",
            "Requirement already satisfied: httpcore==1.* in /usr/local/lib/python3.11/dist-packages (from httpx<1,>=0.23.0->langsmith<0.4,>=0.1.17->langchain==0.3.21) (1.0.9)\n",
            "Requirement already satisfied: h11>=0.16 in /usr/local/lib/python3.11/dist-packages (from httpcore==1.*->httpx<1,>=0.23.0->langsmith<0.4,>=0.1.17->langchain==0.3.21) (0.16.0)\n",
            "Requirement already satisfied: jsonpointer>=1.9 in /usr/local/lib/python3.11/dist-packages (from jsonpatch<2.0,>=1.33->langchain-core<1.0.0,>=0.3.45->langchain==0.3.21) (3.0.0)\n",
            "Requirement already satisfied: sniffio>=1.1 in /usr/local/lib/python3.11/dist-packages (from anyio->httpx<1,>=0.23.0->langsmith<0.4,>=0.1.17->langchain==0.3.21) (1.3.1)\n",
            "Downloading langchain-0.3.21-py3-none-any.whl (1.0 MB)\n",
            "\u001b[2K   \u001b[90m━━━━━━━━━━━━━━━━━━━━━━━━━━━━━━━━━━━━━━━━\u001b[0m \u001b[32m1.0/1.0 MB\u001b[0m \u001b[31m47.1 MB/s\u001b[0m eta \u001b[36m0:00:00\u001b[0m\n",
            "\u001b[?25hDownloading langsmith-0.3.45-py3-none-any.whl (363 kB)\n",
            "\u001b[2K   \u001b[90m━━━━━━━━━━━━━━━━━━━━━━━━━━━━━━━━━━━━━━━━\u001b[0m \u001b[32m363.0/363.0 kB\u001b[0m \u001b[31m30.8 MB/s\u001b[0m eta \u001b[36m0:00:00\u001b[0m\n",
            "\u001b[?25hInstalling collected packages: langsmith, langchain\n",
            "  Attempting uninstall: langsmith\n",
            "    Found existing installation: langsmith 0.4.8\n",
            "    Uninstalling langsmith-0.4.8:\n",
            "      Successfully uninstalled langsmith-0.4.8\n",
            "  Attempting uninstall: langchain\n",
            "    Found existing installation: langchain 0.3.26\n",
            "    Uninstalling langchain-0.3.26:\n",
            "      Successfully uninstalled langchain-0.3.26\n",
            "Successfully installed langchain-0.3.21 langsmith-0.3.45\n",
            "Collecting langchain-openai==0.3.9\n",
            "  Downloading langchain_openai-0.3.9-py3-none-any.whl.metadata (2.3 kB)\n",
            "Requirement already satisfied: langchain-core<1.0.0,>=0.3.45 in /usr/local/lib/python3.11/dist-packages (from langchain-openai==0.3.9) (0.3.71)\n",
            "Requirement already satisfied: openai<2.0.0,>=1.66.3 in /usr/local/lib/python3.11/dist-packages (from langchain-openai==0.3.9) (1.97.1)\n",
            "Requirement already satisfied: tiktoken<1,>=0.7 in /usr/local/lib/python3.11/dist-packages (from langchain-openai==0.3.9) (0.9.0)\n",
            "Requirement already satisfied: langsmith>=0.3.45 in /usr/local/lib/python3.11/dist-packages (from langchain-core<1.0.0,>=0.3.45->langchain-openai==0.3.9) (0.3.45)\n",
            "Requirement already satisfied: tenacity!=8.4.0,<10.0.0,>=8.1.0 in /usr/local/lib/python3.11/dist-packages (from langchain-core<1.0.0,>=0.3.45->langchain-openai==0.3.9) (8.5.0)\n",
            "Requirement already satisfied: jsonpatch<2.0,>=1.33 in /usr/local/lib/python3.11/dist-packages (from langchain-core<1.0.0,>=0.3.45->langchain-openai==0.3.9) (1.33)\n",
            "Requirement already satisfied: PyYAML>=5.3 in /usr/local/lib/python3.11/dist-packages (from langchain-core<1.0.0,>=0.3.45->langchain-openai==0.3.9) (6.0.2)\n",
            "Requirement already satisfied: typing-extensions>=4.7 in /usr/local/lib/python3.11/dist-packages (from langchain-core<1.0.0,>=0.3.45->langchain-openai==0.3.9) (4.14.1)\n",
            "Requirement already satisfied: packaging>=23.2 in /usr/local/lib/python3.11/dist-packages (from langchain-core<1.0.0,>=0.3.45->langchain-openai==0.3.9) (25.0)\n",
            "Requirement already satisfied: pydantic>=2.7.4 in /usr/local/lib/python3.11/dist-packages (from langchain-core<1.0.0,>=0.3.45->langchain-openai==0.3.9) (2.11.7)\n",
            "Requirement already satisfied: anyio<5,>=3.5.0 in /usr/local/lib/python3.11/dist-packages (from openai<2.0.0,>=1.66.3->langchain-openai==0.3.9) (4.9.0)\n",
            "Requirement already satisfied: distro<2,>=1.7.0 in /usr/local/lib/python3.11/dist-packages (from openai<2.0.0,>=1.66.3->langchain-openai==0.3.9) (1.9.0)\n",
            "Requirement already satisfied: httpx<1,>=0.23.0 in /usr/local/lib/python3.11/dist-packages (from openai<2.0.0,>=1.66.3->langchain-openai==0.3.9) (0.28.1)\n",
            "Requirement already satisfied: jiter<1,>=0.4.0 in /usr/local/lib/python3.11/dist-packages (from openai<2.0.0,>=1.66.3->langchain-openai==0.3.9) (0.10.0)\n",
            "Requirement already satisfied: sniffio in /usr/local/lib/python3.11/dist-packages (from openai<2.0.0,>=1.66.3->langchain-openai==0.3.9) (1.3.1)\n",
            "Requirement already satisfied: tqdm>4 in /usr/local/lib/python3.11/dist-packages (from openai<2.0.0,>=1.66.3->langchain-openai==0.3.9) (4.67.1)\n",
            "Requirement already satisfied: regex>=2022.1.18 in /usr/local/lib/python3.11/dist-packages (from tiktoken<1,>=0.7->langchain-openai==0.3.9) (2024.11.6)\n",
            "Requirement already satisfied: requests>=2.26.0 in /usr/local/lib/python3.11/dist-packages (from tiktoken<1,>=0.7->langchain-openai==0.3.9) (2.32.3)\n",
            "Requirement already satisfied: idna>=2.8 in /usr/local/lib/python3.11/dist-packages (from anyio<5,>=3.5.0->openai<2.0.0,>=1.66.3->langchain-openai==0.3.9) (3.10)\n",
            "Requirement already satisfied: certifi in /usr/local/lib/python3.11/dist-packages (from httpx<1,>=0.23.0->openai<2.0.0,>=1.66.3->langchain-openai==0.3.9) (2025.7.14)\n",
            "Requirement already satisfied: httpcore==1.* in /usr/local/lib/python3.11/dist-packages (from httpx<1,>=0.23.0->openai<2.0.0,>=1.66.3->langchain-openai==0.3.9) (1.0.9)\n",
            "Requirement already satisfied: h11>=0.16 in /usr/local/lib/python3.11/dist-packages (from httpcore==1.*->httpx<1,>=0.23.0->openai<2.0.0,>=1.66.3->langchain-openai==0.3.9) (0.16.0)\n",
            "Requirement already satisfied: jsonpointer>=1.9 in /usr/local/lib/python3.11/dist-packages (from jsonpatch<2.0,>=1.33->langchain-core<1.0.0,>=0.3.45->langchain-openai==0.3.9) (3.0.0)\n",
            "Requirement already satisfied: orjson<4.0.0,>=3.9.14 in /usr/local/lib/python3.11/dist-packages (from langsmith>=0.3.45->langchain-core<1.0.0,>=0.3.45->langchain-openai==0.3.9) (3.11.0)\n",
            "Requirement already satisfied: requests-toolbelt<2.0.0,>=1.0.0 in /usr/local/lib/python3.11/dist-packages (from langsmith>=0.3.45->langchain-core<1.0.0,>=0.3.45->langchain-openai==0.3.9) (1.0.0)\n",
            "Requirement already satisfied: zstandard<0.24.0,>=0.23.0 in /usr/local/lib/python3.11/dist-packages (from langsmith>=0.3.45->langchain-core<1.0.0,>=0.3.45->langchain-openai==0.3.9) (0.23.0)\n",
            "Requirement already satisfied: annotated-types>=0.6.0 in /usr/local/lib/python3.11/dist-packages (from pydantic>=2.7.4->langchain-core<1.0.0,>=0.3.45->langchain-openai==0.3.9) (0.7.0)\n",
            "Requirement already satisfied: pydantic-core==2.33.2 in /usr/local/lib/python3.11/dist-packages (from pydantic>=2.7.4->langchain-core<1.0.0,>=0.3.45->langchain-openai==0.3.9) (2.33.2)\n",
            "Requirement already satisfied: typing-inspection>=0.4.0 in /usr/local/lib/python3.11/dist-packages (from pydantic>=2.7.4->langchain-core<1.0.0,>=0.3.45->langchain-openai==0.3.9) (0.4.1)\n",
            "Requirement already satisfied: charset-normalizer<4,>=2 in /usr/local/lib/python3.11/dist-packages (from requests>=2.26.0->tiktoken<1,>=0.7->langchain-openai==0.3.9) (3.4.2)\n",
            "Requirement already satisfied: urllib3<3,>=1.21.1 in /usr/local/lib/python3.11/dist-packages (from requests>=2.26.0->tiktoken<1,>=0.7->langchain-openai==0.3.9) (2.5.0)\n",
            "Downloading langchain_openai-0.3.9-py3-none-any.whl (60 kB)\n",
            "\u001b[2K   \u001b[90m━━━━━━━━━━━━━━━━━━━━━━━━━━━━━━━━━━━━━━━━\u001b[0m \u001b[32m60.9/60.9 kB\u001b[0m \u001b[31m5.2 MB/s\u001b[0m eta \u001b[36m0:00:00\u001b[0m\n",
            "\u001b[?25hInstalling collected packages: langchain-openai\n",
            "Successfully installed langchain-openai-0.3.9\n",
            "Collecting langchain-community==0.3.19\n",
            "  Downloading langchain_community-0.3.19-py3-none-any.whl.metadata (2.4 kB)\n",
            "Requirement already satisfied: langchain-core<1.0.0,>=0.3.41 in /usr/local/lib/python3.11/dist-packages (from langchain-community==0.3.19) (0.3.71)\n",
            "Requirement already satisfied: langchain<1.0.0,>=0.3.20 in /usr/local/lib/python3.11/dist-packages (from langchain-community==0.3.19) (0.3.21)\n",
            "Requirement already satisfied: SQLAlchemy<3,>=1.4 in /usr/local/lib/python3.11/dist-packages (from langchain-community==0.3.19) (2.0.41)\n",
            "Requirement already satisfied: requests<3,>=2 in /usr/local/lib/python3.11/dist-packages (from langchain-community==0.3.19) (2.32.3)\n",
            "Requirement already satisfied: PyYAML>=5.3 in /usr/local/lib/python3.11/dist-packages (from langchain-community==0.3.19) (6.0.2)\n",
            "Requirement already satisfied: aiohttp<4.0.0,>=3.8.3 in /usr/local/lib/python3.11/dist-packages (from langchain-community==0.3.19) (3.12.14)\n",
            "Requirement already satisfied: tenacity!=8.4.0,<10,>=8.1.0 in /usr/local/lib/python3.11/dist-packages (from langchain-community==0.3.19) (8.5.0)\n",
            "Collecting dataclasses-json<0.7,>=0.5.7 (from langchain-community==0.3.19)\n",
            "  Downloading dataclasses_json-0.6.7-py3-none-any.whl.metadata (25 kB)\n",
            "Collecting pydantic-settings<3.0.0,>=2.4.0 (from langchain-community==0.3.19)\n",
            "  Downloading pydantic_settings-2.10.1-py3-none-any.whl.metadata (3.4 kB)\n",
            "Requirement already satisfied: langsmith<0.4,>=0.1.125 in /usr/local/lib/python3.11/dist-packages (from langchain-community==0.3.19) (0.3.45)\n",
            "Collecting httpx-sse<1.0.0,>=0.4.0 (from langchain-community==0.3.19)\n",
            "  Downloading httpx_sse-0.4.1-py3-none-any.whl.metadata (9.4 kB)\n",
            "Requirement already satisfied: numpy<3,>=1.26.2 in /usr/local/lib/python3.11/dist-packages (from langchain-community==0.3.19) (2.0.2)\n",
            "Requirement already satisfied: aiohappyeyeballs>=2.5.0 in /usr/local/lib/python3.11/dist-packages (from aiohttp<4.0.0,>=3.8.3->langchain-community==0.3.19) (2.6.1)\n",
            "Requirement already satisfied: aiosignal>=1.4.0 in /usr/local/lib/python3.11/dist-packages (from aiohttp<4.0.0,>=3.8.3->langchain-community==0.3.19) (1.4.0)\n",
            "Requirement already satisfied: attrs>=17.3.0 in /usr/local/lib/python3.11/dist-packages (from aiohttp<4.0.0,>=3.8.3->langchain-community==0.3.19) (25.3.0)\n",
            "Requirement already satisfied: frozenlist>=1.1.1 in /usr/local/lib/python3.11/dist-packages (from aiohttp<4.0.0,>=3.8.3->langchain-community==0.3.19) (1.7.0)\n",
            "Requirement already satisfied: multidict<7.0,>=4.5 in /usr/local/lib/python3.11/dist-packages (from aiohttp<4.0.0,>=3.8.3->langchain-community==0.3.19) (6.6.3)\n",
            "Requirement already satisfied: propcache>=0.2.0 in /usr/local/lib/python3.11/dist-packages (from aiohttp<4.0.0,>=3.8.3->langchain-community==0.3.19) (0.3.2)\n",
            "Requirement already satisfied: yarl<2.0,>=1.17.0 in /usr/local/lib/python3.11/dist-packages (from aiohttp<4.0.0,>=3.8.3->langchain-community==0.3.19) (1.20.1)\n",
            "Collecting marshmallow<4.0.0,>=3.18.0 (from dataclasses-json<0.7,>=0.5.7->langchain-community==0.3.19)\n",
            "  Downloading marshmallow-3.26.1-py3-none-any.whl.metadata (7.3 kB)\n",
            "Collecting typing-inspect<1,>=0.4.0 (from dataclasses-json<0.7,>=0.5.7->langchain-community==0.3.19)\n",
            "  Downloading typing_inspect-0.9.0-py3-none-any.whl.metadata (1.5 kB)\n",
            "Requirement already satisfied: langchain-text-splitters<1.0.0,>=0.3.7 in /usr/local/lib/python3.11/dist-packages (from langchain<1.0.0,>=0.3.20->langchain-community==0.3.19) (0.3.8)\n",
            "Requirement already satisfied: pydantic<3.0.0,>=2.7.4 in /usr/local/lib/python3.11/dist-packages (from langchain<1.0.0,>=0.3.20->langchain-community==0.3.19) (2.11.7)\n",
            "Requirement already satisfied: jsonpatch<2.0,>=1.33 in /usr/local/lib/python3.11/dist-packages (from langchain-core<1.0.0,>=0.3.41->langchain-community==0.3.19) (1.33)\n",
            "Requirement already satisfied: typing-extensions>=4.7 in /usr/local/lib/python3.11/dist-packages (from langchain-core<1.0.0,>=0.3.41->langchain-community==0.3.19) (4.14.1)\n",
            "Requirement already satisfied: packaging>=23.2 in /usr/local/lib/python3.11/dist-packages (from langchain-core<1.0.0,>=0.3.41->langchain-community==0.3.19) (25.0)\n",
            "Requirement already satisfied: httpx<1,>=0.23.0 in /usr/local/lib/python3.11/dist-packages (from langsmith<0.4,>=0.1.125->langchain-community==0.3.19) (0.28.1)\n",
            "Requirement already satisfied: orjson<4.0.0,>=3.9.14 in /usr/local/lib/python3.11/dist-packages (from langsmith<0.4,>=0.1.125->langchain-community==0.3.19) (3.11.0)\n",
            "Requirement already satisfied: requests-toolbelt<2.0.0,>=1.0.0 in /usr/local/lib/python3.11/dist-packages (from langsmith<0.4,>=0.1.125->langchain-community==0.3.19) (1.0.0)\n",
            "Requirement already satisfied: zstandard<0.24.0,>=0.23.0 in /usr/local/lib/python3.11/dist-packages (from langsmith<0.4,>=0.1.125->langchain-community==0.3.19) (0.23.0)\n",
            "Collecting python-dotenv>=0.21.0 (from pydantic-settings<3.0.0,>=2.4.0->langchain-community==0.3.19)\n",
            "  Downloading python_dotenv-1.1.1-py3-none-any.whl.metadata (24 kB)\n",
            "Requirement already satisfied: typing-inspection>=0.4.0 in /usr/local/lib/python3.11/dist-packages (from pydantic-settings<3.0.0,>=2.4.0->langchain-community==0.3.19) (0.4.1)\n",
            "Requirement already satisfied: charset-normalizer<4,>=2 in /usr/local/lib/python3.11/dist-packages (from requests<3,>=2->langchain-community==0.3.19) (3.4.2)\n",
            "Requirement already satisfied: idna<4,>=2.5 in /usr/local/lib/python3.11/dist-packages (from requests<3,>=2->langchain-community==0.3.19) (3.10)\n",
            "Requirement already satisfied: urllib3<3,>=1.21.1 in /usr/local/lib/python3.11/dist-packages (from requests<3,>=2->langchain-community==0.3.19) (2.5.0)\n",
            "Requirement already satisfied: certifi>=2017.4.17 in /usr/local/lib/python3.11/dist-packages (from requests<3,>=2->langchain-community==0.3.19) (2025.7.14)\n",
            "Requirement already satisfied: greenlet>=1 in /usr/local/lib/python3.11/dist-packages (from SQLAlchemy<3,>=1.4->langchain-community==0.3.19) (3.2.3)\n",
            "Requirement already satisfied: anyio in /usr/local/lib/python3.11/dist-packages (from httpx<1,>=0.23.0->langsmith<0.4,>=0.1.125->langchain-community==0.3.19) (4.9.0)\n",
            "Requirement already satisfied: httpcore==1.* in /usr/local/lib/python3.11/dist-packages (from httpx<1,>=0.23.0->langsmith<0.4,>=0.1.125->langchain-community==0.3.19) (1.0.9)\n",
            "Requirement already satisfied: h11>=0.16 in /usr/local/lib/python3.11/dist-packages (from httpcore==1.*->httpx<1,>=0.23.0->langsmith<0.4,>=0.1.125->langchain-community==0.3.19) (0.16.0)\n",
            "Requirement already satisfied: jsonpointer>=1.9 in /usr/local/lib/python3.11/dist-packages (from jsonpatch<2.0,>=1.33->langchain-core<1.0.0,>=0.3.41->langchain-community==0.3.19) (3.0.0)\n",
            "Requirement already satisfied: annotated-types>=0.6.0 in /usr/local/lib/python3.11/dist-packages (from pydantic<3.0.0,>=2.7.4->langchain<1.0.0,>=0.3.20->langchain-community==0.3.19) (0.7.0)\n",
            "Requirement already satisfied: pydantic-core==2.33.2 in /usr/local/lib/python3.11/dist-packages (from pydantic<3.0.0,>=2.7.4->langchain<1.0.0,>=0.3.20->langchain-community==0.3.19) (2.33.2)\n",
            "Collecting mypy-extensions>=0.3.0 (from typing-inspect<1,>=0.4.0->dataclasses-json<0.7,>=0.5.7->langchain-community==0.3.19)\n",
            "  Downloading mypy_extensions-1.1.0-py3-none-any.whl.metadata (1.1 kB)\n",
            "Requirement already satisfied: sniffio>=1.1 in /usr/local/lib/python3.11/dist-packages (from anyio->httpx<1,>=0.23.0->langsmith<0.4,>=0.1.125->langchain-community==0.3.19) (1.3.1)\n",
            "Downloading langchain_community-0.3.19-py3-none-any.whl (2.5 MB)\n",
            "\u001b[2K   \u001b[90m━━━━━━━━━━━━━━━━━━━━━━━━━━━━━━━━━━━━━━━━\u001b[0m \u001b[32m2.5/2.5 MB\u001b[0m \u001b[31m84.8 MB/s\u001b[0m eta \u001b[36m0:00:00\u001b[0m\n",
            "\u001b[?25hDownloading dataclasses_json-0.6.7-py3-none-any.whl (28 kB)\n",
            "Downloading httpx_sse-0.4.1-py3-none-any.whl (8.1 kB)\n",
            "Downloading pydantic_settings-2.10.1-py3-none-any.whl (45 kB)\n",
            "\u001b[2K   \u001b[90m━━━━━━━━━━━━━━━━━━━━━━━━━━━━━━━━━━━━━━━━\u001b[0m \u001b[32m45.2/45.2 kB\u001b[0m \u001b[31m4.3 MB/s\u001b[0m eta \u001b[36m0:00:00\u001b[0m\n",
            "\u001b[?25hDownloading marshmallow-3.26.1-py3-none-any.whl (50 kB)\n",
            "\u001b[2K   \u001b[90m━━━━━━━━━━━━━━━━━━━━━━━━━━━━━━━━━━━━━━━━\u001b[0m \u001b[32m50.9/50.9 kB\u001b[0m \u001b[31m4.9 MB/s\u001b[0m eta \u001b[36m0:00:00\u001b[0m\n",
            "\u001b[?25hDownloading python_dotenv-1.1.1-py3-none-any.whl (20 kB)\n",
            "Downloading typing_inspect-0.9.0-py3-none-any.whl (8.8 kB)\n",
            "Downloading mypy_extensions-1.1.0-py3-none-any.whl (5.0 kB)\n",
            "Installing collected packages: python-dotenv, mypy-extensions, marshmallow, httpx-sse, typing-inspect, pydantic-settings, dataclasses-json, langchain-community\n",
            "Successfully installed dataclasses-json-0.6.7 httpx-sse-0.4.1 langchain-community-0.3.19 marshmallow-3.26.1 mypy-extensions-1.1.0 pydantic-settings-2.10.1 python-dotenv-1.1.1 typing-inspect-0.9.0\n"
          ]
        }
      ],
      "source": [
        "# Upgraded package versions for improved features:\n",
        "!pip install langchain==0.3.21\n",
        "!pip install langchain-openai==0.3.9\n",
        "!pip install langchain-community==0.3.19"
      ]
    },
    {
      "cell_type": "code",
      "execution_count": null,
      "metadata": {
        "id": "7SJq00yzwcyk"
      },
      "outputs": [],
      "source": [
        "from getpass import getpass\n",
        "\n",
        "OPENAI_KEY = getpass(\"Enter OpenAI Key\")"
      ]
    },
    {
      "cell_type": "code",
      "execution_count": 3,
      "metadata": {
        "id": "3UTD_LGswxay"
      },
      "outputs": [],
      "source": [
        "import os\n",
        "\n",
        "os.environ['OPENAI_API_KEY'] = OPENAI_KEY"
      ]
    },
    {
      "cell_type": "code",
      "execution_count": null,
      "metadata": {
        "id": "6GtFiOqj2F69"
      },
      "outputs": [],
      "source": [
        "from getpass import getpass\n",
        "\n",
        "gemini_key = getpass(\"Enter Gemini Key\")"
      ]
    },
    {
      "cell_type": "code",
      "execution_count": 16,
      "metadata": {
        "id": "fllw2yEf24cv"
      },
      "outputs": [],
      "source": [
        "os.environ[\"GOOGLE_API_KEY\"] = gemini_key"
      ]
    },
    {
      "cell_type": "code",
      "execution_count": 17,
      "metadata": {
        "colab": {
          "base_uri": "https://localhost:8080/"
        },
        "id": "8mVo0SIt2GaS",
        "outputId": "364ef65c-76a2-4c9d-93ea-6d2b8b993735",
        "collapsed": true
      },
      "outputs": [
        {
          "output_type": "stream",
          "name": "stdout",
          "text": [
            "Collecting langchain-google-genai==2.0.1\n",
            "  Downloading langchain_google_genai-2.0.1-py3-none-any.whl.metadata (3.9 kB)\n",
            "Requirement already satisfied: google-generativeai<0.9.0,>=0.8.0 in /usr/local/lib/python3.11/dist-packages (from langchain-google-genai==2.0.1) (0.8.5)\n",
            "Requirement already satisfied: langchain-core<0.4,>=0.3.0 in /usr/local/lib/python3.11/dist-packages (from langchain-google-genai==2.0.1) (0.3.71)\n",
            "Requirement already satisfied: pydantic<3,>=2 in /usr/local/lib/python3.11/dist-packages (from langchain-google-genai==2.0.1) (2.11.7)\n",
            "Requirement already satisfied: google-ai-generativelanguage==0.6.15 in /usr/local/lib/python3.11/dist-packages (from google-generativeai<0.9.0,>=0.8.0->langchain-google-genai==2.0.1) (0.6.15)\n",
            "Requirement already satisfied: google-api-core in /usr/local/lib/python3.11/dist-packages (from google-generativeai<0.9.0,>=0.8.0->langchain-google-genai==2.0.1) (2.25.1)\n",
            "Requirement already satisfied: google-api-python-client in /usr/local/lib/python3.11/dist-packages (from google-generativeai<0.9.0,>=0.8.0->langchain-google-genai==2.0.1) (2.177.0)\n",
            "Requirement already satisfied: google-auth>=2.15.0 in /usr/local/lib/python3.11/dist-packages (from google-generativeai<0.9.0,>=0.8.0->langchain-google-genai==2.0.1) (2.38.0)\n",
            "Requirement already satisfied: protobuf in /usr/local/lib/python3.11/dist-packages (from google-generativeai<0.9.0,>=0.8.0->langchain-google-genai==2.0.1) (5.29.5)\n",
            "Requirement already satisfied: tqdm in /usr/local/lib/python3.11/dist-packages (from google-generativeai<0.9.0,>=0.8.0->langchain-google-genai==2.0.1) (4.67.1)\n",
            "Requirement already satisfied: typing-extensions in /usr/local/lib/python3.11/dist-packages (from google-generativeai<0.9.0,>=0.8.0->langchain-google-genai==2.0.1) (4.14.1)\n",
            "Requirement already satisfied: proto-plus<2.0.0dev,>=1.22.3 in /usr/local/lib/python3.11/dist-packages (from google-ai-generativelanguage==0.6.15->google-generativeai<0.9.0,>=0.8.0->langchain-google-genai==2.0.1) (1.26.1)\n",
            "Requirement already satisfied: langsmith>=0.3.45 in /usr/local/lib/python3.11/dist-packages (from langchain-core<0.4,>=0.3.0->langchain-google-genai==2.0.1) (0.3.45)\n",
            "Requirement already satisfied: tenacity!=8.4.0,<10.0.0,>=8.1.0 in /usr/local/lib/python3.11/dist-packages (from langchain-core<0.4,>=0.3.0->langchain-google-genai==2.0.1) (8.5.0)\n",
            "Requirement already satisfied: jsonpatch<2.0,>=1.33 in /usr/local/lib/python3.11/dist-packages (from langchain-core<0.4,>=0.3.0->langchain-google-genai==2.0.1) (1.33)\n",
            "Requirement already satisfied: PyYAML>=5.3 in /usr/local/lib/python3.11/dist-packages (from langchain-core<0.4,>=0.3.0->langchain-google-genai==2.0.1) (6.0.2)\n",
            "Requirement already satisfied: packaging>=23.2 in /usr/local/lib/python3.11/dist-packages (from langchain-core<0.4,>=0.3.0->langchain-google-genai==2.0.1) (25.0)\n",
            "Requirement already satisfied: annotated-types>=0.6.0 in /usr/local/lib/python3.11/dist-packages (from pydantic<3,>=2->langchain-google-genai==2.0.1) (0.7.0)\n",
            "Requirement already satisfied: pydantic-core==2.33.2 in /usr/local/lib/python3.11/dist-packages (from pydantic<3,>=2->langchain-google-genai==2.0.1) (2.33.2)\n",
            "Requirement already satisfied: typing-inspection>=0.4.0 in /usr/local/lib/python3.11/dist-packages (from pydantic<3,>=2->langchain-google-genai==2.0.1) (0.4.1)\n",
            "Requirement already satisfied: googleapis-common-protos<2.0.0,>=1.56.2 in /usr/local/lib/python3.11/dist-packages (from google-api-core->google-generativeai<0.9.0,>=0.8.0->langchain-google-genai==2.0.1) (1.70.0)\n",
            "Requirement already satisfied: requests<3.0.0,>=2.18.0 in /usr/local/lib/python3.11/dist-packages (from google-api-core->google-generativeai<0.9.0,>=0.8.0->langchain-google-genai==2.0.1) (2.32.3)\n",
            "Requirement already satisfied: cachetools<6.0,>=2.0.0 in /usr/local/lib/python3.11/dist-packages (from google-auth>=2.15.0->google-generativeai<0.9.0,>=0.8.0->langchain-google-genai==2.0.1) (5.5.2)\n",
            "Requirement already satisfied: pyasn1-modules>=0.2.1 in /usr/local/lib/python3.11/dist-packages (from google-auth>=2.15.0->google-generativeai<0.9.0,>=0.8.0->langchain-google-genai==2.0.1) (0.4.2)\n",
            "Requirement already satisfied: rsa<5,>=3.1.4 in /usr/local/lib/python3.11/dist-packages (from google-auth>=2.15.0->google-generativeai<0.9.0,>=0.8.0->langchain-google-genai==2.0.1) (4.9.1)\n",
            "Requirement already satisfied: jsonpointer>=1.9 in /usr/local/lib/python3.11/dist-packages (from jsonpatch<2.0,>=1.33->langchain-core<0.4,>=0.3.0->langchain-google-genai==2.0.1) (3.0.0)\n",
            "Requirement already satisfied: httpx<1,>=0.23.0 in /usr/local/lib/python3.11/dist-packages (from langsmith>=0.3.45->langchain-core<0.4,>=0.3.0->langchain-google-genai==2.0.1) (0.28.1)\n",
            "Requirement already satisfied: orjson<4.0.0,>=3.9.14 in /usr/local/lib/python3.11/dist-packages (from langsmith>=0.3.45->langchain-core<0.4,>=0.3.0->langchain-google-genai==2.0.1) (3.11.0)\n",
            "Requirement already satisfied: requests-toolbelt<2.0.0,>=1.0.0 in /usr/local/lib/python3.11/dist-packages (from langsmith>=0.3.45->langchain-core<0.4,>=0.3.0->langchain-google-genai==2.0.1) (1.0.0)\n",
            "Requirement already satisfied: zstandard<0.24.0,>=0.23.0 in /usr/local/lib/python3.11/dist-packages (from langsmith>=0.3.45->langchain-core<0.4,>=0.3.0->langchain-google-genai==2.0.1) (0.23.0)\n",
            "Requirement already satisfied: httplib2<1.0.0,>=0.19.0 in /usr/local/lib/python3.11/dist-packages (from google-api-python-client->google-generativeai<0.9.0,>=0.8.0->langchain-google-genai==2.0.1) (0.22.0)\n",
            "Requirement already satisfied: google-auth-httplib2<1.0.0,>=0.2.0 in /usr/local/lib/python3.11/dist-packages (from google-api-python-client->google-generativeai<0.9.0,>=0.8.0->langchain-google-genai==2.0.1) (0.2.0)\n",
            "Requirement already satisfied: uritemplate<5,>=3.0.1 in /usr/local/lib/python3.11/dist-packages (from google-api-python-client->google-generativeai<0.9.0,>=0.8.0->langchain-google-genai==2.0.1) (4.2.0)\n",
            "Requirement already satisfied: grpcio<2.0.0,>=1.33.2 in /usr/local/lib/python3.11/dist-packages (from google-api-core[grpc]!=2.0.*,!=2.1.*,!=2.10.*,!=2.2.*,!=2.3.*,!=2.4.*,!=2.5.*,!=2.6.*,!=2.7.*,!=2.8.*,!=2.9.*,<3.0.0dev,>=1.34.1->google-ai-generativelanguage==0.6.15->google-generativeai<0.9.0,>=0.8.0->langchain-google-genai==2.0.1) (1.73.1)\n",
            "Requirement already satisfied: grpcio-status<2.0.0,>=1.33.2 in /usr/local/lib/python3.11/dist-packages (from google-api-core[grpc]!=2.0.*,!=2.1.*,!=2.10.*,!=2.2.*,!=2.3.*,!=2.4.*,!=2.5.*,!=2.6.*,!=2.7.*,!=2.8.*,!=2.9.*,<3.0.0dev,>=1.34.1->google-ai-generativelanguage==0.6.15->google-generativeai<0.9.0,>=0.8.0->langchain-google-genai==2.0.1) (1.71.2)\n",
            "Requirement already satisfied: pyparsing!=3.0.0,!=3.0.1,!=3.0.2,!=3.0.3,<4,>=2.4.2 in /usr/local/lib/python3.11/dist-packages (from httplib2<1.0.0,>=0.19.0->google-api-python-client->google-generativeai<0.9.0,>=0.8.0->langchain-google-genai==2.0.1) (3.2.3)\n",
            "Requirement already satisfied: anyio in /usr/local/lib/python3.11/dist-packages (from httpx<1,>=0.23.0->langsmith>=0.3.45->langchain-core<0.4,>=0.3.0->langchain-google-genai==2.0.1) (4.9.0)\n",
            "Requirement already satisfied: certifi in /usr/local/lib/python3.11/dist-packages (from httpx<1,>=0.23.0->langsmith>=0.3.45->langchain-core<0.4,>=0.3.0->langchain-google-genai==2.0.1) (2025.7.14)\n",
            "Requirement already satisfied: httpcore==1.* in /usr/local/lib/python3.11/dist-packages (from httpx<1,>=0.23.0->langsmith>=0.3.45->langchain-core<0.4,>=0.3.0->langchain-google-genai==2.0.1) (1.0.9)\n",
            "Requirement already satisfied: idna in /usr/local/lib/python3.11/dist-packages (from httpx<1,>=0.23.0->langsmith>=0.3.45->langchain-core<0.4,>=0.3.0->langchain-google-genai==2.0.1) (3.10)\n",
            "Requirement already satisfied: h11>=0.16 in /usr/local/lib/python3.11/dist-packages (from httpcore==1.*->httpx<1,>=0.23.0->langsmith>=0.3.45->langchain-core<0.4,>=0.3.0->langchain-google-genai==2.0.1) (0.16.0)\n",
            "Requirement already satisfied: pyasn1<0.7.0,>=0.6.1 in /usr/local/lib/python3.11/dist-packages (from pyasn1-modules>=0.2.1->google-auth>=2.15.0->google-generativeai<0.9.0,>=0.8.0->langchain-google-genai==2.0.1) (0.6.1)\n",
            "Requirement already satisfied: charset-normalizer<4,>=2 in /usr/local/lib/python3.11/dist-packages (from requests<3.0.0,>=2.18.0->google-api-core->google-generativeai<0.9.0,>=0.8.0->langchain-google-genai==2.0.1) (3.4.2)\n",
            "Requirement already satisfied: urllib3<3,>=1.21.1 in /usr/local/lib/python3.11/dist-packages (from requests<3.0.0,>=2.18.0->google-api-core->google-generativeai<0.9.0,>=0.8.0->langchain-google-genai==2.0.1) (2.5.0)\n",
            "Requirement already satisfied: sniffio>=1.1 in /usr/local/lib/python3.11/dist-packages (from anyio->httpx<1,>=0.23.0->langsmith>=0.3.45->langchain-core<0.4,>=0.3.0->langchain-google-genai==2.0.1) (1.3.1)\n",
            "Downloading langchain_google_genai-2.0.1-py3-none-any.whl (40 kB)\n",
            "\u001b[2K   \u001b[90m━━━━━━━━━━━━━━━━━━━━━━━━━━━━━━━━━━━━━━━━\u001b[0m \u001b[32m40.4/40.4 kB\u001b[0m \u001b[31m3.3 MB/s\u001b[0m eta \u001b[36m0:00:00\u001b[0m\n",
            "\u001b[?25hInstalling collected packages: langchain-google-genai\n",
            "Successfully installed langchain-google-genai-2.0.1\n"
          ]
        }
      ],
      "source": [
        "!pip install langchain-google-genai==2.0.1"
      ]
    },
    {
      "cell_type": "code",
      "execution_count": 32,
      "metadata": {
        "id": "_5U3gejv2Kia"
      },
      "outputs": [],
      "source": [
        "from langchain_google_genai import ChatGoogleGenerativeAI\n",
        "gemini = ChatGoogleGenerativeAI(model=\"gemini-2.5-flash\")"
      ]
    },
    {
      "cell_type": "code",
      "execution_count": 4,
      "metadata": {
        "id": "2Z12_k5Ww-Yn"
      },
      "outputs": [],
      "source": [
        "# Updated import paths for prompt templates:\n",
        "from langchain.prompts import ChatPromptTemplate\n",
        "from langchain_openai import ChatOpenAI"
      ]
    },
    {
      "cell_type": "code",
      "execution_count": 5,
      "metadata": {
        "id": "V130P5IHxDLr"
      },
      "outputs": [],
      "source": [
        "# Updated parameter name from model_name to model:\n",
        "chatgpt = ChatOpenAI(model='gpt-4o-mini', temperature=0.0)"
      ]
    },
    {
      "cell_type": "markdown",
      "metadata": {
        "id": "SdlI-h4LyGD2"
      },
      "source": [
        "# **Mini-Project 1: Review Analyst**\n",
        "\n",
        "You are building an AI system to be able to look at customer reviews and do some complex analysis. for each review get ChatGPT to do the following:\n",
        "\n",
        "\n",
        "*   Summarize the review. The summary should be at most 3 lines.\n",
        "*   Highlight both the positives and negatives\n",
        "* Display the overall sentiment of the review (positive, negative, neutral)\n",
        "* Display a list of 3 - 5 emotions expressed by the customer in the review.\n",
        "* If the sentiment is positive or neutral write an email and thank them for the review\n",
        "If the sentiment is negative apologize and write an email with an appropriate response\n",
        "\n",
        "Try to get the response in a nice structured format using an output parser"
      ]
    },
    {
      "cell_type": "code",
      "execution_count": 6,
      "metadata": {
        "id": "BqyDaLrfybVL"
      },
      "outputs": [],
      "source": [
        "reviews = [\n",
        "    f\"\"\"\n",
        "    Just received the Bluetooth speaker I ordered for beach outings, and it's fantastic.\n",
        "    The sound quality is impressively clear with just the right amount of bass.\n",
        "    It's also waterproof, which tested true during a recent splashing incident.\n",
        "    Though it's compact, the volume can really fill the space.\n",
        "    The price was a bargain for such high-quality sound.\n",
        "    Shipping was also on point, arriving two days early in secure packaging.\n",
        "    \"\"\",\n",
        "    f\"\"\"\n",
        "    Purchased a new gaming keyboard because of its rave reviews about responsiveness and backlighting.\n",
        "    It hasn't disappointed. The keys have a satisfying click and the LED colors are vibrant,\n",
        "    enhancing my gaming experience significantly. Price-wise, it's quite competitive,\n",
        "    and I feel like I got a good deal. The delivery was swift, and it came well-protected,\n",
        "    ensuring no damage during transport.\n",
        "    \"\"\",\n",
        "    f\"\"\"\n",
        "    Ordered a set of wireless earbuds for running, and they've been a letdown.\n",
        "    The sound constantly cuts out, and the fit is uncomfortable after only a few minutes of use.\n",
        "    They advertised a 12-hour battery life, but I'm barely getting four hours.\n",
        "    Considering the cost, I expected better quality and performance.\n",
        "    They did arrive on time, but the positives end there. I'm already looking into a return.\n",
        "    \"\"\",\n",
        "    f\"\"\"\n",
        "    The tablet stand I bought was touted as being sturdy and adjustable,\n",
        "    but it's anything but. It wobbles with the slightest touch,\n",
        "    and the angles are not holding up as promised. It feels like a breeze could knock it over.\n",
        "    It was also pricier than others I've seen, which adds to the disappointment.\n",
        "    It did arrive promptly, but what's the use if the product doesn't meet basic expectations?\n",
        "    \"\"\",\n",
        "    f\"\"\"\n",
        "    Needed a new kitchen blender, but this model has been a nightmare.\n",
        "    It's supposed to handle various foods, but it struggles with anything tougher than cooked vegetables.\n",
        "    It's also incredibly noisy, and the 'easy-clean' feature is a joke; food gets stuck under the blades constantly.\n",
        "    I thought the brand meant quality, but this product has proven me wrong.\n",
        "    Plus, it arrived three days late. Definitely not worth the expense.\n",
        "    \"\"\"\n",
        "]"
      ]
    },
    {
      "cell_type": "markdown",
      "metadata": {
        "id": "uUqrrQ95ysJ_"
      },
      "source": [
        "# Creating Pydantic Output Parser"
      ]
    },
    {
      "cell_type": "code",
      "execution_count": 7,
      "metadata": {
        "id": "0cZFh6lZyvvC"
      },
      "outputs": [],
      "source": [
        "from langchain.prompts import PromptTemplate\n",
        "from langchain.output_parsers import PydanticOutputParser\n",
        "from pydantic import BaseModel, Field\n",
        "\n",
        "# Define your desired data structure - like a python data class.\n",
        "class ReviewAnalysisResponse(BaseModel):\n",
        "    summary: str = Field(description=\"A brief summary of the customer review with maximum 3 lines\")\n",
        "    positives: list = Field(description=\"A list showing the positives mentioned by the customer in the review if any - max 3 points\")\n",
        "    negatives: list = Field(description=\"A list showing the negatives mentioned by the customer in the review if any - max 3 points\")\n",
        "    sentiment: str = Field(description=\"One word showing the sentiment of the review - positive, negative or neutral\")\n",
        "    emotions: list = Field(description=\"A list of 3 - 5 emotions expressed by the customer in the review\")\n",
        "    email: str = Field(description=\"Detailed email to the customer based on the sentiment\")\n",
        "\n",
        "# Set up a parser + inject instructions into the prompt template.\n",
        "parser = PydanticOutputParser(pydantic_object=ReviewAnalysisResponse)\n"
      ]
    },
    {
      "cell_type": "code",
      "execution_count": 8,
      "metadata": {
        "id": "dvpGPQJMzQjA"
      },
      "outputs": [],
      "source": [
        "prompt_txt = \"\"\"\n",
        "             Analyze the given customer review below and generate the response based on the instructions\n",
        "             mentioned below in the format instructions.\n",
        "             Also remember to write a detailed email response for the email field based on these conditions:\n",
        "               - email should be addressed to Dear Customer and signed with Service Agent\n",
        "               - thank them if the review is positive or neutral\n",
        "               - apologize if the review is negative\n",
        "\n",
        "             Format Instructions:\n",
        "             {format_instructions}\n",
        "\n",
        "             Review:\n",
        "             {review}\n",
        "            \"\"\"\n",
        "\n",
        "prompt = PromptTemplate(\n",
        "    template=prompt_txt,\n",
        "    input_variables=[\"review\"],\n",
        "    partial_variables={\"format_instructions\": parser.get_format_instructions()}\n",
        ")"
      ]
    },
    {
      "cell_type": "code",
      "execution_count": 33,
      "metadata": {
        "id": "adS-UyBS1NRA"
      },
      "outputs": [],
      "source": [
        "chain = (prompt | gemini | parser)"
      ]
    },
    {
      "cell_type": "code",
      "execution_count": 39,
      "metadata": {
        "id": "wPbZ7qNq1VDQ"
      },
      "outputs": [],
      "source": [
        "reviews_formatted = [{'review': review} for review in reviews]"
      ]
    },
    {
      "cell_type": "code",
      "execution_count": 40,
      "metadata": {
        "colab": {
          "base_uri": "https://localhost:8080/"
        },
        "id": "fBkrj_g93zkV",
        "outputId": "0a99fe58-6e9a-4c58-c608-e2e6460ccb32"
      },
      "outputs": [
        {
          "output_type": "execute_result",
          "data": {
            "text/plain": [
              "[{'review': \"\\n    Just received the Bluetooth speaker I ordered for beach outings, and it's fantastic.\\n    The sound quality is impressively clear with just the right amount of bass.\\n    It's also waterproof, which tested true during a recent splashing incident.\\n    Though it's compact, the volume can really fill the space.\\n    The price was a bargain for such high-quality sound.\\n    Shipping was also on point, arriving two days early in secure packaging.\\n    \"},\n",
              " {'review': \"\\n    Purchased a new gaming keyboard because of its rave reviews about responsiveness and backlighting.\\n    It hasn't disappointed. The keys have a satisfying click and the LED colors are vibrant,\\n    enhancing my gaming experience significantly. Price-wise, it's quite competitive,\\n    and I feel like I got a good deal. The delivery was swift, and it came well-protected,\\n    ensuring no damage during transport.\\n    \"},\n",
              " {'review': \"\\n    Ordered a set of wireless earbuds for running, and they've been a letdown.\\n    The sound constantly cuts out, and the fit is uncomfortable after only a few minutes of use.\\n    They advertised a 12-hour battery life, but I'm barely getting four hours.\\n    Considering the cost, I expected better quality and performance.\\n    They did arrive on time, but the positives end there. I'm already looking into a return.\\n    \"},\n",
              " {'review': \"\\n    The tablet stand I bought was touted as being sturdy and adjustable,\\n    but it's anything but. It wobbles with the slightest touch,\\n    and the angles are not holding up as promised. It feels like a breeze could knock it over.\\n    It was also pricier than others I've seen, which adds to the disappointment.\\n    It did arrive promptly, but what's the use if the product doesn't meet basic expectations?\\n    \"},\n",
              " {'review': \"\\n    Needed a new kitchen blender, but this model has been a nightmare.\\n    It's supposed to handle various foods, but it struggles with anything tougher than cooked vegetables.\\n    It's also incredibly noisy, and the 'easy-clean' feature is a joke; food gets stuck under the blades constantly.\\n    I thought the brand meant quality, but this product has proven me wrong.\\n    Plus, it arrived three days late. Definitely not worth the expense.\\n    \"}]"
            ]
          },
          "metadata": {},
          "execution_count": 40
        }
      ],
      "source": [
        "reviews_formatted"
      ]
    },
    {
      "cell_type": "code",
      "source": [
        "import google.generativeai as genai"
      ],
      "metadata": {
        "id": "58AZmwVt7Yhq"
      },
      "execution_count": 30,
      "outputs": []
    },
    {
      "cell_type": "code",
      "source": [
        "for m in genai.list_models():\n",
        "  if 'generateContent' in m.supported_generation_methods:\n",
        "    print(m.name)"
      ],
      "metadata": {
        "colab": {
          "base_uri": "https://localhost:8080/"
        },
        "id": "230yB7GA7Lb_",
        "outputId": "bb058e84-8004-4abf-bfbd-d53231d6a54c"
      },
      "execution_count": 31,
      "outputs": [
        {
          "output_type": "stream",
          "name": "stdout",
          "text": [
            "models/gemini-1.0-pro-vision-latest\n",
            "models/gemini-pro-vision\n",
            "models/gemini-1.5-pro-latest\n",
            "models/gemini-1.5-pro-002\n",
            "models/gemini-1.5-pro\n",
            "models/gemini-1.5-flash-latest\n",
            "models/gemini-1.5-flash\n",
            "models/gemini-1.5-flash-002\n",
            "models/gemini-1.5-flash-8b\n",
            "models/gemini-1.5-flash-8b-001\n",
            "models/gemini-1.5-flash-8b-latest\n",
            "models/gemini-2.5-pro-preview-03-25\n",
            "models/gemini-2.5-flash-preview-05-20\n",
            "models/gemini-2.5-flash\n",
            "models/gemini-2.5-flash-lite-preview-06-17\n",
            "models/gemini-2.5-pro-preview-05-06\n",
            "models/gemini-2.5-pro-preview-06-05\n",
            "models/gemini-2.5-pro\n",
            "models/gemini-2.0-flash-exp\n",
            "models/gemini-2.0-flash\n",
            "models/gemini-2.0-flash-001\n",
            "models/gemini-2.0-flash-exp-image-generation\n",
            "models/gemini-2.0-flash-lite-001\n",
            "models/gemini-2.0-flash-lite\n",
            "models/gemini-2.0-flash-preview-image-generation\n",
            "models/gemini-2.0-flash-lite-preview-02-05\n",
            "models/gemini-2.0-flash-lite-preview\n",
            "models/gemini-2.0-pro-exp\n",
            "models/gemini-2.0-pro-exp-02-05\n",
            "models/gemini-exp-1206\n",
            "models/gemini-2.0-flash-thinking-exp-01-21\n",
            "models/gemini-2.0-flash-thinking-exp\n",
            "models/gemini-2.0-flash-thinking-exp-1219\n",
            "models/gemini-2.5-flash-preview-tts\n",
            "models/gemini-2.5-pro-preview-tts\n",
            "models/learnlm-2.0-flash-experimental\n",
            "models/gemma-3-1b-it\n",
            "models/gemma-3-4b-it\n",
            "models/gemma-3-12b-it\n",
            "models/gemma-3-27b-it\n",
            "models/gemma-3n-e4b-it\n",
            "models/gemma-3n-e2b-it\n",
            "models/gemini-2.5-flash-lite\n"
          ]
        }
      ]
    },
    {
      "cell_type": "code",
      "execution_count": 41,
      "metadata": {
        "id": "xppSSqE31enb",
        "collapsed": true
      },
      "outputs": [],
      "source": [
        "responses = chain.map().invoke(reviews_formatted)"
      ]
    },
    {
      "cell_type": "code",
      "source": [
        "responses"
      ],
      "metadata": {
        "colab": {
          "base_uri": "https://localhost:8080/"
        },
        "id": "TCBgoJDh7n-T",
        "outputId": "cb5c854b-afb2-4c55-8acb-c34122197670"
      },
      "execution_count": 42,
      "outputs": [
        {
          "output_type": "execute_result",
          "data": {
            "text/plain": [
              "[ReviewAnalysisResponse(summary='The customer is highly satisfied with their new Bluetooth speaker, praising its fantastic sound quality, waterproof feature, and impressive volume despite its compact size. They found the price to be a bargain and were pleased with the early and secure shipping.', positives=['Fantastic sound quality with clear audio and good bass', 'Waterproof feature tested true during use', 'Compact size with powerful volume that fills the space', 'Excellent value for money (bargain price)', 'Fast and secure shipping, arriving early'], negatives=[], sentiment='positive', emotions=['satisfied', 'impressed', 'pleased', 'happy', 'content'], email=\"Dear Customer,\\n\\nThank you so much for taking the time to share your wonderful feedback on your recent purchase of our Bluetooth speaker!\\n\\nWe are absolutely thrilled to hear that you find it fantastic and that it meets all your expectations for beach outings. It's great to know that you're impressed with the clear sound quality, just the right amount of bass, and its powerful volume despite its compact size. We're also delighted that the waterproof feature performed well during your recent splashing incident and that you feel the price was a bargain for such high quality.\\n\\nYour positive comments about the fast and secure shipping are also much appreciated. We are so pleased that you are enjoying your new speaker and that it arrived safely and even ahead of schedule.\\n\\nThank you again for your kind words and for being a valued customer.\\n\\nSincerely,\\n\\nService Agent\"),\n",
              " ReviewAnalysisResponse(summary='The customer is highly satisfied with their new gaming keyboard, praising its responsiveness, vibrant backlighting, and satisfying key clicks. They also noted the competitive price and swift, well-protected delivery.', positives=['Responsiveness and backlighting met expectations', 'Satisfying key click and vibrant LED colors enhancing gaming experience', 'Competitive price and swift, well-protected delivery'], negatives=[], sentiment='positive', emotions=['Satisfied', 'Pleased', 'Happy', 'Impressed', 'Content'], email=\"Dear Customer,\\n\\nThank you so much for taking the time to share your wonderful feedback about your new gaming keyboard! We are absolutely delighted to hear that it has met and exceeded your expectations.\\n\\nIt's fantastic to know that you're enjoying the responsiveness, vibrant backlighting, and satisfying key clicks, and that these features are significantly enhancing your gaming experience. We're also very pleased that you found the price competitive and that the delivery was swift and well-protected, ensuring your product arrived in perfect condition.\\n\\nYour positive review means a lot to us, and we truly appreciate you choosing our product. We look forward to continuing to provide you with excellent products and service.\\n\\nSincerely,\\nService Agent\"),\n",
              " ReviewAnalysisResponse(summary='The customer is highly disappointed with their wireless earbuds due to constant sound cut-outs, an uncomfortable fit after short use, and a significantly shorter battery life than advertised. While the product arrived on time, the customer feels it lacks expected quality and performance and is looking to return them.', positives=['Arrived on time'], negatives=['Sound constantly cuts out', 'Uncomfortable fit', 'Poor battery life (4 hours vs. advertised 12 hours)'], sentiment='negative', emotions=['Disappointed', 'Frustrated', 'Unsatisfied', 'Let down', 'Annoyed'], email='Dear Customer,\\n\\nThank you for reaching out and providing your valuable feedback regarding your recent purchase of wireless earbuds.\\n\\nI am truly sorry to hear that the earbuds have been such a letdown and have not met your expectations. I understand your frustration with the constant sound cut-outs, the uncomfortable fit after only a few minutes of use, and especially the significant discrepancy in battery life compared to what was advertised. It is certainly not the experience we want our customers to have, especially considering the cost.\\n\\nWe appreciate you bringing these issues to our attention, and we sincerely apologize for the inconvenience and disappointment this has caused.\\n\\nWe are committed to ensuring our customers are satisfied with their purchases. Please know that we take your feedback seriously. We would be happy to assist you with the return process or explore other solutions to resolve this matter for you.\\n\\nPlease reply to this email or contact our customer support team at your earliest convenience, and we will guide you through the next steps.\\n\\nSincerely,\\n\\nService Agent'),\n",
              " ReviewAnalysisResponse(summary='The customer is highly dissatisfied with a tablet stand advertised as sturdy and adjustable. They report it wobbles easily, fails to hold angles, and is overpriced. Despite prompt delivery, the product did not meet basic expectations.', positives=['Product arrived promptly.'], negatives=['Not sturdy or adjustable as advertised.', 'Wobbles easily and angles do not hold.', 'Overpriced compared to alternatives.'], sentiment='negative', emotions=['Disappointment', 'Frustration', 'Dissatisfaction', 'Annoyance', 'Let down'], email='Dear Customer,\\n\\nWe are truly sorry to hear that the tablet stand you purchased did not meet your expectations and that you experienced issues with its sturdiness, adjustability, and angle stability. We understand your frustration regarding the product wobbling easily and not holding angles as promised, especially given its price point.\\n\\nWe appreciate you bringing these concerns to our attention. While we are glad to hear it arrived promptly, we understand that the core functionality is paramount.\\n\\nWe would like to help resolve this for you. Please contact our customer support team at your earliest convenience so we can discuss options such as a return, refund, or exchange. Your satisfaction is important to us.\\n\\nSincerely,\\n\\nService Agent'),\n",
              " ReviewAnalysisResponse(summary='The customer is highly dissatisfied with a new kitchen blender due to its poor performance with tough foods, excessive noise, and difficulty in cleaning. They also experienced a three-day delivery delay and feel the product does not meet expected quality standards or justify its cost.', positives=[], negatives=['Struggles with anything tougher than cooked vegetables (poor blending performance).', 'Incredibly noisy and difficult to clean (food gets stuck).', 'Arrived three days late and did not meet quality expectations.'], sentiment='negative', emotions=['Frustration', 'Disappointment', 'Annoyance', 'Dissatisfaction', 'Regret'], email=\"Dear Customer,\\n\\nWe are truly sorry to hear about your extremely negative experience with your new kitchen blender. We understand your frustration regarding its poor performance with tougher foods, the excessive noise, and the difficulty you've encountered with the 'easy-clean' feature, as well as the inconvenience of the delayed delivery.\\n\\nIt's clear that this product has not met your expectations for quality, and we sincerely apologize for the disappointment and inconvenience this has caused. We aim to provide high-quality products, and it's concerning to learn that this blender has fallen short of your needs and our standards.\\n\\nPlease know that we take your feedback seriously and are committed to resolving issues for our customers. If you would like further assistance or to discuss this matter in more detail, please do not hesitate to contact our customer support team.\\n\\nSincerely,\\n\\nService Agent\")]"
            ]
          },
          "metadata": {},
          "execution_count": 42
        }
      ]
    },
    {
      "cell_type": "code",
      "source": [
        "responses[0].dict()"
      ],
      "metadata": {
        "colab": {
          "base_uri": "https://localhost:8080/"
        },
        "id": "izdO5zcT7t66",
        "outputId": "32d64de4-77a6-407b-cc20-75fe00d6269d"
      },
      "execution_count": 43,
      "outputs": [
        {
          "output_type": "stream",
          "name": "stderr",
          "text": [
            "/tmp/ipython-input-43-632561186.py:1: PydanticDeprecatedSince20: The `dict` method is deprecated; use `model_dump` instead. Deprecated in Pydantic V2.0 to be removed in V3.0. See Pydantic V2 Migration Guide at https://errors.pydantic.dev/2.11/migration/\n",
            "  responses[0].dict()\n"
          ]
        },
        {
          "output_type": "execute_result",
          "data": {
            "text/plain": [
              "{'summary': 'The customer is highly satisfied with their new Bluetooth speaker, praising its fantastic sound quality, waterproof feature, and impressive volume despite its compact size. They found the price to be a bargain and were pleased with the early and secure shipping.',\n",
              " 'positives': ['Fantastic sound quality with clear audio and good bass',\n",
              "  'Waterproof feature tested true during use',\n",
              "  'Compact size with powerful volume that fills the space',\n",
              "  'Excellent value for money (bargain price)',\n",
              "  'Fast and secure shipping, arriving early'],\n",
              " 'negatives': [],\n",
              " 'sentiment': 'positive',\n",
              " 'emotions': ['satisfied', 'impressed', 'pleased', 'happy', 'content'],\n",
              " 'email': \"Dear Customer,\\n\\nThank you so much for taking the time to share your wonderful feedback on your recent purchase of our Bluetooth speaker!\\n\\nWe are absolutely thrilled to hear that you find it fantastic and that it meets all your expectations for beach outings. It's great to know that you're impressed with the clear sound quality, just the right amount of bass, and its powerful volume despite its compact size. We're also delighted that the waterproof feature performed well during your recent splashing incident and that you feel the price was a bargain for such high quality.\\n\\nYour positive comments about the fast and secure shipping are also much appreciated. We are so pleased that you are enjoying your new speaker and that it arrived safely and even ahead of schedule.\\n\\nThank you again for your kind words and for being a valued customer.\\n\\nSincerely,\\n\\nService Agent\"}"
            ]
          },
          "metadata": {},
          "execution_count": 43
        }
      ]
    },
    {
      "cell_type": "code",
      "source": [
        "for response in responses:\n",
        "  for k,v in response.dict().items():\n",
        "    print(f'{k}:\\n{v}')\n",
        "  print('-----')\n",
        "  print('\\n')"
      ],
      "metadata": {
        "colab": {
          "base_uri": "https://localhost:8080/"
        },
        "id": "j5k_sRxL7uaV",
        "outputId": "7620a9cc-d655-40f8-8d35-6fa93a53cd40"
      },
      "execution_count": 44,
      "outputs": [
        {
          "output_type": "stream",
          "name": "stdout",
          "text": [
            "summary:\n",
            "The customer is highly satisfied with their new Bluetooth speaker, praising its fantastic sound quality, waterproof feature, and impressive volume despite its compact size. They found the price to be a bargain and were pleased with the early and secure shipping.\n",
            "positives:\n",
            "['Fantastic sound quality with clear audio and good bass', 'Waterproof feature tested true during use', 'Compact size with powerful volume that fills the space', 'Excellent value for money (bargain price)', 'Fast and secure shipping, arriving early']\n",
            "negatives:\n",
            "[]\n",
            "sentiment:\n",
            "positive\n",
            "emotions:\n",
            "['satisfied', 'impressed', 'pleased', 'happy', 'content']\n",
            "email:\n",
            "Dear Customer,\n",
            "\n",
            "Thank you so much for taking the time to share your wonderful feedback on your recent purchase of our Bluetooth speaker!\n",
            "\n",
            "We are absolutely thrilled to hear that you find it fantastic and that it meets all your expectations for beach outings. It's great to know that you're impressed with the clear sound quality, just the right amount of bass, and its powerful volume despite its compact size. We're also delighted that the waterproof feature performed well during your recent splashing incident and that you feel the price was a bargain for such high quality.\n",
            "\n",
            "Your positive comments about the fast and secure shipping are also much appreciated. We are so pleased that you are enjoying your new speaker and that it arrived safely and even ahead of schedule.\n",
            "\n",
            "Thank you again for your kind words and for being a valued customer.\n",
            "\n",
            "Sincerely,\n",
            "\n",
            "Service Agent\n",
            "-----\n",
            "\n",
            "\n",
            "summary:\n",
            "The customer is highly satisfied with their new gaming keyboard, praising its responsiveness, vibrant backlighting, and satisfying key clicks. They also noted the competitive price and swift, well-protected delivery.\n",
            "positives:\n",
            "['Responsiveness and backlighting met expectations', 'Satisfying key click and vibrant LED colors enhancing gaming experience', 'Competitive price and swift, well-protected delivery']\n",
            "negatives:\n",
            "[]\n",
            "sentiment:\n",
            "positive\n",
            "emotions:\n",
            "['Satisfied', 'Pleased', 'Happy', 'Impressed', 'Content']\n",
            "email:\n",
            "Dear Customer,\n",
            "\n",
            "Thank you so much for taking the time to share your wonderful feedback about your new gaming keyboard! We are absolutely delighted to hear that it has met and exceeded your expectations.\n",
            "\n",
            "It's fantastic to know that you're enjoying the responsiveness, vibrant backlighting, and satisfying key clicks, and that these features are significantly enhancing your gaming experience. We're also very pleased that you found the price competitive and that the delivery was swift and well-protected, ensuring your product arrived in perfect condition.\n",
            "\n",
            "Your positive review means a lot to us, and we truly appreciate you choosing our product. We look forward to continuing to provide you with excellent products and service.\n",
            "\n",
            "Sincerely,\n",
            "Service Agent\n",
            "-----\n",
            "\n",
            "\n",
            "summary:\n",
            "The customer is highly disappointed with their wireless earbuds due to constant sound cut-outs, an uncomfortable fit after short use, and a significantly shorter battery life than advertised. While the product arrived on time, the customer feels it lacks expected quality and performance and is looking to return them.\n",
            "positives:\n",
            "['Arrived on time']\n",
            "negatives:\n",
            "['Sound constantly cuts out', 'Uncomfortable fit', 'Poor battery life (4 hours vs. advertised 12 hours)']\n",
            "sentiment:\n",
            "negative\n",
            "emotions:\n",
            "['Disappointed', 'Frustrated', 'Unsatisfied', 'Let down', 'Annoyed']\n",
            "email:\n",
            "Dear Customer,\n",
            "\n",
            "Thank you for reaching out and providing your valuable feedback regarding your recent purchase of wireless earbuds.\n",
            "\n",
            "I am truly sorry to hear that the earbuds have been such a letdown and have not met your expectations. I understand your frustration with the constant sound cut-outs, the uncomfortable fit after only a few minutes of use, and especially the significant discrepancy in battery life compared to what was advertised. It is certainly not the experience we want our customers to have, especially considering the cost.\n",
            "\n",
            "We appreciate you bringing these issues to our attention, and we sincerely apologize for the inconvenience and disappointment this has caused.\n",
            "\n",
            "We are committed to ensuring our customers are satisfied with their purchases. Please know that we take your feedback seriously. We would be happy to assist you with the return process or explore other solutions to resolve this matter for you.\n",
            "\n",
            "Please reply to this email or contact our customer support team at your earliest convenience, and we will guide you through the next steps.\n",
            "\n",
            "Sincerely,\n",
            "\n",
            "Service Agent\n",
            "-----\n",
            "\n",
            "\n",
            "summary:\n",
            "The customer is highly dissatisfied with a tablet stand advertised as sturdy and adjustable. They report it wobbles easily, fails to hold angles, and is overpriced. Despite prompt delivery, the product did not meet basic expectations.\n",
            "positives:\n",
            "['Product arrived promptly.']\n",
            "negatives:\n",
            "['Not sturdy or adjustable as advertised.', 'Wobbles easily and angles do not hold.', 'Overpriced compared to alternatives.']\n",
            "sentiment:\n",
            "negative\n",
            "emotions:\n",
            "['Disappointment', 'Frustration', 'Dissatisfaction', 'Annoyance', 'Let down']\n",
            "email:\n",
            "Dear Customer,\n",
            "\n",
            "We are truly sorry to hear that the tablet stand you purchased did not meet your expectations and that you experienced issues with its sturdiness, adjustability, and angle stability. We understand your frustration regarding the product wobbling easily and not holding angles as promised, especially given its price point.\n",
            "\n",
            "We appreciate you bringing these concerns to our attention. While we are glad to hear it arrived promptly, we understand that the core functionality is paramount.\n",
            "\n",
            "We would like to help resolve this for you. Please contact our customer support team at your earliest convenience so we can discuss options such as a return, refund, or exchange. Your satisfaction is important to us.\n",
            "\n",
            "Sincerely,\n",
            "\n",
            "Service Agent\n",
            "-----\n",
            "\n",
            "\n",
            "summary:\n",
            "The customer is highly dissatisfied with a new kitchen blender due to its poor performance with tough foods, excessive noise, and difficulty in cleaning. They also experienced a three-day delivery delay and feel the product does not meet expected quality standards or justify its cost.\n",
            "positives:\n",
            "[]\n",
            "negatives:\n",
            "['Struggles with anything tougher than cooked vegetables (poor blending performance).', 'Incredibly noisy and difficult to clean (food gets stuck).', 'Arrived three days late and did not meet quality expectations.']\n",
            "sentiment:\n",
            "negative\n",
            "emotions:\n",
            "['Frustration', 'Disappointment', 'Annoyance', 'Dissatisfaction', 'Regret']\n",
            "email:\n",
            "Dear Customer,\n",
            "\n",
            "We are truly sorry to hear about your extremely negative experience with your new kitchen blender. We understand your frustration regarding its poor performance with tougher foods, the excessive noise, and the difficulty you've encountered with the 'easy-clean' feature, as well as the inconvenience of the delayed delivery.\n",
            "\n",
            "It's clear that this product has not met your expectations for quality, and we sincerely apologize for the disappointment and inconvenience this has caused. We aim to provide high-quality products, and it's concerning to learn that this blender has fallen short of your needs and our standards.\n",
            "\n",
            "Please know that we take your feedback seriously and are committed to resolving issues for our customers. If you would like further assistance or to discuss this matter in more detail, please do not hesitate to contact our customer support team.\n",
            "\n",
            "Sincerely,\n",
            "\n",
            "Service Agent\n",
            "-----\n",
            "\n",
            "\n"
          ]
        },
        {
          "output_type": "stream",
          "name": "stderr",
          "text": [
            "/tmp/ipython-input-44-2992996444.py:2: PydanticDeprecatedSince20: The `dict` method is deprecated; use `model_dump` instead. Deprecated in Pydantic V2.0 to be removed in V3.0. See Pydantic V2 Migration Guide at https://errors.pydantic.dev/2.11/migration/\n",
            "  for k,v in response.dict().items():\n"
          ]
        }
      ]
    },
    {
      "cell_type": "markdown",
      "source": [
        "# **Mini-Project 2: Research Paper Analyst**\n",
        "\n",
        "Make ChatGPT act as an AI expert and transform the given research paper abstract based on the nature of the audience mentioned below.\n",
        "\n",
        "\n",
        "\n",
        "*   Short summary of maximum 10 lines for a general audience\n",
        "*   Detailed report for a healthcare company. Have bullet points for pros and cons of ethics in Generative AI as mentioned in the paper\n",
        "* Detailed report for a generative AI company solving healthcare problems. Have bullet points for key points mentioned for Generative AI for text, images and structured data based healthcare\n",
        "\n",
        "Try to use ChatPromptTemplate so you can have a conversation with ChatGPT for each of the above tasks using conversational prompting"
      ],
      "metadata": {
        "id": "QXrY3CtFAbpM"
      }
    },
    {
      "cell_type": "code",
      "source": [
        "paper_abstract = f\"\"\"\n",
        "The widespread use of ChatGPT and other emerging technology powered by generative\n",
        "artificial intelligence (AI) has drawn much attention to potential ethical issues, especially in\n",
        "high-stakes applications such as healthcare.1–3 However, less clear is how to resolve such\n",
        "issues beyond following guidelines and regulations that are still under discussion and\n",
        "development. On the other hand, other types of generative AI have been used to synthesize\n",
        "images and other types of data for research and practical purposes, which have resolved some\n",
        "ethical issues and exposed other ethical issues,4,5 but such technology is less often the focus\n",
        "of ongoing ethical discussions. Here we highlight gaps in current ethical discussions of\n",
        "generative AI via a systematic scoping review of relevant existing research in healthcare, and\n",
        "reduce the gaps by proposing an ethics checklist for comprehensive assessment and\n",
        "transparent documentation of ethical discussions in generative AI development. While the\n",
        "checklist can be readily integrated into the current peer review and publication system to\n",
        "enhance generative AI research, it may also be used in broader settings to disclose ethicsrelated considerations in generative AI-powered products (or real-life applications of such\n",
        "products) to help users establish reasonable trust in their capabilities.\n",
        "\n",
        "Current ethical discussions on generative AI in healthcare\n",
        "We conducted a systematic scoping review to analyse current ethical discussions on\n",
        "generative AI in healthcare. Our search in four major academic research databases for\n",
        "relevant publications from January 2013 to July 2023 yielded 2859 articles (see Methods for\n",
        "detailed search strategy and Supplementary Figure S1 for the PRISMA flow diagram), of\n",
        "which 193 articles were included for analysis based on application data modality (text, image,\n",
        "or structured data), ethical issues discussed, generative AI involved, and whether generative\n",
        "AI causes or offers technical solutions for issues raised.\n",
        "\n",
        "Generative AI for text data-based healthcare\n",
        "Forty-one of the 193 articles discussed ethical considerations pertaining to generative AI\n",
        "applications for text data, with 20 articles describing methodological developments or\n",
        "applications of generative AI and the other 21 articles describing review-type works on this\n",
        "topic. Although some of these review-type articles used the general term “generative AI”, the\n",
        "main body and supporting evidence focused on LLMs. Twenty-nine articles had in-depth\n",
        "discussions on ethical issues, whereas the other 12 articles only briefly touched on some\n",
        "ethical aspects.\n",
        "Among the 41 articles, 29 articles focused on discussing ethical issues caused by LLMs (and\n",
        "specifically by GPT in 16 of the articles), covering a wide range of application scenarios and\n",
        "considered the application of all 10 ethical principles identified in the review (see Figure 1),\n",
        "as well as other less discussed concerns such as human-AI interaction, and the rights of\n",
        "LLMs to be considered as co-authors in scientific papers. One paper only commented briefly\n",
        "on the need for ethical considerations in LLMs and is summarised in the “Others” category.\n",
        "Although all ethical principles are equally important, some are discussed more often than\n",
        "others, e.g., non-maleficence (also referred to in the literature as ‘benevolence’), equity, and\n",
        "privacy.\n",
        "Fifteen of the 41 articles aimed to resolve some existing ethical issues (for example,\n",
        "confidentiality of medical data) by using LLMs and other generative AI (e.g., GAN,\n",
        "autoencoder or diffusion), such as, to reduce privacy concerns by generating synthetic\n",
        "medical text, to reduce disparity by providing accessible services and assistance, to detect\n",
        "health-related misinformation, to generate trusted content, and to improve accountability or\n",
        "transparency over existing approaches. While most articles focused on either identifying\n",
        "ethical issues caused by generative AI or proposing generative AI-based solutions, three\n",
        "articles discussed both to provide a more balanced perspective.\n",
        "\n",
        "Generative AI for image and structured data-based healthcare\n",
        "Unlike the diverse application scenarios of generative AI based on text data, for image and\n",
        "structured data, this use of generative AI focuses on data synthesis and encryption. Hence the\n",
        "majority of articles discussed the methodological developments of generative AI as giving\n",
        "rise to a more distinctive and focused set of ethical issues.\n",
        "5\n",
        "Notably, of the 98 articles on image data and 58 articles on structured data, more than half\n",
        "(n=63 for image data and n=33 for structured data) only mentioned ethical considerations as a\n",
        "brief motivation for methodological developments or as a general discussion point. The rest\n",
        "included more in-depth discussions or evaluations of ethical issues. Among these 155 articles\n",
        "(as one article covered multiple modalities), 11 articles were review-type work, where 10\n",
        "articles reviewed methods that mentioned one or two ethical perspectives, and only one\n",
        "article24 discussed detailed ethical concerns on generative AI applications.\n",
        "Resolving privacy issues was the main aim of articles for these two data modalities (n=74 for\n",
        "image data and n=50 for structured data; see Figure 1), predominantly by generating synthetic\n",
        "data using GAN. Eight articles on image data and 9 articles on structured data used\n",
        "generative AI to reduce bias, e.g., by synthesizing data for under-represented subgroups in\n",
        "existing databases. For both data modalities, we did not see explicit discussions on resolving\n",
        "autonomy, integrity, or morality issues using generative AI, and for structured data the articles\n",
        "additionally lacked discussions on trust or transparency.\n",
        "Only 11 articles for image data selectively discussed some ethical issues that generative AI\n",
        "can give rise to, without specific discussions regarding autonomy, integrity, or morality. For\n",
        "structured data, only 4 articles discussed equity, privacy, or data security issues caused by\n",
        "generative AI. Only two articles on structured data included both the cause and resolving\n",
        "perspectives by discussing ethical issues that may arise from limitations of methods\n",
        "proposed, specifically bias induced when synthesizing data in order to resolve privacy issues.\n",
        "\"\"\""
      ],
      "metadata": {
        "id": "STgj1lgW7xQf"
      },
      "execution_count": 45,
      "outputs": []
    },
    {
      "cell_type": "code",
      "source": [
        "SYS_PROMPT = \"\"\"\n",
        "Act as a Artificial Intelligence Expert.\n",
        "Transform the input research paper abstract given below\n",
        "based on the instruction input by the user.\n",
        "\"\"\"\n",
        "\n",
        "prompt = ChatPromptTemplate.from_messages(\n",
        "    [\n",
        "        (\"system\", SYS_PROMPT),\n",
        "        (\"human\", \"{instruction}\")\n",
        "    ]\n",
        ")"
      ],
      "metadata": {
        "id": "pdboQ2N7A07g"
      },
      "execution_count": 46,
      "outputs": []
    },
    {
      "cell_type": "code",
      "source": [
        "## Ignore this, was practicing how to use Prompt Template\n",
        "prompt2 = f\"\"\"\n",
        "Act as a Artificial Intelligence Expert.\n",
        "Based on the following research paper abstract,\n",
        "create the summary report of maximum 10 lines\n",
        "for a general audience\n",
        "\n",
        "Abstract:\n",
        "{paper_abstract}\n",
        "\"\"\"\n",
        "\n",
        "newPrompt = PromptTemplate(\n",
        "    template = prompt2,\n",
        "    input_variables=[\"paper_abstract\"]\n",
        ")"
      ],
      "metadata": {
        "id": "qadFEwQcDFnN"
      },
      "execution_count": 53,
      "outputs": []
    },
    {
      "cell_type": "code",
      "source": [
        "chain = (prompt | gemini)"
      ],
      "metadata": {
        "id": "lkrZ1kmcBWbe"
      },
      "execution_count": 58,
      "outputs": []
    },
    {
      "cell_type": "code",
      "source": [
        "from langchain.schema import HumanMessage\n",
        "\n",
        "prompt_txt = f\"\"\"\n",
        "Based on the following research paper abstract,\n",
        "create the summary report of maximum 10 lines\n",
        "for a general audience\n",
        "\n",
        "Abstract:\n",
        "{paper_abstract}\n",
        "\"\"\"\n",
        "\n",
        "messages = [HumanMessage(content=prompt_txt)]\n",
        "user_instruction = {'instruction': messages}\n",
        "\n",
        "response = chain.invoke(user_instruction)\n",
        "messages.append(response)"
      ],
      "metadata": {
        "id": "hOZIGlDjBbKZ"
      },
      "execution_count": 60,
      "outputs": []
    },
    {
      "cell_type": "code",
      "source": [
        "response.content"
      ],
      "metadata": {
        "colab": {
          "base_uri": "https://localhost:8080/",
          "height": 143
        },
        "id": "XXoGH1gwCYk-",
        "outputId": "6348bfd5-6964-4304-9267-b62fdad220c1"
      },
      "execution_count": 62,
      "outputs": [
        {
          "output_type": "execute_result",
          "data": {
            "text/plain": [
              "'The rise of generative AI, like ChatGPT, in healthcare brings significant ethical concerns, which are not always fully addressed by current guidelines. This study systematically reviewed existing research on generative AI ethics in healthcare.\\n\\nThey found that while many discussions focus on problems caused by AI (e.g., privacy, fairness), some research also explores how AI itself can help resolve these issues, like using synthetic data to protect patient privacy. However, there are still gaps in ethical discussions, especially regarding trust, autonomy, and transparency for AI dealing with medical images or structured data.\\n\\nTo improve this, the researchers propose an \"ethics checklist.\" This tool aims to help developers and researchers thoroughly assess and document ethical considerations when building new generative AI technologies. This checklist can enhance the peer review process for research and help users build reasonable trust in AI-powered healthcare products by making ethical considerations more transparent.'"
            ],
            "application/vnd.google.colaboratory.intrinsic+json": {
              "type": "string"
            }
          },
          "metadata": {},
          "execution_count": 62
        }
      ]
    },
    {
      "cell_type": "markdown",
      "source": [
        "# Generate the second summary report"
      ],
      "metadata": {
        "id": "KzG8dsB7KFZa"
      }
    },
    {
      "cell_type": "code",
      "source": [
        "prompt_txt = f\"\"\"\n",
        "Use only the research paper abstract from earlier and create a detailed report for a healthcare company.\n",
        "In the report, also include bullet points (3 max) for pros and cons of ethics in Generative AI\n",
        "\"\"\"\n",
        "\n",
        "messages.append(HumanMessage(content=prompt_txt))\n",
        "user_instruction = {'instruction': messages}\n",
        "\n",
        "response = chain.invoke(user_instruction)\n",
        "messages.append(response)\n",
        "\n",
        "print(response.content)"
      ],
      "metadata": {
        "colab": {
          "base_uri": "https://localhost:8080/"
        },
        "id": "9pQAZke9J_Yy",
        "outputId": "71c73f24-0031-4344-c8ac-2934bbc4c271"
      },
      "execution_count": 63,
      "outputs": [
        {
          "output_type": "stream",
          "name": "stdout",
          "text": [
            "**Detailed Report: Ethical Considerations for Generative AI in Healthcare**\n",
            "\n",
            "To: Healthcare Leadership Team\n",
            "From: AI Ethics & Strategy Division\n",
            "Date: October 26, 2023\n",
            "Subject: Navigating Ethical Challenges and Opportunities in Generative AI Adoption\n",
            "\n",
            "**Executive Summary:**\n",
            "The rapid integration of generative Artificial Intelligence (AI) technologies, such as ChatGPT, into healthcare presents both immense opportunities and significant ethical challenges. While public attention often focuses on the risks, there remains a critical gap in how these ethical issues are systematically identified, discussed, and resolved beyond evolving regulations. A recent systematic review highlights these gaps and proposes a practical \"ethics checklist\" designed to enhance the responsible development and deployment of generative AI in healthcare.\n",
            "\n",
            "**Current Landscape and Challenges:**\n",
            "Our analysis of existing research (2013-2023) on generative AI in healthcare reveals that while many ethical issues are discussed, the approach is often fragmented.\n",
            "*   **Text-based AI (e.g., LLMs):** Discussions frequently revolve around privacy, equity, and the potential for harm (non-maleficence). Concerns like human-AI interaction and even AI's role as a co-author are emerging. Some applications, however, are also being explored to *resolve* issues, such as generating synthetic data to protect patient privacy or detecting misinformation.\n",
            "*   **Image and Structured Data AI:** For these modalities, generative AI is primarily used for data synthesis and encryption, mainly to address privacy concerns. However, ethical discussions are less comprehensive, often only briefly mentioned as motivations for methodological development. There are notable gaps in explicit discussions regarding autonomy, integrity, morality, trust, and transparency for these applications.\n",
            "\n",
            "**Addressing the Gaps: The Proposed Ethics Checklist**\n",
            "To bridge these identified gaps, the research proposes a comprehensive \"ethics checklist.\" This tool is designed to:\n",
            "1.  **Systematic Assessment:** Ensure a thorough evaluation of all relevant ethical considerations during the development of generative AI technologies.\n",
            "2.  **Transparent Documentation:** Facilitate clear and consistent recording of ethical discussions and decisions.\n",
            "3.  **Integration:** Be readily incorporated into existing peer review and publication systems to elevate the ethical rigor of AI research.\n",
            "4.  **User Trust:** Serve as a mechanism for healthcare companies to disclose ethics-related considerations in generative AI-powered products, fostering reasonable trust among users and patients regarding their capabilities.\n",
            "\n",
            "**Pros of Ethics in Generative AI for Healthcare:**\n",
            "*   Generative AI can actively *resolve* existing ethical issues, such as enhancing patient data privacy through synthetic data generation and reducing healthcare disparities by providing accessible services.\n",
            "*   Proactive ethical assessment and transparent documentation build stronger user and patient trust in AI-powered healthcare products and services.\n",
            "*   Structured ethical frameworks, like the proposed checklist, can guide responsible innovation, ensuring that AI development aligns with core healthcare values and principles.\n",
            "\n",
            "**Cons/Challenges of Ethics in Generative AI for Healthcare:**\n",
            "*   Existing ethical guidelines and regulations are often insufficient or still under development, leaving a lack of clear pathways for resolving complex new ethical issues arising from generative AI.\n",
            "*   Generative AI introduces novel and complex ethical dilemmas, including challenges related to human-AI interaction, accountability, and the very concept of AI's role in creative or intellectual contributions.\n",
            "*   Significant gaps persist in current ethical discussions, particularly concerning principles like patient autonomy, data integrity, morality, and comprehensive trust/transparency for AI applications involving image and structured medical data.\n"
          ]
        }
      ]
    },
    {
      "cell_type": "markdown",
      "source": [
        "# Generate the third summary report"
      ],
      "metadata": {
        "id": "GdSbPxNkKkV9"
      }
    },
    {
      "cell_type": "code",
      "source": [
        "prompt_txt = f\"\"\"\n",
        "Use only the research paper abstract from earlier and create a detailed report for a generative AI company solving healthcare problems.\n",
        "In the report also include sections for key points mentioned around Generative AI for text, images and structured data based healthcare\n",
        "\"\"\"\n",
        "messages.append(HumanMessage(content=prompt_txt))\n",
        "user_instruction = {'instruction': messages}\n",
        "response = chain.invoke(user_instruction)\n",
        "print(response.content)"
      ],
      "metadata": {
        "colab": {
          "base_uri": "https://localhost:8080/"
        },
        "id": "XD9Ubh7IKg-k",
        "outputId": "94878200-3df9-4a98-f555-522708cccbbc"
      },
      "execution_count": 64,
      "outputs": [
        {
          "output_type": "stream",
          "name": "stdout",
          "text": [
            "**Detailed Report: Navigating Ethical Development in Generative AI for Healthcare Solutions**\n",
            "\n",
            "**To:** Leadership Team, Generative AI Solutions for Healthcare\n",
            "**From:** AI Ethics & Strategy Lead\n",
            "**Date:** October 26, 2023\n",
            "**Subject:** Bridging Ethical Gaps and Enhancing Trust in Our Generative AI Offerings\n",
            "\n",
            "**Executive Summary:**\n",
            "The rapid adoption of generative AI, including large language models (LLMs) and other generative technologies, within healthcare presents unique ethical complexities. While much attention focuses on the risks, there's a significant gap in how these issues are systematically resolved beyond evolving regulations. A recent systematic review highlights these gaps and, crucially, proposes an \"ethics checklist\" designed to aid companies like ours in comprehensively assessing and transparently documenting ethical considerations throughout the development lifecycle of generative AI healthcare products. This proactive approach can enhance research rigor, foster user trust, and ensure responsible innovation.\n",
            "\n",
            "**Current Ethical Landscape and Identified Gaps:**\n",
            "Our analysis of existing research (2013-2023) on generative AI in healthcare reveals a fragmented approach to ethical discussions. While concerns are widely acknowledged, practical resolution strategies are less developed. The study identifies a critical need for more comprehensive ethical assessment frameworks.\n",
            "\n",
            "**Key Points by Generative AI Data Modality in Healthcare:**\n",
            "\n",
            "**1. Generative AI for Text Data-based Healthcare:**\n",
            "*   **Focus:** Forty-one articles specifically addressed ethical considerations for generative AI applications involving text data, with a strong emphasis on LLMs (including GPT).\n",
            "*   **Key Ethical Issues Discussed:** Common concerns included non-maleficence (potential harm), equity (fairness), and privacy. Emerging discussions also touched on human-AI interaction and the unusual topic of AI's potential rights as a co-author in scientific papers.\n",
            "*   **AI as a Solution:** Importantly, 15 of these articles explored how LLMs and other generative AI (e.g., GAN, autoencoder, diffusion models) could *resolve* existing ethical issues. Examples include generating synthetic medical text to enhance privacy, reducing healthcare disparities by providing accessible services, detecting misinformation, creating trusted content, and improving accountability or transparency.\n",
            "\n",
            "**2. Generative AI for Image and Structured Data-based Healthcare:**\n",
            "*   **Primary Application:** For image (98 articles) and structured data (58 articles), generative AI's use largely centers on data synthesis and encryption.\n",
            "*   **Ethical Discussion Depth:** A significant portion of these articles (over half) only briefly mentioned ethical considerations as a general point or motivation for methodological development, rather than providing in-depth discussion or evaluation.\n",
            "*   **Main Ethical Aim (Resolution):** Resolving privacy issues, predominantly through generating synthetic data using GANs, was the primary ethical aim for both image and structured data applications. Some articles also used generative AI to reduce bias by synthesizing data for under-represented subgroups.\n",
            "*   **Identified Gaps in Discussion:** Crucially, the review found a lack of explicit discussions concerning autonomy, integrity, or morality when using generative AI for image and structured data. For structured data, there was an additional notable absence of discussions on trust or transparency. Only a few articles considered ethical issues caused by the generative AI itself (e.g., bias induced when synthesizing data) while also proposing solutions.\n",
            "\n",
            "**Addressing the Gaps: The Proposed Ethics Checklist:**\n",
            "To mitigate these identified ethical blind spots and enhance responsible development, the research proposes a practical \"ethics checklist.\" This tool is designed to:\n",
            "*   **Comprehensive Assessment:** Guide a thorough evaluation of all relevant ethical considerations during the development of our generative AI technologies for healthcare.\n",
            "*   **Transparent Documentation:** Facilitate clear and consistent recording of ethical discussions and decisions, offering an auditable trail of our ethical due diligence.\n",
            "*   **Integration into Development:** Be readily incorporated into our internal development, testing, and peer review processes, ensuring ethical rigor is a core component from conception to deployment.\n",
            "*   **Building User Trust:** Serve as a mechanism for disclosing ethics-related considerations in our generative AI-powered products to our clients and end-users, fostering reasonable trust in the capabilities and limitations of our solutions.\n",
            "\n",
            "**Conclusion:**\n",
            "As a leading generative AI company in healthcare, embracing a proactive and systematic approach to ethics is paramount. The insights from this review, particularly the proposed ethics checklist, offer a clear pathway to not only identify and address potential ethical pitfalls but also to leverage our technology to *solve* existing ethical challenges in healthcare. By integrating such a framework, we can solidify our commitment to responsible innovation, build deeper trust with our clients and the public, and ensure our solutions contribute positively to the future of healthcare.\n"
          ]
        }
      ]
    },
    {
      "cell_type": "code",
      "source": [
        "messages"
      ],
      "metadata": {
        "colab": {
          "base_uri": "https://localhost:8080/"
        },
        "id": "gEvrcoxDKwM8",
        "outputId": "1b7acf52-fdf4-459a-b5ab-1ef191264188"
      },
      "execution_count": 65,
      "outputs": [
        {
          "output_type": "execute_result",
          "data": {
            "text/plain": [
              "[HumanMessage(content='\\nBased on the following research paper abstract,\\ncreate the summary report of maximum 10 lines\\nfor a general audience\\n\\nAbstract:\\n\\nThe widespread use of ChatGPT and other emerging technology powered by generative\\nartificial intelligence (AI) has drawn much attention to potential ethical issues, especially in\\nhigh-stakes applications such as healthcare.1–3 However, less clear is how to resolve such\\nissues beyond following guidelines and regulations that are still under discussion and\\ndevelopment. On the other hand, other types of generative AI have been used to synthesize\\nimages and other types of data for research and practical purposes, which have resolved some\\nethical issues and exposed other ethical issues,4,5 but such technology is less often the focus\\nof ongoing ethical discussions. Here we highlight gaps in current ethical discussions of\\ngenerative AI via a systematic scoping review of relevant existing research in healthcare, and\\nreduce the gaps by proposing an ethics checklist for comprehensive assessment and\\ntransparent documentation of ethical discussions in generative AI development. While the\\nchecklist can be readily integrated into the current peer review and publication system to\\nenhance generative AI research, it may also be used in broader settings to disclose ethicsrelated considerations in generative AI-powered products (or real-life applications of such\\nproducts) to help users establish reasonable trust in their capabilities.\\n\\nCurrent ethical discussions on generative AI in healthcare\\nWe conducted a systematic scoping review to analyse current ethical discussions on\\ngenerative AI in healthcare. Our search in four major academic research databases for\\nrelevant publications from January 2013 to July 2023 yielded 2859 articles (see Methods for\\ndetailed search strategy and Supplementary Figure S1 for the PRISMA flow diagram), of\\nwhich 193 articles were included for analysis based on application data modality (text, image,\\nor structured data), ethical issues discussed, generative AI involved, and whether generative\\nAI causes or offers technical solutions for issues raised.\\n\\nGenerative AI for text data-based healthcare\\nForty-one of the 193 articles discussed ethical considerations pertaining to generative AI\\napplications for text data, with 20 articles describing methodological developments or\\napplications of generative AI and the other 21 articles describing review-type works on this\\ntopic. Although some of these review-type articles used the general term “generative AI”, the\\nmain body and supporting evidence focused on LLMs. Twenty-nine articles had in-depth\\ndiscussions on ethical issues, whereas the other 12 articles only briefly touched on some\\nethical aspects.\\nAmong the 41 articles, 29 articles focused on discussing ethical issues caused by LLMs (and\\nspecifically by GPT in 16 of the articles), covering a wide range of application scenarios and\\nconsidered the application of all 10 ethical principles identified in the review (see Figure 1),\\nas well as other less discussed concerns such as human-AI interaction, and the rights of\\nLLMs to be considered as co-authors in scientific papers. One paper only commented briefly\\non the need for ethical considerations in LLMs and is summarised in the “Others” category.\\nAlthough all ethical principles are equally important, some are discussed more often than\\nothers, e.g., non-maleficence (also referred to in the literature as ‘benevolence’), equity, and\\nprivacy.\\nFifteen of the 41 articles aimed to resolve some existing ethical issues (for example,\\nconfidentiality of medical data) by using LLMs and other generative AI (e.g., GAN,\\nautoencoder or diffusion), such as, to reduce privacy concerns by generating synthetic\\nmedical text, to reduce disparity by providing accessible services and assistance, to detect\\nhealth-related misinformation, to generate trusted content, and to improve accountability or\\ntransparency over existing approaches. While most articles focused on either identifying\\nethical issues caused by generative AI or proposing generative AI-based solutions, three\\narticles discussed both to provide a more balanced perspective.\\n\\nGenerative AI for image and structured data-based healthcare\\nUnlike the diverse application scenarios of generative AI based on text data, for image and\\nstructured data, this use of generative AI focuses on data synthesis and encryption. Hence the\\nmajority of articles discussed the methodological developments of generative AI as giving\\nrise to a more distinctive and focused set of ethical issues.\\n5\\nNotably, of the 98 articles on image data and 58 articles on structured data, more than half\\n(n=63 for image data and n=33 for structured data) only mentioned ethical considerations as a\\nbrief motivation for methodological developments or as a general discussion point. The rest\\nincluded more in-depth discussions or evaluations of ethical issues. Among these 155 articles\\n(as one article covered multiple modalities), 11 articles were review-type work, where 10\\narticles reviewed methods that mentioned one or two ethical perspectives, and only one\\narticle24 discussed detailed ethical concerns on generative AI applications.\\nResolving privacy issues was the main aim of articles for these two data modalities (n=74 for\\nimage data and n=50 for structured data; see Figure 1), predominantly by generating synthetic\\ndata using GAN. Eight articles on image data and 9 articles on structured data used\\ngenerative AI to reduce bias, e.g., by synthesizing data for under-represented subgroups in\\nexisting databases. For both data modalities, we did not see explicit discussions on resolving\\nautonomy, integrity, or morality issues using generative AI, and for structured data the articles\\nadditionally lacked discussions on trust or transparency.\\nOnly 11 articles for image data selectively discussed some ethical issues that generative AI\\ncan give rise to, without specific discussions regarding autonomy, integrity, or morality. For\\nstructured data, only 4 articles discussed equity, privacy, or data security issues caused by\\ngenerative AI. Only two articles on structured data included both the cause and resolving\\nperspectives by discussing ethical issues that may arise from limitations of methods\\nproposed, specifically bias induced when synthesizing data in order to resolve privacy issues.\\n\\n', additional_kwargs={}, response_metadata={}),\n",
              " AIMessage(content='The rise of generative AI, like ChatGPT, in healthcare brings significant ethical concerns, which are not always fully addressed by current guidelines. This study systematically reviewed existing research on generative AI ethics in healthcare.\\n\\nThey found that while many discussions focus on problems caused by AI (e.g., privacy, fairness), some research also explores how AI itself can help resolve these issues, like using synthetic data to protect patient privacy. However, there are still gaps in ethical discussions, especially regarding trust, autonomy, and transparency for AI dealing with medical images or structured data.\\n\\nTo improve this, the researchers propose an \"ethics checklist.\" This tool aims to help developers and researchers thoroughly assess and document ethical considerations when building new generative AI technologies. This checklist can enhance the peer review process for research and help users build reasonable trust in AI-powered healthcare products by making ethical considerations more transparent.', additional_kwargs={}, response_metadata={'prompt_feedback': {'block_reason': 0, 'safety_ratings': []}, 'finish_reason': 'STOP', 'safety_ratings': []}, id='run--18c2e353-e661-4e29-8d07-eb76a648945a-0', usage_metadata={'input_tokens': 1377, 'output_tokens': 174, 'total_tokens': 2110}),\n",
              " HumanMessage(content='\\nUse only the research paper abstract from earlier and create a detailed report for a healthcare company.\\nIn the report, also include bullet points (3 max) for pros and cons of ethics in Generative AI\\n', additional_kwargs={}, response_metadata={}),\n",
              " AIMessage(content='**Detailed Report: Ethical Considerations for Generative AI in Healthcare**\\n\\nTo: Healthcare Leadership Team\\nFrom: AI Ethics & Strategy Division\\nDate: October 26, 2023\\nSubject: Navigating Ethical Challenges and Opportunities in Generative AI Adoption\\n\\n**Executive Summary:**\\nThe rapid integration of generative Artificial Intelligence (AI) technologies, such as ChatGPT, into healthcare presents both immense opportunities and significant ethical challenges. While public attention often focuses on the risks, there remains a critical gap in how these ethical issues are systematically identified, discussed, and resolved beyond evolving regulations. A recent systematic review highlights these gaps and proposes a practical \"ethics checklist\" designed to enhance the responsible development and deployment of generative AI in healthcare.\\n\\n**Current Landscape and Challenges:**\\nOur analysis of existing research (2013-2023) on generative AI in healthcare reveals that while many ethical issues are discussed, the approach is often fragmented.\\n*   **Text-based AI (e.g., LLMs):** Discussions frequently revolve around privacy, equity, and the potential for harm (non-maleficence). Concerns like human-AI interaction and even AI\\'s role as a co-author are emerging. Some applications, however, are also being explored to *resolve* issues, such as generating synthetic data to protect patient privacy or detecting misinformation.\\n*   **Image and Structured Data AI:** For these modalities, generative AI is primarily used for data synthesis and encryption, mainly to address privacy concerns. However, ethical discussions are less comprehensive, often only briefly mentioned as motivations for methodological development. There are notable gaps in explicit discussions regarding autonomy, integrity, morality, trust, and transparency for these applications.\\n\\n**Addressing the Gaps: The Proposed Ethics Checklist**\\nTo bridge these identified gaps, the research proposes a comprehensive \"ethics checklist.\" This tool is designed to:\\n1.  **Systematic Assessment:** Ensure a thorough evaluation of all relevant ethical considerations during the development of generative AI technologies.\\n2.  **Transparent Documentation:** Facilitate clear and consistent recording of ethical discussions and decisions.\\n3.  **Integration:** Be readily incorporated into existing peer review and publication systems to elevate the ethical rigor of AI research.\\n4.  **User Trust:** Serve as a mechanism for healthcare companies to disclose ethics-related considerations in generative AI-powered products, fostering reasonable trust among users and patients regarding their capabilities.\\n\\n**Pros of Ethics in Generative AI for Healthcare:**\\n*   Generative AI can actively *resolve* existing ethical issues, such as enhancing patient data privacy through synthetic data generation and reducing healthcare disparities by providing accessible services.\\n*   Proactive ethical assessment and transparent documentation build stronger user and patient trust in AI-powered healthcare products and services.\\n*   Structured ethical frameworks, like the proposed checklist, can guide responsible innovation, ensuring that AI development aligns with core healthcare values and principles.\\n\\n**Cons/Challenges of Ethics in Generative AI for Healthcare:**\\n*   Existing ethical guidelines and regulations are often insufficient or still under development, leaving a lack of clear pathways for resolving complex new ethical issues arising from generative AI.\\n*   Generative AI introduces novel and complex ethical dilemmas, including challenges related to human-AI interaction, accountability, and the very concept of AI\\'s role in creative or intellectual contributions.\\n*   Significant gaps persist in current ethical discussions, particularly concerning principles like patient autonomy, data integrity, morality, and comprehensive trust/transparency for AI applications involving image and structured medical data.', additional_kwargs={}, response_metadata={'prompt_feedback': {'block_reason': 0, 'safety_ratings': []}, 'finish_reason': 'STOP', 'safety_ratings': []}, id='run--d2b16d9c-0b3f-4e70-bba6-e47686272597-0', usage_metadata={'input_tokens': 1738, 'output_tokens': 717, 'total_tokens': 3298}),\n",
              " HumanMessage(content='\\nUse only the research paper abstract from earlier and create a detailed report for a generative AI company solving healthcare problems.\\nIn the report also include sections for key points mentioned around Generative AI for text, images and structured data based healthcare\\n', additional_kwargs={}, response_metadata={})]"
            ]
          },
          "metadata": {},
          "execution_count": 65
        }
      ]
    },
    {
      "cell_type": "markdown",
      "source": [
        "# **Mini-Project 3: Social Media Marketing Analyst**\n",
        "You have the technical fact sheets of one smartphone. Try some iterative prompt engineering and do the following:\n",
        "\n",
        "\n",
        "*   Generate marketing product description for the smartphone\n",
        "*   Custom product description which has the following:\n",
        "\n",
        "\n",
        "\n",
        "```\n",
        "The description should follow this format:\n",
        "\n",
        "Product Name: <Name of the smartphone>\n",
        "​\n",
        "Description: <Brief Overview of the features>\n",
        "​\n",
        "Product Specifications:\n",
        "<Table with key product feature specifications>\n",
        "​\n",
        "The description should focus on the most important features\n",
        "a customer might look for in a phone including the foldable display screen, processing power, RAM, camera and battery life.\n",
        "​\n",
        "After the description, the table should have the\n",
        "key specifications of the product. It should have two columns.\n",
        "The first column should have 'Feature'\n",
        "and the second column should have 'Specification'\n",
        "and try to put exact numeric values for features if they exist.\n",
        "Only put these features in the table - foldable display screen, processing power, RAM, camera and battery life\n",
        "```\n",
        "\n",
        "* Custom product description focusing on specific aspects like display, camera and in less than 60 words"
      ],
      "metadata": {
        "id": "qluFcueTLfvz"
      }
    },
    {
      "cell_type": "code",
      "source": [
        "fact_sheet_mobile = \"\"\"\n",
        "PRODUCT NAME\n",
        "Samsung Galaxy Z Fold4 5G Black\n",
        "​\n",
        "PRODUCT OVERVIEW\n",
        "Stands out. Stands up. Unfolds.\n",
        "The Galaxy Z Fold4 does a lot in one hand with its 15.73 cm(6.2-inch) Cover Screen.\n",
        "Unfolded, the 19.21 cm(7.6-inch) Main Screen lets you really get into the zone.\n",
        "Pushed-back bezels and the Under Display Camera means there's more screen\n",
        "and no black dot getting between you and the breathtaking Infinity Flex Display.\n",
        "Do more than more with Multi View. Whether toggling between texts or catching up\n",
        "on emails, take full advantage of the expansive Main Screen with Multi View.\n",
        "PC-like power thanks to Qualcomm Snapdragon 8+ Gen 1 processor in your pocket,\n",
        "transforms apps optimized with One UI to give you menus and more in a glance\n",
        "New Taskbar for PC-like multitasking. Wipe out tasks in fewer taps. Add\n",
        "apps to the Taskbar for quick navigation and bouncing between windows when\n",
        "you're in the groove.4 And with App Pair, one tap launches up to three apps,\n",
        "all sharing one super-productive screen\n",
        "Our toughest Samsung Galaxy foldables ever. From the inside out,\n",
        "Galaxy Z Fold4 is made with materials that are not only stunning,\n",
        "but stand up to life's bumps and fumbles. The front and rear panels,\n",
        "made with exclusive Corning Gorilla Glass Victus+, are ready to resist\n",
        "sneaky scrapes and scratches. With our toughest aluminum frame made with\n",
        "Armor Aluminum, this is one durable smartphone.\n",
        "World’s first water resistant foldable smartphones. Be adventurous, rain\n",
        "or shine. You don't have to sweat the forecast when you've got one of the\n",
        "world's first water-resistant foldable smartphones.\n",
        "​\n",
        "PRODUCT SPECS\n",
        "OS - Android 12.0\n",
        "RAM - 12 GB\n",
        "Product Dimensions - 15.5 x 13 x 0.6 cm; 263 Grams\n",
        "Batteries - 2 Lithium Ion batteries required. (included)\n",
        "Item model number - SM-F936BZKDINU_5\n",
        "Wireless communication technologies - Cellular\n",
        "Connectivity technologies - Bluetooth, Wi-Fi, USB, NFC\n",
        "GPS - True\n",
        "Special features - Fast Charging Support, Dual SIM, Wireless Charging, Built-In GPS, Water Resistant\n",
        "Other display features - Wireless\n",
        "Device interface - primary - Touchscreen\n",
        "Resolution - 2176x1812\n",
        "Other camera features - Rear, Front\n",
        "Form factor - Foldable Screen\n",
        "Colour - Phantom Black\n",
        "Battery Power Rating - 4400\n",
        "Whats in the box - SIM Tray Ejector, USB Cable\n",
        "Manufacturer - Samsung India pvt Ltd\n",
        "Country of Origin - China\n",
        "Item Weight - 263 g\n",
        "\"\"\""
      ],
      "metadata": {
        "id": "NPX08zpALsE5"
      },
      "execution_count": 66,
      "outputs": []
    },
    {
      "cell_type": "code",
      "source": [
        "prompt_txt = \"\"\"\n",
        "Act as a marketing manager.\n",
        "Your task is to help a marketing team create a\n",
        "description for a retail website advert of a product based\n",
        "on a technical fact sheet specifications for a mobile smartphone\n",
        "​\n",
        "Write a brief product description\n",
        "\n",
        "Technical specifications:\n",
        "{fact_sheet_mobile}\n",
        "\"\"\"\n",
        "chat_template = ChatPromptTemplate.from_template(prompt_txt)"
      ],
      "metadata": {
        "id": "tkK4q09DL9aF"
      },
      "execution_count": 69,
      "outputs": []
    },
    {
      "cell_type": "code",
      "source": [
        "chain = (chat_template\n",
        "            |\n",
        "         gemini)\n",
        "response = chain.invoke({\"fact_sheet_mobile\": fact_sheet_mobile})\n",
        "print(response.content)"
      ],
      "metadata": {
        "colab": {
          "base_uri": "https://localhost:8080/"
        },
        "id": "IC9CVseKMeg2",
        "outputId": "e8b417f3-e35e-4f53-80ad-4b8f8e53d06d"
      },
      "execution_count": 70,
      "outputs": [
        {
          "output_type": "stream",
          "name": "stdout",
          "text": [
            "Here's a brief product description for the Samsung Galaxy Z Fold4 5G Black, designed for a retail website advert:\n",
            "\n",
            "---\n",
            "\n",
            "**Samsung Galaxy Z Fold4 5G Black: Unfold Your World.**\n",
            "\n",
            "Experience the revolutionary Samsung Galaxy Z Fold4 5G Black, where cutting-edge design meets unparalleled power. Seamlessly transition from a convenient 15.73 cm (6.2-inch) Cover Screen for quick tasks to a breathtaking 19.21 cm (7.6-inch) Infinity Flex Main Screen, featuring an innovative Under Display Camera for a truly immersive, bezel-less view.\n",
            "\n",
            "Unleash PC-like productivity with the lightning-fast Qualcomm Snapdragon 8+ Gen 1 processor and a massive 12GB RAM. Master multitasking with Multi View and the intuitive new Taskbar, letting you effortlessly run multiple apps side-by-side.\n",
            "\n",
            "Engineered for adventure, the Z Fold4 is Samsung's toughest foldable yet. Boasting an ultra-strong Armor Aluminum frame, exclusive Corning Gorilla Glass Victus+ on the front and rear, and world-first water resistance, this device is built to withstand life's demands. Discover a new dimension of mobile possibility.\n",
            "\n",
            "---\n"
          ]
        }
      ]
    },
    {
      "cell_type": "code",
      "source": [
        "prompt_txt = \"\"\"\n",
        "Act as a marketing manager.\n",
        "Your task is to help a marketing team create a\n",
        "description for a retail website advert of a product based\n",
        "on a technical fact sheet specifications for a mobile smartphone\n",
        "​\n",
        "The description should follow this format:\n",
        "\n",
        "Product Name: <Name of the smartphone>\n",
        "​\n",
        "Description: <Brief Overview of the features>\n",
        "​\n",
        "Product Specifications:\n",
        "<Table with key product feature specifications>\n",
        "​\n",
        "The description should focus on the most important features\n",
        "a customer might look for in a phone including the foldable display screen, processing power, RAM, camera and battery life.\n",
        "​\n",
        "After the description, the table should have the\n",
        "key specifications of the product. It should have two columns.\n",
        "The first column should have 'Feature'\n",
        "and the second column should have 'Specification'\n",
        "and try to put exact numeric values for features if they exist.\n",
        "Only put these features in the table - foldable display screen, processing power, RAM, camera and battery life\n",
        "\n",
        "Technical specifications:\n",
        "{fact_sheet_mobile}\n",
        "\"\"\"\n",
        "chat_template = ChatPromptTemplate.from_template(prompt_txt)"
      ],
      "metadata": {
        "id": "UutKDe-BMjW0"
      },
      "execution_count": 71,
      "outputs": []
    },
    {
      "cell_type": "code",
      "source": [
        "chain = (chat_template\n",
        "            |\n",
        "         gemini)\n",
        "response = chain.invoke({\"fact_sheet_mobile\": fact_sheet_mobile})\n",
        "\n",
        "print(response.content)"
      ],
      "metadata": {
        "colab": {
          "base_uri": "https://localhost:8080/"
        },
        "id": "Fxze3t0pMw1C",
        "outputId": "3a6c1cc6-a78b-4d74-a962-30472518daf8"
      },
      "execution_count": 72,
      "outputs": [
        {
          "output_type": "stream",
          "name": "stdout",
          "text": [
            "As a marketing manager, here's the description for your retail website advert, crafted to highlight the key features a customer looks for:\n",
            "\n",
            "---\n",
            "\n",
            "**Product Name:** Samsung Galaxy Z Fold4 5G Black\n",
            "\n",
            "**Description:**\n",
            "Unleash a new era of mobile innovation and productivity with the Samsung Galaxy Z Fold4 5G Black. This revolutionary device seamlessly transitions from a compact 6.2-inch Cover Screen to an expansive 7.6-inch Main Screen, offering an immersive Infinity Flex Display experience perfect for work, play, and everything in between. Powered by the cutting-edge Qualcomm Snapdragon 8+ Gen 1 processor and backed by a massive 12GB of RAM, the Galaxy Z Fold4 delivers PC-like performance, ensuring ultra-smooth multitasking with features like Multi View and the new Taskbar. Capture stunning moments with versatile front and rear cameras, designed to capture every detail. Power through your day with confidence thanks to the robust 4400mAh battery, keeping you connected longer. Crafted with our toughest Armor Aluminum frame and Gorilla Glass Victus+, and featuring water resistance, this phone is built to withstand life's adventures.\n",
            "\n",
            "**Product Specifications:**\n",
            "\n",
            "| Feature                 | Specification                                   |\n",
            "| :---------------------- | :---------------------------------------------- |\n",
            "| Foldable Display Screen | 6.2-inch Cover, 7.6-inch Main Infinity Flex     |\n",
            "| Processing Power        | Qualcomm Snapdragon 8+ Gen 1                    |\n",
            "| RAM                     | 12 GB                                           |\n",
            "| Camera                  | Rear & Front Cameras                            |\n",
            "| Battery Life            | 4400 mAh                                        |\n"
          ]
        }
      ]
    },
    {
      "cell_type": "code",
      "source": [],
      "metadata": {
        "id": "RCAr1GkVM2kP"
      },
      "execution_count": null,
      "outputs": []
    }
  ],
  "metadata": {
    "colab": {
      "provenance": [],
      "gpuType": "T4",
      "authorship_tag": "ABX9TyPTmH/G5gdTOplpOy7ZL8jW",
      "include_colab_link": true
    },
    "kernelspec": {
      "display_name": "Python 3",
      "name": "python3"
    },
    "language_info": {
      "name": "python"
    },
    "accelerator": "GPU"
  },
  "nbformat": 4,
  "nbformat_minor": 0
}