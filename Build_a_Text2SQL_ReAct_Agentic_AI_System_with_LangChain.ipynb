{
  "nbformat": 4,
  "nbformat_minor": 0,
  "metadata": {
    "colab": {
      "provenance": [],
      "include_colab_link": true
    },
    "kernelspec": {
      "name": "python3",
      "display_name": "Python 3"
    },
    "language_info": {
      "name": "python"
    }
  },
  "cells": [
    {
      "cell_type": "markdown",
      "metadata": {
        "id": "view-in-github",
        "colab_type": "text"
      },
      "source": [
        "<a href=\"https://colab.research.google.com/github/vatsalagarwal09/GenAI/blob/main/Build_a_Text2SQL_ReAct_Agentic_AI_System_with_LangChain.ipynb\" target=\"_parent\"><img src=\"https://colab.research.google.com/assets/colab-badge.svg\" alt=\"Open In Colab\"/></a>"
      ]
    },
    {
      "cell_type": "markdown",
      "source": [
        "# Build a Text2SQL ReAct Agentic AI System with LangChain"
      ],
      "metadata": {
        "id": "1kiH8lf1y4sD"
      }
    },
    {
      "cell_type": "markdown",
      "source": [
        "### Building a Text2SQL ReAct Agentic AI System\n",
        "\n",
        "In this project, we will design a **Text2SQL ReAct Agentic AI System** to enhance the interaction with databases using natural language queries. This workflow will leverage the `create_react_agent` function from **LangGraph**, which offers a more robust implementation compared to the deprecated LangChain version. The workflow consists of the following components:\n",
        "\n",
        "1. **Agent System Prompt**: The agent is designed to interpret user questions and generate syntactically correct SQL queries. Key rules include:\n",
        "   - Limiting results to at most 10 unless specified by the user.\n",
        "   - Querying only relevant columns instead of retrieving all columns from a table.\n",
        "   - Ensuring plain text SQL query generation without additional formatting or code blocks.\n",
        "\n",
        "2. **SQL Database Tools**: The system uses tools to interact with the database schema and validate queries:\n",
        "   - **DB_QUERY**: Executes the generated SQL query.\n",
        "   - **DB_SCHEMA**: Fetches the schema details of the database.\n",
        "   - **DB_LIST_TABLES**: Lists all tables in the database.\n",
        "   - **DB_QUERY_CHECKER**: Validates the correctness of the SQL query before execution.\n",
        "\n",
        "3. **SQL Database Engine**: Executes the validated SQL queries and retrieves the required data from the database.\n",
        "\n",
        "4. **ReAct Reasoning Framework**: The agent combines reasoning with actions to ensure accurate query formulation and execution.\n",
        "\n",
        "5. **Final Response**: The results are processed and returned to the user in a human-friendly format.\n",
        "\n",
        "By using LangGraph's `create_react_agent`, this system ensures a more reliable, efficient, and user-friendly interaction with SQL databases, making it easier to extract meaningful insights from structured data.\n",
        "\n",
        "![](https://i.imgur.com/4PNKql9.png)"
      ],
      "metadata": {
        "id": "NYBpZTjLnEXb"
      }
    },
    {
      "cell_type": "markdown",
      "source": [
        "## Install OpenAI, and LangChain dependencies"
      ],
      "metadata": {
        "id": "L1KvMtf54l0d"
      }
    },
    {
      "cell_type": "code",
      "source": [
        "!pip install langchain==0.3.14\n",
        "!pip install langchain-openai==0.3.0\n",
        "!pip install langchain-community==0.3.14\n",
        "!pip install langgraph==0.2.66\n",
        "!pip install langchain_google_genai"
      ],
      "metadata": {
        "id": "2evPp14fy258",
        "colab": {
          "base_uri": "https://localhost:8080/",
          "height": 1000
        },
        "outputId": "a4bdf569-182c-40d6-92d2-7994f68bc980"
      },
      "execution_count": 1,
      "outputs": [
        {
          "output_type": "stream",
          "name": "stdout",
          "text": [
            "Requirement already satisfied: langchain==0.3.14 in /usr/local/lib/python3.12/dist-packages (0.3.14)\n",
            "Requirement already satisfied: PyYAML>=5.3 in /usr/local/lib/python3.12/dist-packages (from langchain==0.3.14) (6.0.2)\n",
            "Requirement already satisfied: SQLAlchemy<3,>=1.4 in /usr/local/lib/python3.12/dist-packages (from langchain==0.3.14) (2.0.43)\n",
            "Requirement already satisfied: aiohttp<4.0.0,>=3.8.3 in /usr/local/lib/python3.12/dist-packages (from langchain==0.3.14) (3.12.15)\n",
            "Requirement already satisfied: langchain-core<0.4.0,>=0.3.29 in /usr/local/lib/python3.12/dist-packages (from langchain==0.3.14) (0.3.63)\n",
            "Requirement already satisfied: langchain-text-splitters<0.4.0,>=0.3.3 in /usr/local/lib/python3.12/dist-packages (from langchain==0.3.14) (0.3.8)\n",
            "Requirement already satisfied: langsmith<0.3,>=0.1.17 in /usr/local/lib/python3.12/dist-packages (from langchain==0.3.14) (0.2.11)\n",
            "Requirement already satisfied: numpy<3,>=1.26.2 in /usr/local/lib/python3.12/dist-packages (from langchain==0.3.14) (2.0.2)\n",
            "Requirement already satisfied: pydantic<3.0.0,>=2.7.4 in /usr/local/lib/python3.12/dist-packages (from langchain==0.3.14) (2.11.7)\n",
            "Requirement already satisfied: requests<3,>=2 in /usr/local/lib/python3.12/dist-packages (from langchain==0.3.14) (2.32.4)\n",
            "Requirement already satisfied: tenacity!=8.4.0,<10,>=8.1.0 in /usr/local/lib/python3.12/dist-packages (from langchain==0.3.14) (8.5.0)\n",
            "Requirement already satisfied: aiohappyeyeballs>=2.5.0 in /usr/local/lib/python3.12/dist-packages (from aiohttp<4.0.0,>=3.8.3->langchain==0.3.14) (2.6.1)\n",
            "Requirement already satisfied: aiosignal>=1.4.0 in /usr/local/lib/python3.12/dist-packages (from aiohttp<4.0.0,>=3.8.3->langchain==0.3.14) (1.4.0)\n",
            "Requirement already satisfied: attrs>=17.3.0 in /usr/local/lib/python3.12/dist-packages (from aiohttp<4.0.0,>=3.8.3->langchain==0.3.14) (25.3.0)\n",
            "Requirement already satisfied: frozenlist>=1.1.1 in /usr/local/lib/python3.12/dist-packages (from aiohttp<4.0.0,>=3.8.3->langchain==0.3.14) (1.7.0)\n",
            "Requirement already satisfied: multidict<7.0,>=4.5 in /usr/local/lib/python3.12/dist-packages (from aiohttp<4.0.0,>=3.8.3->langchain==0.3.14) (6.6.4)\n",
            "Requirement already satisfied: propcache>=0.2.0 in /usr/local/lib/python3.12/dist-packages (from aiohttp<4.0.0,>=3.8.3->langchain==0.3.14) (0.3.2)\n",
            "Requirement already satisfied: yarl<2.0,>=1.17.0 in /usr/local/lib/python3.12/dist-packages (from aiohttp<4.0.0,>=3.8.3->langchain==0.3.14) (1.20.1)\n",
            "Requirement already satisfied: jsonpatch<2.0,>=1.33 in /usr/local/lib/python3.12/dist-packages (from langchain-core<0.4.0,>=0.3.29->langchain==0.3.14) (1.33)\n",
            "Requirement already satisfied: packaging<25,>=23.2 in /usr/local/lib/python3.12/dist-packages (from langchain-core<0.4.0,>=0.3.29->langchain==0.3.14) (24.2)\n",
            "Requirement already satisfied: typing-extensions>=4.7 in /usr/local/lib/python3.12/dist-packages (from langchain-core<0.4.0,>=0.3.29->langchain==0.3.14) (4.14.1)\n",
            "Requirement already satisfied: httpx<1,>=0.23.0 in /usr/local/lib/python3.12/dist-packages (from langsmith<0.3,>=0.1.17->langchain==0.3.14) (0.28.1)\n",
            "Requirement already satisfied: orjson<4.0.0,>=3.9.14 in /usr/local/lib/python3.12/dist-packages (from langsmith<0.3,>=0.1.17->langchain==0.3.14) (3.11.2)\n",
            "Requirement already satisfied: requests-toolbelt<2.0.0,>=1.0.0 in /usr/local/lib/python3.12/dist-packages (from langsmith<0.3,>=0.1.17->langchain==0.3.14) (1.0.0)\n",
            "Requirement already satisfied: annotated-types>=0.6.0 in /usr/local/lib/python3.12/dist-packages (from pydantic<3.0.0,>=2.7.4->langchain==0.3.14) (0.7.0)\n",
            "Requirement already satisfied: pydantic-core==2.33.2 in /usr/local/lib/python3.12/dist-packages (from pydantic<3.0.0,>=2.7.4->langchain==0.3.14) (2.33.2)\n",
            "Requirement already satisfied: typing-inspection>=0.4.0 in /usr/local/lib/python3.12/dist-packages (from pydantic<3.0.0,>=2.7.4->langchain==0.3.14) (0.4.1)\n",
            "Requirement already satisfied: charset_normalizer<4,>=2 in /usr/local/lib/python3.12/dist-packages (from requests<3,>=2->langchain==0.3.14) (3.4.3)\n",
            "Requirement already satisfied: idna<4,>=2.5 in /usr/local/lib/python3.12/dist-packages (from requests<3,>=2->langchain==0.3.14) (3.10)\n",
            "Requirement already satisfied: urllib3<3,>=1.21.1 in /usr/local/lib/python3.12/dist-packages (from requests<3,>=2->langchain==0.3.14) (2.5.0)\n",
            "Requirement already satisfied: certifi>=2017.4.17 in /usr/local/lib/python3.12/dist-packages (from requests<3,>=2->langchain==0.3.14) (2025.8.3)\n",
            "Requirement already satisfied: greenlet>=1 in /usr/local/lib/python3.12/dist-packages (from SQLAlchemy<3,>=1.4->langchain==0.3.14) (3.2.4)\n",
            "Requirement already satisfied: anyio in /usr/local/lib/python3.12/dist-packages (from httpx<1,>=0.23.0->langsmith<0.3,>=0.1.17->langchain==0.3.14) (4.10.0)\n",
            "Requirement already satisfied: httpcore==1.* in /usr/local/lib/python3.12/dist-packages (from httpx<1,>=0.23.0->langsmith<0.3,>=0.1.17->langchain==0.3.14) (1.0.9)\n",
            "Requirement already satisfied: h11>=0.16 in /usr/local/lib/python3.12/dist-packages (from httpcore==1.*->httpx<1,>=0.23.0->langsmith<0.3,>=0.1.17->langchain==0.3.14) (0.16.0)\n",
            "Requirement already satisfied: jsonpointer>=1.9 in /usr/local/lib/python3.12/dist-packages (from jsonpatch<2.0,>=1.33->langchain-core<0.4.0,>=0.3.29->langchain==0.3.14) (3.0.0)\n",
            "Requirement already satisfied: sniffio>=1.1 in /usr/local/lib/python3.12/dist-packages (from anyio->httpx<1,>=0.23.0->langsmith<0.3,>=0.1.17->langchain==0.3.14) (1.3.1)\n",
            "Requirement already satisfied: langchain-openai==0.3.0 in /usr/local/lib/python3.12/dist-packages (0.3.0)\n",
            "Requirement already satisfied: langchain-core<0.4.0,>=0.3.29 in /usr/local/lib/python3.12/dist-packages (from langchain-openai==0.3.0) (0.3.63)\n",
            "Requirement already satisfied: openai<2.0.0,>=1.58.1 in /usr/local/lib/python3.12/dist-packages (from langchain-openai==0.3.0) (1.100.0)\n",
            "Requirement already satisfied: tiktoken<1,>=0.7 in /usr/local/lib/python3.12/dist-packages (from langchain-openai==0.3.0) (0.11.0)\n",
            "Requirement already satisfied: langsmith<0.4,>=0.1.126 in /usr/local/lib/python3.12/dist-packages (from langchain-core<0.4.0,>=0.3.29->langchain-openai==0.3.0) (0.2.11)\n",
            "Requirement already satisfied: tenacity!=8.4.0,<10.0.0,>=8.1.0 in /usr/local/lib/python3.12/dist-packages (from langchain-core<0.4.0,>=0.3.29->langchain-openai==0.3.0) (8.5.0)\n",
            "Requirement already satisfied: jsonpatch<2.0,>=1.33 in /usr/local/lib/python3.12/dist-packages (from langchain-core<0.4.0,>=0.3.29->langchain-openai==0.3.0) (1.33)\n",
            "Requirement already satisfied: PyYAML>=5.3 in /usr/local/lib/python3.12/dist-packages (from langchain-core<0.4.0,>=0.3.29->langchain-openai==0.3.0) (6.0.2)\n",
            "Requirement already satisfied: packaging<25,>=23.2 in /usr/local/lib/python3.12/dist-packages (from langchain-core<0.4.0,>=0.3.29->langchain-openai==0.3.0) (24.2)\n",
            "Requirement already satisfied: typing-extensions>=4.7 in /usr/local/lib/python3.12/dist-packages (from langchain-core<0.4.0,>=0.3.29->langchain-openai==0.3.0) (4.14.1)\n",
            "Requirement already satisfied: pydantic>=2.7.4 in /usr/local/lib/python3.12/dist-packages (from langchain-core<0.4.0,>=0.3.29->langchain-openai==0.3.0) (2.11.7)\n",
            "Requirement already satisfied: anyio<5,>=3.5.0 in /usr/local/lib/python3.12/dist-packages (from openai<2.0.0,>=1.58.1->langchain-openai==0.3.0) (4.10.0)\n",
            "Requirement already satisfied: distro<2,>=1.7.0 in /usr/local/lib/python3.12/dist-packages (from openai<2.0.0,>=1.58.1->langchain-openai==0.3.0) (1.9.0)\n",
            "Requirement already satisfied: httpx<1,>=0.23.0 in /usr/local/lib/python3.12/dist-packages (from openai<2.0.0,>=1.58.1->langchain-openai==0.3.0) (0.28.1)\n",
            "Requirement already satisfied: jiter<1,>=0.4.0 in /usr/local/lib/python3.12/dist-packages (from openai<2.0.0,>=1.58.1->langchain-openai==0.3.0) (0.10.0)\n",
            "Requirement already satisfied: sniffio in /usr/local/lib/python3.12/dist-packages (from openai<2.0.0,>=1.58.1->langchain-openai==0.3.0) (1.3.1)\n",
            "Requirement already satisfied: tqdm>4 in /usr/local/lib/python3.12/dist-packages (from openai<2.0.0,>=1.58.1->langchain-openai==0.3.0) (4.67.1)\n",
            "Requirement already satisfied: regex>=2022.1.18 in /usr/local/lib/python3.12/dist-packages (from tiktoken<1,>=0.7->langchain-openai==0.3.0) (2024.11.6)\n",
            "Requirement already satisfied: requests>=2.26.0 in /usr/local/lib/python3.12/dist-packages (from tiktoken<1,>=0.7->langchain-openai==0.3.0) (2.32.4)\n",
            "Requirement already satisfied: idna>=2.8 in /usr/local/lib/python3.12/dist-packages (from anyio<5,>=3.5.0->openai<2.0.0,>=1.58.1->langchain-openai==0.3.0) (3.10)\n",
            "Requirement already satisfied: certifi in /usr/local/lib/python3.12/dist-packages (from httpx<1,>=0.23.0->openai<2.0.0,>=1.58.1->langchain-openai==0.3.0) (2025.8.3)\n",
            "Requirement already satisfied: httpcore==1.* in /usr/local/lib/python3.12/dist-packages (from httpx<1,>=0.23.0->openai<2.0.0,>=1.58.1->langchain-openai==0.3.0) (1.0.9)\n",
            "Requirement already satisfied: h11>=0.16 in /usr/local/lib/python3.12/dist-packages (from httpcore==1.*->httpx<1,>=0.23.0->openai<2.0.0,>=1.58.1->langchain-openai==0.3.0) (0.16.0)\n",
            "Requirement already satisfied: jsonpointer>=1.9 in /usr/local/lib/python3.12/dist-packages (from jsonpatch<2.0,>=1.33->langchain-core<0.4.0,>=0.3.29->langchain-openai==0.3.0) (3.0.0)\n",
            "Requirement already satisfied: orjson<4.0.0,>=3.9.14 in /usr/local/lib/python3.12/dist-packages (from langsmith<0.4,>=0.1.126->langchain-core<0.4.0,>=0.3.29->langchain-openai==0.3.0) (3.11.2)\n",
            "Requirement already satisfied: requests-toolbelt<2.0.0,>=1.0.0 in /usr/local/lib/python3.12/dist-packages (from langsmith<0.4,>=0.1.126->langchain-core<0.4.0,>=0.3.29->langchain-openai==0.3.0) (1.0.0)\n",
            "Requirement already satisfied: annotated-types>=0.6.0 in /usr/local/lib/python3.12/dist-packages (from pydantic>=2.7.4->langchain-core<0.4.0,>=0.3.29->langchain-openai==0.3.0) (0.7.0)\n",
            "Requirement already satisfied: pydantic-core==2.33.2 in /usr/local/lib/python3.12/dist-packages (from pydantic>=2.7.4->langchain-core<0.4.0,>=0.3.29->langchain-openai==0.3.0) (2.33.2)\n",
            "Requirement already satisfied: typing-inspection>=0.4.0 in /usr/local/lib/python3.12/dist-packages (from pydantic>=2.7.4->langchain-core<0.4.0,>=0.3.29->langchain-openai==0.3.0) (0.4.1)\n",
            "Requirement already satisfied: charset_normalizer<4,>=2 in /usr/local/lib/python3.12/dist-packages (from requests>=2.26.0->tiktoken<1,>=0.7->langchain-openai==0.3.0) (3.4.3)\n",
            "Requirement already satisfied: urllib3<3,>=1.21.1 in /usr/local/lib/python3.12/dist-packages (from requests>=2.26.0->tiktoken<1,>=0.7->langchain-openai==0.3.0) (2.5.0)\n",
            "Collecting langchain-community==0.3.14\n",
            "  Using cached langchain_community-0.3.14-py3-none-any.whl.metadata (2.9 kB)\n",
            "Requirement already satisfied: PyYAML>=5.3 in /usr/local/lib/python3.12/dist-packages (from langchain-community==0.3.14) (6.0.2)\n",
            "Requirement already satisfied: SQLAlchemy<3,>=1.4 in /usr/local/lib/python3.12/dist-packages (from langchain-community==0.3.14) (2.0.43)\n",
            "Requirement already satisfied: aiohttp<4.0.0,>=3.8.3 in /usr/local/lib/python3.12/dist-packages (from langchain-community==0.3.14) (3.12.15)\n",
            "Collecting dataclasses-json<0.7,>=0.5.7 (from langchain-community==0.3.14)\n",
            "  Using cached dataclasses_json-0.6.7-py3-none-any.whl.metadata (25 kB)\n",
            "Requirement already satisfied: httpx-sse<0.5.0,>=0.4.0 in /usr/local/lib/python3.12/dist-packages (from langchain-community==0.3.14) (0.4.1)\n",
            "Requirement already satisfied: langchain<0.4.0,>=0.3.14 in /usr/local/lib/python3.12/dist-packages (from langchain-community==0.3.14) (0.3.14)\n",
            "Requirement already satisfied: langchain-core<0.4.0,>=0.3.29 in /usr/local/lib/python3.12/dist-packages (from langchain-community==0.3.14) (0.3.63)\n",
            "Requirement already satisfied: langsmith<0.3,>=0.1.125 in /usr/local/lib/python3.12/dist-packages (from langchain-community==0.3.14) (0.2.11)\n",
            "Requirement already satisfied: numpy<3,>=1.26.2 in /usr/local/lib/python3.12/dist-packages (from langchain-community==0.3.14) (2.0.2)\n",
            "Requirement already satisfied: pydantic-settings<3.0.0,>=2.4.0 in /usr/local/lib/python3.12/dist-packages (from langchain-community==0.3.14) (2.10.1)\n",
            "Requirement already satisfied: requests<3,>=2 in /usr/local/lib/python3.12/dist-packages (from langchain-community==0.3.14) (2.32.4)\n",
            "Requirement already satisfied: tenacity!=8.4.0,<10,>=8.1.0 in /usr/local/lib/python3.12/dist-packages (from langchain-community==0.3.14) (8.5.0)\n",
            "Requirement already satisfied: aiohappyeyeballs>=2.5.0 in /usr/local/lib/python3.12/dist-packages (from aiohttp<4.0.0,>=3.8.3->langchain-community==0.3.14) (2.6.1)\n",
            "Requirement already satisfied: aiosignal>=1.4.0 in /usr/local/lib/python3.12/dist-packages (from aiohttp<4.0.0,>=3.8.3->langchain-community==0.3.14) (1.4.0)\n",
            "Requirement already satisfied: attrs>=17.3.0 in /usr/local/lib/python3.12/dist-packages (from aiohttp<4.0.0,>=3.8.3->langchain-community==0.3.14) (25.3.0)\n",
            "Requirement already satisfied: frozenlist>=1.1.1 in /usr/local/lib/python3.12/dist-packages (from aiohttp<4.0.0,>=3.8.3->langchain-community==0.3.14) (1.7.0)\n",
            "Requirement already satisfied: multidict<7.0,>=4.5 in /usr/local/lib/python3.12/dist-packages (from aiohttp<4.0.0,>=3.8.3->langchain-community==0.3.14) (6.6.4)\n",
            "Requirement already satisfied: propcache>=0.2.0 in /usr/local/lib/python3.12/dist-packages (from aiohttp<4.0.0,>=3.8.3->langchain-community==0.3.14) (0.3.2)\n",
            "Requirement already satisfied: yarl<2.0,>=1.17.0 in /usr/local/lib/python3.12/dist-packages (from aiohttp<4.0.0,>=3.8.3->langchain-community==0.3.14) (1.20.1)\n",
            "Collecting marshmallow<4.0.0,>=3.18.0 (from dataclasses-json<0.7,>=0.5.7->langchain-community==0.3.14)\n",
            "  Using cached marshmallow-3.26.1-py3-none-any.whl.metadata (7.3 kB)\n",
            "Collecting typing-inspect<1,>=0.4.0 (from dataclasses-json<0.7,>=0.5.7->langchain-community==0.3.14)\n",
            "  Using cached typing_inspect-0.9.0-py3-none-any.whl.metadata (1.5 kB)\n",
            "Requirement already satisfied: langchain-text-splitters<0.4.0,>=0.3.3 in /usr/local/lib/python3.12/dist-packages (from langchain<0.4.0,>=0.3.14->langchain-community==0.3.14) (0.3.8)\n",
            "Requirement already satisfied: pydantic<3.0.0,>=2.7.4 in /usr/local/lib/python3.12/dist-packages (from langchain<0.4.0,>=0.3.14->langchain-community==0.3.14) (2.11.7)\n",
            "Requirement already satisfied: jsonpatch<2.0,>=1.33 in /usr/local/lib/python3.12/dist-packages (from langchain-core<0.4.0,>=0.3.29->langchain-community==0.3.14) (1.33)\n",
            "Requirement already satisfied: packaging<25,>=23.2 in /usr/local/lib/python3.12/dist-packages (from langchain-core<0.4.0,>=0.3.29->langchain-community==0.3.14) (24.2)\n",
            "Requirement already satisfied: typing-extensions>=4.7 in /usr/local/lib/python3.12/dist-packages (from langchain-core<0.4.0,>=0.3.29->langchain-community==0.3.14) (4.14.1)\n",
            "Requirement already satisfied: httpx<1,>=0.23.0 in /usr/local/lib/python3.12/dist-packages (from langsmith<0.3,>=0.1.125->langchain-community==0.3.14) (0.28.1)\n",
            "Requirement already satisfied: orjson<4.0.0,>=3.9.14 in /usr/local/lib/python3.12/dist-packages (from langsmith<0.3,>=0.1.125->langchain-community==0.3.14) (3.11.2)\n",
            "Requirement already satisfied: requests-toolbelt<2.0.0,>=1.0.0 in /usr/local/lib/python3.12/dist-packages (from langsmith<0.3,>=0.1.125->langchain-community==0.3.14) (1.0.0)\n",
            "Requirement already satisfied: python-dotenv>=0.21.0 in /usr/local/lib/python3.12/dist-packages (from pydantic-settings<3.0.0,>=2.4.0->langchain-community==0.3.14) (1.1.1)\n",
            "Requirement already satisfied: typing-inspection>=0.4.0 in /usr/local/lib/python3.12/dist-packages (from pydantic-settings<3.0.0,>=2.4.0->langchain-community==0.3.14) (0.4.1)\n",
            "Requirement already satisfied: charset_normalizer<4,>=2 in /usr/local/lib/python3.12/dist-packages (from requests<3,>=2->langchain-community==0.3.14) (3.4.3)\n",
            "Requirement already satisfied: idna<4,>=2.5 in /usr/local/lib/python3.12/dist-packages (from requests<3,>=2->langchain-community==0.3.14) (3.10)\n",
            "Requirement already satisfied: urllib3<3,>=1.21.1 in /usr/local/lib/python3.12/dist-packages (from requests<3,>=2->langchain-community==0.3.14) (2.5.0)\n",
            "Requirement already satisfied: certifi>=2017.4.17 in /usr/local/lib/python3.12/dist-packages (from requests<3,>=2->langchain-community==0.3.14) (2025.8.3)\n",
            "Requirement already satisfied: greenlet>=1 in /usr/local/lib/python3.12/dist-packages (from SQLAlchemy<3,>=1.4->langchain-community==0.3.14) (3.2.4)\n",
            "Requirement already satisfied: anyio in /usr/local/lib/python3.12/dist-packages (from httpx<1,>=0.23.0->langsmith<0.3,>=0.1.125->langchain-community==0.3.14) (4.10.0)\n",
            "Requirement already satisfied: httpcore==1.* in /usr/local/lib/python3.12/dist-packages (from httpx<1,>=0.23.0->langsmith<0.3,>=0.1.125->langchain-community==0.3.14) (1.0.9)\n",
            "Requirement already satisfied: h11>=0.16 in /usr/local/lib/python3.12/dist-packages (from httpcore==1.*->httpx<1,>=0.23.0->langsmith<0.3,>=0.1.125->langchain-community==0.3.14) (0.16.0)\n",
            "Requirement already satisfied: jsonpointer>=1.9 in /usr/local/lib/python3.12/dist-packages (from jsonpatch<2.0,>=1.33->langchain-core<0.4.0,>=0.3.29->langchain-community==0.3.14) (3.0.0)\n",
            "Requirement already satisfied: annotated-types>=0.6.0 in /usr/local/lib/python3.12/dist-packages (from pydantic<3.0.0,>=2.7.4->langchain<0.4.0,>=0.3.14->langchain-community==0.3.14) (0.7.0)\n",
            "Requirement already satisfied: pydantic-core==2.33.2 in /usr/local/lib/python3.12/dist-packages (from pydantic<3.0.0,>=2.7.4->langchain<0.4.0,>=0.3.14->langchain-community==0.3.14) (2.33.2)\n",
            "Collecting mypy-extensions>=0.3.0 (from typing-inspect<1,>=0.4.0->dataclasses-json<0.7,>=0.5.7->langchain-community==0.3.14)\n",
            "  Using cached mypy_extensions-1.1.0-py3-none-any.whl.metadata (1.1 kB)\n",
            "Requirement already satisfied: sniffio>=1.1 in /usr/local/lib/python3.12/dist-packages (from anyio->httpx<1,>=0.23.0->langsmith<0.3,>=0.1.125->langchain-community==0.3.14) (1.3.1)\n",
            "Using cached langchain_community-0.3.14-py3-none-any.whl (2.5 MB)\n",
            "Using cached dataclasses_json-0.6.7-py3-none-any.whl (28 kB)\n",
            "Using cached marshmallow-3.26.1-py3-none-any.whl (50 kB)\n",
            "Using cached typing_inspect-0.9.0-py3-none-any.whl (8.8 kB)\n",
            "Using cached mypy_extensions-1.1.0-py3-none-any.whl (5.0 kB)\n",
            "Installing collected packages: mypy-extensions, marshmallow, typing-inspect, dataclasses-json, langchain-community\n",
            "Successfully installed dataclasses-json-0.6.7 langchain-community-0.3.14 marshmallow-3.26.1 mypy-extensions-1.1.0 typing-inspect-0.9.0\n",
            "Collecting langgraph==0.2.66\n",
            "  Downloading langgraph-0.2.66-py3-none-any.whl.metadata (16 kB)\n",
            "Requirement already satisfied: langchain-core!=0.3.0,!=0.3.1,!=0.3.10,!=0.3.11,!=0.3.12,!=0.3.13,!=0.3.14,!=0.3.15,!=0.3.16,!=0.3.17,!=0.3.18,!=0.3.19,!=0.3.2,!=0.3.20,!=0.3.21,!=0.3.22,!=0.3.3,!=0.3.4,!=0.3.5,!=0.3.6,!=0.3.7,!=0.3.8,!=0.3.9,<0.4.0,>=0.2.43 in /usr/local/lib/python3.12/dist-packages (from langgraph==0.2.66) (0.3.63)\n",
            "Collecting langgraph-checkpoint<3.0.0,>=2.0.10 (from langgraph==0.2.66)\n",
            "  Downloading langgraph_checkpoint-2.1.1-py3-none-any.whl.metadata (4.2 kB)\n",
            "Collecting langgraph-sdk<0.2.0,>=0.1.42 (from langgraph==0.2.66)\n",
            "  Downloading langgraph_sdk-0.1.74-py3-none-any.whl.metadata (1.5 kB)\n",
            "Requirement already satisfied: langsmith<0.4,>=0.1.126 in /usr/local/lib/python3.12/dist-packages (from langchain-core!=0.3.0,!=0.3.1,!=0.3.10,!=0.3.11,!=0.3.12,!=0.3.13,!=0.3.14,!=0.3.15,!=0.3.16,!=0.3.17,!=0.3.18,!=0.3.19,!=0.3.2,!=0.3.20,!=0.3.21,!=0.3.22,!=0.3.3,!=0.3.4,!=0.3.5,!=0.3.6,!=0.3.7,!=0.3.8,!=0.3.9,<0.4.0,>=0.2.43->langgraph==0.2.66) (0.2.11)\n",
            "Requirement already satisfied: tenacity!=8.4.0,<10.0.0,>=8.1.0 in /usr/local/lib/python3.12/dist-packages (from langchain-core!=0.3.0,!=0.3.1,!=0.3.10,!=0.3.11,!=0.3.12,!=0.3.13,!=0.3.14,!=0.3.15,!=0.3.16,!=0.3.17,!=0.3.18,!=0.3.19,!=0.3.2,!=0.3.20,!=0.3.21,!=0.3.22,!=0.3.3,!=0.3.4,!=0.3.5,!=0.3.6,!=0.3.7,!=0.3.8,!=0.3.9,<0.4.0,>=0.2.43->langgraph==0.2.66) (8.5.0)\n",
            "Requirement already satisfied: jsonpatch<2.0,>=1.33 in /usr/local/lib/python3.12/dist-packages (from langchain-core!=0.3.0,!=0.3.1,!=0.3.10,!=0.3.11,!=0.3.12,!=0.3.13,!=0.3.14,!=0.3.15,!=0.3.16,!=0.3.17,!=0.3.18,!=0.3.19,!=0.3.2,!=0.3.20,!=0.3.21,!=0.3.22,!=0.3.3,!=0.3.4,!=0.3.5,!=0.3.6,!=0.3.7,!=0.3.8,!=0.3.9,<0.4.0,>=0.2.43->langgraph==0.2.66) (1.33)\n",
            "Requirement already satisfied: PyYAML>=5.3 in /usr/local/lib/python3.12/dist-packages (from langchain-core!=0.3.0,!=0.3.1,!=0.3.10,!=0.3.11,!=0.3.12,!=0.3.13,!=0.3.14,!=0.3.15,!=0.3.16,!=0.3.17,!=0.3.18,!=0.3.19,!=0.3.2,!=0.3.20,!=0.3.21,!=0.3.22,!=0.3.3,!=0.3.4,!=0.3.5,!=0.3.6,!=0.3.7,!=0.3.8,!=0.3.9,<0.4.0,>=0.2.43->langgraph==0.2.66) (6.0.2)\n",
            "Requirement already satisfied: packaging<25,>=23.2 in /usr/local/lib/python3.12/dist-packages (from langchain-core!=0.3.0,!=0.3.1,!=0.3.10,!=0.3.11,!=0.3.12,!=0.3.13,!=0.3.14,!=0.3.15,!=0.3.16,!=0.3.17,!=0.3.18,!=0.3.19,!=0.3.2,!=0.3.20,!=0.3.21,!=0.3.22,!=0.3.3,!=0.3.4,!=0.3.5,!=0.3.6,!=0.3.7,!=0.3.8,!=0.3.9,<0.4.0,>=0.2.43->langgraph==0.2.66) (24.2)\n",
            "Requirement already satisfied: typing-extensions>=4.7 in /usr/local/lib/python3.12/dist-packages (from langchain-core!=0.3.0,!=0.3.1,!=0.3.10,!=0.3.11,!=0.3.12,!=0.3.13,!=0.3.14,!=0.3.15,!=0.3.16,!=0.3.17,!=0.3.18,!=0.3.19,!=0.3.2,!=0.3.20,!=0.3.21,!=0.3.22,!=0.3.3,!=0.3.4,!=0.3.5,!=0.3.6,!=0.3.7,!=0.3.8,!=0.3.9,<0.4.0,>=0.2.43->langgraph==0.2.66) (4.14.1)\n",
            "Requirement already satisfied: pydantic>=2.7.4 in /usr/local/lib/python3.12/dist-packages (from langchain-core!=0.3.0,!=0.3.1,!=0.3.10,!=0.3.11,!=0.3.12,!=0.3.13,!=0.3.14,!=0.3.15,!=0.3.16,!=0.3.17,!=0.3.18,!=0.3.19,!=0.3.2,!=0.3.20,!=0.3.21,!=0.3.22,!=0.3.3,!=0.3.4,!=0.3.5,!=0.3.6,!=0.3.7,!=0.3.8,!=0.3.9,<0.4.0,>=0.2.43->langgraph==0.2.66) (2.11.7)\n",
            "Collecting ormsgpack>=1.10.0 (from langgraph-checkpoint<3.0.0,>=2.0.10->langgraph==0.2.66)\n",
            "  Downloading ormsgpack-1.10.0-cp312-cp312-manylinux_2_17_x86_64.manylinux2014_x86_64.whl.metadata (43 kB)\n",
            "\u001b[2K     \u001b[90m━━━━━━━━━━━━━━━━━━━━━━━━━━━━━━━━━━━━━━━━\u001b[0m \u001b[32m43.7/43.7 kB\u001b[0m \u001b[31m2.4 MB/s\u001b[0m eta \u001b[36m0:00:00\u001b[0m\n",
            "\u001b[?25hRequirement already satisfied: httpx>=0.25.2 in /usr/local/lib/python3.12/dist-packages (from langgraph-sdk<0.2.0,>=0.1.42->langgraph==0.2.66) (0.28.1)\n",
            "Requirement already satisfied: orjson>=3.10.1 in /usr/local/lib/python3.12/dist-packages (from langgraph-sdk<0.2.0,>=0.1.42->langgraph==0.2.66) (3.11.2)\n",
            "Requirement already satisfied: anyio in /usr/local/lib/python3.12/dist-packages (from httpx>=0.25.2->langgraph-sdk<0.2.0,>=0.1.42->langgraph==0.2.66) (4.10.0)\n",
            "Requirement already satisfied: certifi in /usr/local/lib/python3.12/dist-packages (from httpx>=0.25.2->langgraph-sdk<0.2.0,>=0.1.42->langgraph==0.2.66) (2025.8.3)\n",
            "Requirement already satisfied: httpcore==1.* in /usr/local/lib/python3.12/dist-packages (from httpx>=0.25.2->langgraph-sdk<0.2.0,>=0.1.42->langgraph==0.2.66) (1.0.9)\n",
            "Requirement already satisfied: idna in /usr/local/lib/python3.12/dist-packages (from httpx>=0.25.2->langgraph-sdk<0.2.0,>=0.1.42->langgraph==0.2.66) (3.10)\n",
            "Requirement already satisfied: h11>=0.16 in /usr/local/lib/python3.12/dist-packages (from httpcore==1.*->httpx>=0.25.2->langgraph-sdk<0.2.0,>=0.1.42->langgraph==0.2.66) (0.16.0)\n",
            "Requirement already satisfied: jsonpointer>=1.9 in /usr/local/lib/python3.12/dist-packages (from jsonpatch<2.0,>=1.33->langchain-core!=0.3.0,!=0.3.1,!=0.3.10,!=0.3.11,!=0.3.12,!=0.3.13,!=0.3.14,!=0.3.15,!=0.3.16,!=0.3.17,!=0.3.18,!=0.3.19,!=0.3.2,!=0.3.20,!=0.3.21,!=0.3.22,!=0.3.3,!=0.3.4,!=0.3.5,!=0.3.6,!=0.3.7,!=0.3.8,!=0.3.9,<0.4.0,>=0.2.43->langgraph==0.2.66) (3.0.0)\n",
            "Requirement already satisfied: requests<3,>=2 in /usr/local/lib/python3.12/dist-packages (from langsmith<0.4,>=0.1.126->langchain-core!=0.3.0,!=0.3.1,!=0.3.10,!=0.3.11,!=0.3.12,!=0.3.13,!=0.3.14,!=0.3.15,!=0.3.16,!=0.3.17,!=0.3.18,!=0.3.19,!=0.3.2,!=0.3.20,!=0.3.21,!=0.3.22,!=0.3.3,!=0.3.4,!=0.3.5,!=0.3.6,!=0.3.7,!=0.3.8,!=0.3.9,<0.4.0,>=0.2.43->langgraph==0.2.66) (2.32.4)\n",
            "Requirement already satisfied: requests-toolbelt<2.0.0,>=1.0.0 in /usr/local/lib/python3.12/dist-packages (from langsmith<0.4,>=0.1.126->langchain-core!=0.3.0,!=0.3.1,!=0.3.10,!=0.3.11,!=0.3.12,!=0.3.13,!=0.3.14,!=0.3.15,!=0.3.16,!=0.3.17,!=0.3.18,!=0.3.19,!=0.3.2,!=0.3.20,!=0.3.21,!=0.3.22,!=0.3.3,!=0.3.4,!=0.3.5,!=0.3.6,!=0.3.7,!=0.3.8,!=0.3.9,<0.4.0,>=0.2.43->langgraph==0.2.66) (1.0.0)\n",
            "Requirement already satisfied: annotated-types>=0.6.0 in /usr/local/lib/python3.12/dist-packages (from pydantic>=2.7.4->langchain-core!=0.3.0,!=0.3.1,!=0.3.10,!=0.3.11,!=0.3.12,!=0.3.13,!=0.3.14,!=0.3.15,!=0.3.16,!=0.3.17,!=0.3.18,!=0.3.19,!=0.3.2,!=0.3.20,!=0.3.21,!=0.3.22,!=0.3.3,!=0.3.4,!=0.3.5,!=0.3.6,!=0.3.7,!=0.3.8,!=0.3.9,<0.4.0,>=0.2.43->langgraph==0.2.66) (0.7.0)\n",
            "Requirement already satisfied: pydantic-core==2.33.2 in /usr/local/lib/python3.12/dist-packages (from pydantic>=2.7.4->langchain-core!=0.3.0,!=0.3.1,!=0.3.10,!=0.3.11,!=0.3.12,!=0.3.13,!=0.3.14,!=0.3.15,!=0.3.16,!=0.3.17,!=0.3.18,!=0.3.19,!=0.3.2,!=0.3.20,!=0.3.21,!=0.3.22,!=0.3.3,!=0.3.4,!=0.3.5,!=0.3.6,!=0.3.7,!=0.3.8,!=0.3.9,<0.4.0,>=0.2.43->langgraph==0.2.66) (2.33.2)\n",
            "Requirement already satisfied: typing-inspection>=0.4.0 in /usr/local/lib/python3.12/dist-packages (from pydantic>=2.7.4->langchain-core!=0.3.0,!=0.3.1,!=0.3.10,!=0.3.11,!=0.3.12,!=0.3.13,!=0.3.14,!=0.3.15,!=0.3.16,!=0.3.17,!=0.3.18,!=0.3.19,!=0.3.2,!=0.3.20,!=0.3.21,!=0.3.22,!=0.3.3,!=0.3.4,!=0.3.5,!=0.3.6,!=0.3.7,!=0.3.8,!=0.3.9,<0.4.0,>=0.2.43->langgraph==0.2.66) (0.4.1)\n",
            "Requirement already satisfied: charset_normalizer<4,>=2 in /usr/local/lib/python3.12/dist-packages (from requests<3,>=2->langsmith<0.4,>=0.1.126->langchain-core!=0.3.0,!=0.3.1,!=0.3.10,!=0.3.11,!=0.3.12,!=0.3.13,!=0.3.14,!=0.3.15,!=0.3.16,!=0.3.17,!=0.3.18,!=0.3.19,!=0.3.2,!=0.3.20,!=0.3.21,!=0.3.22,!=0.3.3,!=0.3.4,!=0.3.5,!=0.3.6,!=0.3.7,!=0.3.8,!=0.3.9,<0.4.0,>=0.2.43->langgraph==0.2.66) (3.4.3)\n",
            "Requirement already satisfied: urllib3<3,>=1.21.1 in /usr/local/lib/python3.12/dist-packages (from requests<3,>=2->langsmith<0.4,>=0.1.126->langchain-core!=0.3.0,!=0.3.1,!=0.3.10,!=0.3.11,!=0.3.12,!=0.3.13,!=0.3.14,!=0.3.15,!=0.3.16,!=0.3.17,!=0.3.18,!=0.3.19,!=0.3.2,!=0.3.20,!=0.3.21,!=0.3.22,!=0.3.3,!=0.3.4,!=0.3.5,!=0.3.6,!=0.3.7,!=0.3.8,!=0.3.9,<0.4.0,>=0.2.43->langgraph==0.2.66) (2.5.0)\n",
            "Requirement already satisfied: sniffio>=1.1 in /usr/local/lib/python3.12/dist-packages (from anyio->httpx>=0.25.2->langgraph-sdk<0.2.0,>=0.1.42->langgraph==0.2.66) (1.3.1)\n",
            "Downloading langgraph-0.2.66-py3-none-any.whl (145 kB)\n",
            "\u001b[2K   \u001b[90m━━━━━━━━━━━━━━━━━━━━━━━━━━━━━━━━━━━━━━━━\u001b[0m \u001b[32m145.3/145.3 kB\u001b[0m \u001b[31m9.5 MB/s\u001b[0m eta \u001b[36m0:00:00\u001b[0m\n",
            "\u001b[?25hDownloading langgraph_checkpoint-2.1.1-py3-none-any.whl (43 kB)\n",
            "\u001b[2K   \u001b[90m━━━━━━━━━━━━━━━━━━━━━━━━━━━━━━━━━━━━━━━━\u001b[0m \u001b[32m43.9/43.9 kB\u001b[0m \u001b[31m3.7 MB/s\u001b[0m eta \u001b[36m0:00:00\u001b[0m\n",
            "\u001b[?25hDownloading langgraph_sdk-0.1.74-py3-none-any.whl (50 kB)\n",
            "\u001b[2K   \u001b[90m━━━━━━━━━━━━━━━━━━━━━━━━━━━━━━━━━━━━━━━━\u001b[0m \u001b[32m50.3/50.3 kB\u001b[0m \u001b[31m4.3 MB/s\u001b[0m eta \u001b[36m0:00:00\u001b[0m\n",
            "\u001b[?25hDownloading ormsgpack-1.10.0-cp312-cp312-manylinux_2_17_x86_64.manylinux2014_x86_64.whl (216 kB)\n",
            "\u001b[2K   \u001b[90m━━━━━━━━━━━━━━━━━━━━━━━━━━━━━━━━━━━━━━━━\u001b[0m \u001b[32m216.7/216.7 kB\u001b[0m \u001b[31m11.5 MB/s\u001b[0m eta \u001b[36m0:00:00\u001b[0m\n",
            "\u001b[?25hInstalling collected packages: ormsgpack, langgraph-sdk, langgraph-checkpoint, langgraph\n",
            "Successfully installed langgraph-0.2.66 langgraph-checkpoint-2.1.1 langgraph-sdk-0.1.74 ormsgpack-1.10.0\n",
            "Collecting langchain_google_genai\n",
            "  Downloading langchain_google_genai-2.1.9-py3-none-any.whl.metadata (7.2 kB)\n",
            "Collecting filetype<2.0.0,>=1.2.0 (from langchain_google_genai)\n",
            "  Downloading filetype-1.2.0-py2.py3-none-any.whl.metadata (6.5 kB)\n",
            "Collecting google-ai-generativelanguage<0.7.0,>=0.6.18 (from langchain_google_genai)\n",
            "  Downloading google_ai_generativelanguage-0.6.18-py3-none-any.whl.metadata (9.8 kB)\n",
            "Collecting langchain-core<0.4.0,>=0.3.68 (from langchain_google_genai)\n",
            "  Downloading langchain_core-0.3.74-py3-none-any.whl.metadata (5.8 kB)\n",
            "Requirement already satisfied: pydantic<3,>=2 in /usr/local/lib/python3.12/dist-packages (from langchain_google_genai) (2.11.7)\n",
            "Requirement already satisfied: google-api-core!=2.0.*,!=2.1.*,!=2.10.*,!=2.2.*,!=2.3.*,!=2.4.*,!=2.5.*,!=2.6.*,!=2.7.*,!=2.8.*,!=2.9.*,<3.0.0,>=1.34.1 in /usr/local/lib/python3.12/dist-packages (from google-api-core[grpc]!=2.0.*,!=2.1.*,!=2.10.*,!=2.2.*,!=2.3.*,!=2.4.*,!=2.5.*,!=2.6.*,!=2.7.*,!=2.8.*,!=2.9.*,<3.0.0,>=1.34.1->google-ai-generativelanguage<0.7.0,>=0.6.18->langchain_google_genai) (2.25.1)\n",
            "Requirement already satisfied: google-auth!=2.24.0,!=2.25.0,<3.0.0,>=2.14.1 in /usr/local/lib/python3.12/dist-packages (from google-ai-generativelanguage<0.7.0,>=0.6.18->langchain_google_genai) (2.38.0)\n",
            "Requirement already satisfied: proto-plus<2.0.0,>=1.22.3 in /usr/local/lib/python3.12/dist-packages (from google-ai-generativelanguage<0.7.0,>=0.6.18->langchain_google_genai) (1.26.1)\n",
            "Requirement already satisfied: protobuf!=4.21.0,!=4.21.1,!=4.21.2,!=4.21.3,!=4.21.4,!=4.21.5,<7.0.0,>=3.20.2 in /usr/local/lib/python3.12/dist-packages (from google-ai-generativelanguage<0.7.0,>=0.6.18->langchain_google_genai) (5.29.5)\n",
            "Collecting langsmith>=0.3.45 (from langchain-core<0.4.0,>=0.3.68->langchain_google_genai)\n",
            "  Downloading langsmith-0.4.16-py3-none-any.whl.metadata (14 kB)\n",
            "Requirement already satisfied: tenacity!=8.4.0,<10.0.0,>=8.1.0 in /usr/local/lib/python3.12/dist-packages (from langchain-core<0.4.0,>=0.3.68->langchain_google_genai) (8.5.0)\n",
            "Requirement already satisfied: jsonpatch<2.0,>=1.33 in /usr/local/lib/python3.12/dist-packages (from langchain-core<0.4.0,>=0.3.68->langchain_google_genai) (1.33)\n",
            "Requirement already satisfied: PyYAML>=5.3 in /usr/local/lib/python3.12/dist-packages (from langchain-core<0.4.0,>=0.3.68->langchain_google_genai) (6.0.2)\n",
            "Requirement already satisfied: typing-extensions>=4.7 in /usr/local/lib/python3.12/dist-packages (from langchain-core<0.4.0,>=0.3.68->langchain_google_genai) (4.14.1)\n",
            "Requirement already satisfied: packaging>=23.2 in /usr/local/lib/python3.12/dist-packages (from langchain-core<0.4.0,>=0.3.68->langchain_google_genai) (24.2)\n",
            "Requirement already satisfied: annotated-types>=0.6.0 in /usr/local/lib/python3.12/dist-packages (from pydantic<3,>=2->langchain_google_genai) (0.7.0)\n",
            "Requirement already satisfied: pydantic-core==2.33.2 in /usr/local/lib/python3.12/dist-packages (from pydantic<3,>=2->langchain_google_genai) (2.33.2)\n",
            "Requirement already satisfied: typing-inspection>=0.4.0 in /usr/local/lib/python3.12/dist-packages (from pydantic<3,>=2->langchain_google_genai) (0.4.1)\n",
            "Requirement already satisfied: googleapis-common-protos<2.0.0,>=1.56.2 in /usr/local/lib/python3.12/dist-packages (from google-api-core!=2.0.*,!=2.1.*,!=2.10.*,!=2.2.*,!=2.3.*,!=2.4.*,!=2.5.*,!=2.6.*,!=2.7.*,!=2.8.*,!=2.9.*,<3.0.0,>=1.34.1->google-api-core[grpc]!=2.0.*,!=2.1.*,!=2.10.*,!=2.2.*,!=2.3.*,!=2.4.*,!=2.5.*,!=2.6.*,!=2.7.*,!=2.8.*,!=2.9.*,<3.0.0,>=1.34.1->google-ai-generativelanguage<0.7.0,>=0.6.18->langchain_google_genai) (1.70.0)\n",
            "Requirement already satisfied: requests<3.0.0,>=2.18.0 in /usr/local/lib/python3.12/dist-packages (from google-api-core!=2.0.*,!=2.1.*,!=2.10.*,!=2.2.*,!=2.3.*,!=2.4.*,!=2.5.*,!=2.6.*,!=2.7.*,!=2.8.*,!=2.9.*,<3.0.0,>=1.34.1->google-api-core[grpc]!=2.0.*,!=2.1.*,!=2.10.*,!=2.2.*,!=2.3.*,!=2.4.*,!=2.5.*,!=2.6.*,!=2.7.*,!=2.8.*,!=2.9.*,<3.0.0,>=1.34.1->google-ai-generativelanguage<0.7.0,>=0.6.18->langchain_google_genai) (2.32.4)\n",
            "Requirement already satisfied: grpcio<2.0.0,>=1.33.2 in /usr/local/lib/python3.12/dist-packages (from google-api-core[grpc]!=2.0.*,!=2.1.*,!=2.10.*,!=2.2.*,!=2.3.*,!=2.4.*,!=2.5.*,!=2.6.*,!=2.7.*,!=2.8.*,!=2.9.*,<3.0.0,>=1.34.1->google-ai-generativelanguage<0.7.0,>=0.6.18->langchain_google_genai) (1.74.0)\n",
            "Requirement already satisfied: grpcio-status<2.0.0,>=1.33.2 in /usr/local/lib/python3.12/dist-packages (from google-api-core[grpc]!=2.0.*,!=2.1.*,!=2.10.*,!=2.2.*,!=2.3.*,!=2.4.*,!=2.5.*,!=2.6.*,!=2.7.*,!=2.8.*,!=2.9.*,<3.0.0,>=1.34.1->google-ai-generativelanguage<0.7.0,>=0.6.18->langchain_google_genai) (1.71.2)\n",
            "Requirement already satisfied: cachetools<6.0,>=2.0.0 in /usr/local/lib/python3.12/dist-packages (from google-auth!=2.24.0,!=2.25.0,<3.0.0,>=2.14.1->google-ai-generativelanguage<0.7.0,>=0.6.18->langchain_google_genai) (5.5.2)\n",
            "Requirement already satisfied: pyasn1-modules>=0.2.1 in /usr/local/lib/python3.12/dist-packages (from google-auth!=2.24.0,!=2.25.0,<3.0.0,>=2.14.1->google-ai-generativelanguage<0.7.0,>=0.6.18->langchain_google_genai) (0.4.2)\n",
            "Requirement already satisfied: rsa<5,>=3.1.4 in /usr/local/lib/python3.12/dist-packages (from google-auth!=2.24.0,!=2.25.0,<3.0.0,>=2.14.1->google-ai-generativelanguage<0.7.0,>=0.6.18->langchain_google_genai) (4.9.1)\n",
            "Requirement already satisfied: jsonpointer>=1.9 in /usr/local/lib/python3.12/dist-packages (from jsonpatch<2.0,>=1.33->langchain-core<0.4.0,>=0.3.68->langchain_google_genai) (3.0.0)\n",
            "Requirement already satisfied: httpx<1,>=0.23.0 in /usr/local/lib/python3.12/dist-packages (from langsmith>=0.3.45->langchain-core<0.4.0,>=0.3.68->langchain_google_genai) (0.28.1)\n",
            "Requirement already satisfied: orjson>=3.9.14 in /usr/local/lib/python3.12/dist-packages (from langsmith>=0.3.45->langchain-core<0.4.0,>=0.3.68->langchain_google_genai) (3.11.2)\n",
            "Requirement already satisfied: requests-toolbelt>=1.0.0 in /usr/local/lib/python3.12/dist-packages (from langsmith>=0.3.45->langchain-core<0.4.0,>=0.3.68->langchain_google_genai) (1.0.0)\n",
            "Requirement already satisfied: zstandard>=0.23.0 in /usr/local/lib/python3.12/dist-packages (from langsmith>=0.3.45->langchain-core<0.4.0,>=0.3.68->langchain_google_genai) (0.24.0)\n",
            "Requirement already satisfied: anyio in /usr/local/lib/python3.12/dist-packages (from httpx<1,>=0.23.0->langsmith>=0.3.45->langchain-core<0.4.0,>=0.3.68->langchain_google_genai) (4.10.0)\n",
            "Requirement already satisfied: certifi in /usr/local/lib/python3.12/dist-packages (from httpx<1,>=0.23.0->langsmith>=0.3.45->langchain-core<0.4.0,>=0.3.68->langchain_google_genai) (2025.8.3)\n",
            "Requirement already satisfied: httpcore==1.* in /usr/local/lib/python3.12/dist-packages (from httpx<1,>=0.23.0->langsmith>=0.3.45->langchain-core<0.4.0,>=0.3.68->langchain_google_genai) (1.0.9)\n",
            "Requirement already satisfied: idna in /usr/local/lib/python3.12/dist-packages (from httpx<1,>=0.23.0->langsmith>=0.3.45->langchain-core<0.4.0,>=0.3.68->langchain_google_genai) (3.10)\n",
            "Requirement already satisfied: h11>=0.16 in /usr/local/lib/python3.12/dist-packages (from httpcore==1.*->httpx<1,>=0.23.0->langsmith>=0.3.45->langchain-core<0.4.0,>=0.3.68->langchain_google_genai) (0.16.0)\n",
            "Requirement already satisfied: pyasn1<0.7.0,>=0.6.1 in /usr/local/lib/python3.12/dist-packages (from pyasn1-modules>=0.2.1->google-auth!=2.24.0,!=2.25.0,<3.0.0,>=2.14.1->google-ai-generativelanguage<0.7.0,>=0.6.18->langchain_google_genai) (0.6.1)\n",
            "Requirement already satisfied: charset_normalizer<4,>=2 in /usr/local/lib/python3.12/dist-packages (from requests<3.0.0,>=2.18.0->google-api-core!=2.0.*,!=2.1.*,!=2.10.*,!=2.2.*,!=2.3.*,!=2.4.*,!=2.5.*,!=2.6.*,!=2.7.*,!=2.8.*,!=2.9.*,<3.0.0,>=1.34.1->google-api-core[grpc]!=2.0.*,!=2.1.*,!=2.10.*,!=2.2.*,!=2.3.*,!=2.4.*,!=2.5.*,!=2.6.*,!=2.7.*,!=2.8.*,!=2.9.*,<3.0.0,>=1.34.1->google-ai-generativelanguage<0.7.0,>=0.6.18->langchain_google_genai) (3.4.3)\n",
            "Requirement already satisfied: urllib3<3,>=1.21.1 in /usr/local/lib/python3.12/dist-packages (from requests<3.0.0,>=2.18.0->google-api-core!=2.0.*,!=2.1.*,!=2.10.*,!=2.2.*,!=2.3.*,!=2.4.*,!=2.5.*,!=2.6.*,!=2.7.*,!=2.8.*,!=2.9.*,<3.0.0,>=1.34.1->google-api-core[grpc]!=2.0.*,!=2.1.*,!=2.10.*,!=2.2.*,!=2.3.*,!=2.4.*,!=2.5.*,!=2.6.*,!=2.7.*,!=2.8.*,!=2.9.*,<3.0.0,>=1.34.1->google-ai-generativelanguage<0.7.0,>=0.6.18->langchain_google_genai) (2.5.0)\n",
            "Requirement already satisfied: sniffio>=1.1 in /usr/local/lib/python3.12/dist-packages (from anyio->httpx<1,>=0.23.0->langsmith>=0.3.45->langchain-core<0.4.0,>=0.3.68->langchain_google_genai) (1.3.1)\n",
            "Downloading langchain_google_genai-2.1.9-py3-none-any.whl (49 kB)\n",
            "\u001b[2K   \u001b[90m━━━━━━━━━━━━━━━━━━━━━━━━━━━━━━━━━━━━━━━━\u001b[0m \u001b[32m49.4/49.4 kB\u001b[0m \u001b[31m3.4 MB/s\u001b[0m eta \u001b[36m0:00:00\u001b[0m\n",
            "\u001b[?25hDownloading filetype-1.2.0-py2.py3-none-any.whl (19 kB)\n",
            "Downloading google_ai_generativelanguage-0.6.18-py3-none-any.whl (1.4 MB)\n",
            "\u001b[2K   \u001b[90m━━━━━━━━━━━━━━━━━━━━━━━━━━━━━━━━━━━━━━━━\u001b[0m \u001b[32m1.4/1.4 MB\u001b[0m \u001b[31m34.2 MB/s\u001b[0m eta \u001b[36m0:00:00\u001b[0m\n",
            "\u001b[?25hDownloading langchain_core-0.3.74-py3-none-any.whl (443 kB)\n",
            "\u001b[2K   \u001b[90m━━━━━━━━━━━━━━━━━━━━━━━━━━━━━━━━━━━━━━━━\u001b[0m \u001b[32m443.5/443.5 kB\u001b[0m \u001b[31m35.6 MB/s\u001b[0m eta \u001b[36m0:00:00\u001b[0m\n",
            "\u001b[?25hDownloading langsmith-0.4.16-py3-none-any.whl (375 kB)\n",
            "\u001b[2K   \u001b[90m━━━━━━━━━━━━━━━━━━━━━━━━━━━━━━━━━━━━━━━━\u001b[0m \u001b[32m375.8/375.8 kB\u001b[0m \u001b[31m29.1 MB/s\u001b[0m eta \u001b[36m0:00:00\u001b[0m\n",
            "\u001b[?25hInstalling collected packages: filetype, langsmith, langchain-core, google-ai-generativelanguage, langchain_google_genai\n",
            "  Attempting uninstall: langsmith\n",
            "    Found existing installation: langsmith 0.2.11\n",
            "    Uninstalling langsmith-0.2.11:\n",
            "      Successfully uninstalled langsmith-0.2.11\n",
            "  Attempting uninstall: langchain-core\n",
            "    Found existing installation: langchain-core 0.3.63\n",
            "    Uninstalling langchain-core-0.3.63:\n",
            "      Successfully uninstalled langchain-core-0.3.63\n",
            "  Attempting uninstall: google-ai-generativelanguage\n",
            "    Found existing installation: google-ai-generativelanguage 0.6.15\n",
            "    Uninstalling google-ai-generativelanguage-0.6.15:\n",
            "      Successfully uninstalled google-ai-generativelanguage-0.6.15\n",
            "\u001b[31mERROR: pip's dependency resolver does not currently take into account all the packages that are installed. This behaviour is the source of the following dependency conflicts.\n",
            "langchain 0.3.14 requires langsmith<0.3,>=0.1.17, but you have langsmith 0.4.16 which is incompatible.\n",
            "langchain-community 0.3.14 requires langsmith<0.3,>=0.1.125, but you have langsmith 0.4.16 which is incompatible.\n",
            "google-generativeai 0.8.5 requires google-ai-generativelanguage==0.6.15, but you have google-ai-generativelanguage 0.6.18 which is incompatible.\u001b[0m\u001b[31m\n",
            "\u001b[0mSuccessfully installed filetype-1.2.0 google-ai-generativelanguage-0.6.18 langchain-core-0.3.74 langchain_google_genai-2.1.9 langsmith-0.4.16\n"
          ]
        },
        {
          "output_type": "display_data",
          "data": {
            "application/vnd.colab-display-data+json": {
              "pip_warning": {
                "packages": [
                  "google"
                ]
              },
              "id": "42b4efdc5c1349bc90d186273d6273e5"
            }
          },
          "metadata": {}
        }
      ]
    },
    {
      "cell_type": "code",
      "source": [
        "!apt-get install sqlite3 -y"
      ],
      "metadata": {
        "colab": {
          "base_uri": "https://localhost:8080/"
        },
        "id": "AakmY6B_zYte",
        "outputId": "4a4b1951-edd6-4206-8b35-8f45745c4cae"
      },
      "execution_count": 2,
      "outputs": [
        {
          "output_type": "stream",
          "name": "stdout",
          "text": [
            "Reading package lists... Done\n",
            "Building dependency tree... Done\n",
            "Reading state information... Done\n",
            "Suggested packages:\n",
            "  sqlite3-doc\n",
            "The following NEW packages will be installed:\n",
            "  sqlite3\n",
            "0 upgraded, 1 newly installed, 0 to remove and 35 not upgraded.\n",
            "Need to get 769 kB of archives.\n",
            "After this operation, 1,874 kB of additional disk space will be used.\n",
            "Get:1 http://archive.ubuntu.com/ubuntu jammy-updates/main amd64 sqlite3 amd64 3.37.2-2ubuntu0.5 [769 kB]\n",
            "Fetched 769 kB in 1s (572 kB/s)\n",
            "Selecting previously unselected package sqlite3.\n",
            "(Reading database ... 126371 files and directories currently installed.)\n",
            "Preparing to unpack .../sqlite3_3.37.2-2ubuntu0.5_amd64.deb ...\n",
            "Unpacking sqlite3 (3.37.2-2ubuntu0.5) ...\n",
            "Setting up sqlite3 (3.37.2-2ubuntu0.5) ...\n",
            "Processing triggers for man-db (2.10.2-1) ...\n"
          ]
        }
      ]
    },
    {
      "cell_type": "markdown",
      "source": [
        "## Enter Open AI API Key"
      ],
      "metadata": {
        "id": "H9c37cLnSrbg"
      }
    },
    {
      "cell_type": "code",
      "source": [
        "from getpass import getpass\n",
        "\n",
        "gemini_key = getpass(\"Enter Gemini Key\")"
      ],
      "metadata": {
        "id": "cv3JzCEx_PAd",
        "colab": {
          "base_uri": "https://localhost:8080/"
        },
        "outputId": "93cc2257-44fe-40b6-e6d6-449cf4512b00"
      },
      "execution_count": 3,
      "outputs": [
        {
          "name": "stdout",
          "output_type": "stream",
          "text": [
            "Enter Gemini Key··········\n"
          ]
        }
      ]
    },
    {
      "cell_type": "markdown",
      "source": [
        "## Setup Environment Variables"
      ],
      "metadata": {
        "id": "1T0s0um5Svfa"
      }
    },
    {
      "cell_type": "code",
      "source": [
        "import os\n",
        "\n",
        "os.environ[\"GOOGLE_API_KEY\"] = gemini_key"
      ],
      "metadata": {
        "id": "x1YSuHNF_lbh"
      },
      "execution_count": 4,
      "outputs": []
    },
    {
      "cell_type": "markdown",
      "source": [
        "## Get SQL DB Script"
      ],
      "metadata": {
        "id": "KCxfzpMp12v1"
      }
    },
    {
      "cell_type": "code",
      "source": [
        "# in case of issues download from https://drive.google.com/file/d/16mZm3C7xKpPqp_86e64uzduLpM5mPUdq/view?usp=sharing and upload\n",
        "!gdown 16mZm3C7xKpPqp_86e64uzduLpM5mPUdq"
      ],
      "metadata": {
        "id": "c_EPCL4zIHDF",
        "colab": {
          "base_uri": "https://localhost:8080/"
        },
        "outputId": "be2574c6-bae0-43d7-887a-907a116c262e"
      },
      "execution_count": 5,
      "outputs": [
        {
          "output_type": "stream",
          "name": "stdout",
          "text": [
            "Downloading...\n",
            "From: https://drive.google.com/uc?id=16mZm3C7xKpPqp_86e64uzduLpM5mPUdq\n",
            "To: /content/comicdb_create_script.sql\n",
            "\r  0% 0.00/14.5k [00:00<?, ?B/s]\r100% 14.5k/14.5k [00:00<00:00, 38.9MB/s]\n"
          ]
        }
      ]
    },
    {
      "cell_type": "markdown",
      "source": [
        "## Create Comic Store Database"
      ],
      "metadata": {
        "id": "AmkRn5lb2A-g"
      }
    },
    {
      "cell_type": "code",
      "source": [
        "!sqlite3 --version"
      ],
      "metadata": {
        "id": "8_hWe_1Lq5ve",
        "colab": {
          "base_uri": "https://localhost:8080/"
        },
        "outputId": "777e8bd7-6530-435c-99a1-99e73c48ee87"
      },
      "execution_count": 6,
      "outputs": [
        {
          "output_type": "stream",
          "name": "stdout",
          "text": [
            "3.37.2 2022-01-06 13:25:41 872ba256cbf61d9290b571c0e6d82a20c224ca3ad82971edc46b29818d5dalt1\n"
          ]
        }
      ]
    },
    {
      "cell_type": "code",
      "source": [
        "!sqlite3 ComicStore.db \".read ./comicdb_create_script.sql\""
      ],
      "metadata": {
        "id": "LMAxKqyOvVD0"
      },
      "execution_count": 7,
      "outputs": []
    },
    {
      "cell_type": "code",
      "source": [
        "!sqlite3 ComicStore.db \"SELECT name FROM sqlite_master WHERE type='table';\""
      ],
      "metadata": {
        "id": "8JLlJq6DvghH",
        "colab": {
          "base_uri": "https://localhost:8080/"
        },
        "outputId": "1ef6407b-12f0-41ba-a2fd-18d87458afa0"
      },
      "execution_count": 8,
      "outputs": [
        {
          "output_type": "stream",
          "name": "stdout",
          "text": [
            "Branch\n",
            "Employee\n",
            "Publisher\n",
            "Comic\n",
            "Inventory\n",
            "Customer\n",
            "Sale\n",
            "SaleTransactions\n"
          ]
        }
      ]
    },
    {
      "cell_type": "code",
      "source": [
        "%%bash\n",
        "sqlite3 ComicStore.db <<EOF\n",
        ".headers on\n",
        ".mode column\n",
        "SELECT * FROM Comic LIMIT 10;\n",
        "EOF"
      ],
      "metadata": {
        "id": "reeYrrrTvtNG",
        "colab": {
          "base_uri": "https://localhost:8080/"
        },
        "outputId": "6da3041e-1e0b-4179-dbb5-6c96e801fdb9"
      },
      "execution_count": 9,
      "outputs": [
        {
          "output_type": "stream",
          "name": "stdout",
          "text": [
            "ComicId  Title                            PublisherId  Genre            Price  ReleaseDate\n",
            "-------  -------------------------------  -----------  ---------------  -----  -----------\n",
            "1        Spider-Man: Homecoming           1            Superhero        19.99  2017-07-07 \n",
            "2        Batman: Year One                 2            Superhero        14.99  1987-02-01 \n",
            "3        Hellboy: Seed of Destruction     3            Supernatural     24.99  1994-10-01 \n",
            "4        Saga Volume 1                    4            Fantasy          12.99  2012-03-14 \n",
            "5        Transformers: All Hail Megatron  5            Science Fiction  25.99  2008-09-01 \n",
            "6        X-Men: Days of Future Past       1            Superhero        18.99  1981-01-01 \n",
            "7        The Killing Joke                 2            Superhero        14.99  1988-03-29 \n",
            "8        Sin City: The Hard Goodbye       4            Noir             22.99  1991-06-01 \n",
            "9        Usagi Yojimbo Volume 1           5            Adventure        20.99  1987-09-01 \n",
            "10       Deadpool: Merc with a Mouth      1            Superhero        16.99  2009-08-05 \n"
          ]
        }
      ]
    },
    {
      "cell_type": "code",
      "source": [
        "from langchain_community.utilities import SQLDatabase\n",
        "\n",
        "db = SQLDatabase.from_uri(\"sqlite:///ComicStore.db\")\n",
        "db"
      ],
      "metadata": {
        "id": "wN0hfytfqOcx",
        "colab": {
          "base_uri": "https://localhost:8080/"
        },
        "outputId": "98e24a4d-12fc-4025-fd3a-4d7436d07305"
      },
      "execution_count": 10,
      "outputs": [
        {
          "output_type": "execute_result",
          "data": {
            "text/plain": [
              "<langchain_community.utilities.sql_database.SQLDatabase at 0x7863ebab9550>"
            ]
          },
          "metadata": {},
          "execution_count": 10
        }
      ]
    },
    {
      "cell_type": "code",
      "source": [
        "print(db.dialect)\n",
        "print(db.get_usable_table_names())"
      ],
      "metadata": {
        "id": "iQsxearCqOfT",
        "colab": {
          "base_uri": "https://localhost:8080/"
        },
        "outputId": "edb55516-93a6-42e4-d0b9-d9736727f52f"
      },
      "execution_count": 11,
      "outputs": [
        {
          "output_type": "stream",
          "name": "stdout",
          "text": [
            "sqlite\n",
            "['Branch', 'Comic', 'Customer', 'Employee', 'Inventory', 'Publisher', 'Sale', 'SaleTransactions']\n"
          ]
        }
      ]
    },
    {
      "cell_type": "markdown",
      "source": [
        "## Create Comic Store Database"
      ],
      "metadata": {
        "id": "9NiTuq9wIOB1"
      }
    },
    {
      "cell_type": "markdown",
      "source": [
        "## Overview of the Comic Store Database\n",
        "\n",
        "In this project, we will utilize a **Comic Store Database** to demonstrate the capabilities of a Text2SQL workflow. The database schema includes the following entities and relationships:\n",
        "\n",
        "1. **Branch**: Stores details about comic store branches, including their location and contact information.\n",
        "\n",
        "2. **Publisher**: Contains information about publishers, such as their name, country, and the year they were established.\n",
        "\n",
        "3. **Comic**: Represents the comics, including their title, genre, price, release date, and associated publisher.\n",
        "\n",
        "4. **Customer**: Tracks customer details, including their contact information and location.\n",
        "\n",
        "5. **Employee**: Holds data about store employees, including their branch, title, and hire date.\n",
        "\n",
        "6. **Inventory**: Manages the stock of comics available at different branches.\n",
        "\n",
        "7. **Sale**: Records sales transactions, including the employee and customer involved, as well as the total amount and sale date.\n",
        "\n",
        "8. **SaleTransactions**: Tracks individual items within a sale, including the quantity and price of each comic sold.\n",
        "\n",
        "### Relationships:\n",
        "- A **Publisher** publishes multiple **Comics**.\n",
        "- A **Branch** stocks multiple **Comics** through the **Inventory** table.\n",
        "- A **Customer** makes **Sales**, which are processed by **Employees**.\n",
        "- Each **Sale** contains multiple items recorded in **SaleTransactions**.\n",
        "\n",
        "This database schema is well-suited for queries related to inventory management, sales analysis, customer interactions, and employee performance in the context of a comic store business.\n",
        "\n",
        "\n",
        "![](https://i.imgur.com/YzNCLpV.png)"
      ],
      "metadata": {
        "id": "3YZF_3Qr2Fvr"
      }
    },
    {
      "cell_type": "code",
      "source": [
        "db.run(\"SELECT * FROM Comic LIMIT 10;\", include_columns=True)"
      ],
      "metadata": {
        "id": "6DDHRqCjqOhp",
        "colab": {
          "base_uri": "https://localhost:8080/",
          "height": 140
        },
        "outputId": "3bf9c777-e92c-4cf9-f1f8-c2f7a7beb908"
      },
      "execution_count": null,
      "outputs": [
        {
          "output_type": "execute_result",
          "data": {
            "text/plain": [
              "\"[{'ComicId': 1, 'Title': 'Spider-Man: Homecoming', 'PublisherId': 1, 'Genre': 'Superhero', 'Price': 19.99, 'ReleaseDate': '2017-07-07'}, {'ComicId': 2, 'Title': 'Batman: Year One', 'PublisherId': 2, 'Genre': 'Superhero', 'Price': 14.99, 'ReleaseDate': '1987-02-01'}, {'ComicId': 3, 'Title': 'Hellboy: Seed of Destruction', 'PublisherId': 3, 'Genre': 'Supernatural', 'Price': 24.99, 'ReleaseDate': '1994-10-01'}, {'ComicId': 4, 'Title': 'Saga Volume 1', 'PublisherId': 4, 'Genre': 'Fantasy', 'Price': 12.99, 'ReleaseDate': '2012-03-14'}, {'ComicId': 5, 'Title': 'Transformers: All Hail Megatron', 'PublisherId': 5, 'Genre': 'Science Fiction', 'Price': 25.99, 'ReleaseDate': '2008-09-01'}, {'ComicId': 6, 'Title': 'X-Men: Days of Future Past', 'PublisherId': 1, 'Genre': 'Superhero', 'Price': 18.99, 'ReleaseDate': '1981-01-01'}, {'ComicId': 7, 'Title': 'The Killing Joke', 'PublisherId': 2, 'Genre': 'Superhero', 'Price': 14.99, 'ReleaseDate': '1988-03-29'}, {'ComicId': 8, 'Title': 'Sin City: The Hard Goodbye', 'PublisherId': 4, 'Genre': 'Noir', 'Price': 22.99, 'ReleaseDate': '1991-06-01'}, {'ComicId': 9, 'Title': 'Usagi Yojimbo Volume 1', 'PublisherId': 5, 'Genre': 'Adventure', 'Price': 20.99, 'ReleaseDate': '1987-09-01'}, {'ComicId': 10, 'Title': 'Deadpool: Merc with a Mouth', 'PublisherId': 1, 'Genre': 'Superhero', 'Price': 16.99, 'ReleaseDate': '2009-08-05'}]\""
            ],
            "application/vnd.google.colaboratory.intrinsic+json": {
              "type": "string"
            }
          },
          "metadata": {},
          "execution_count": 12
        }
      ]
    },
    {
      "cell_type": "code",
      "source": [
        "db.run(\"SELECT * FROM Employee LIMIT 10;\", include_columns=True)"
      ],
      "metadata": {
        "id": "HqdauDCFJ87w",
        "colab": {
          "base_uri": "https://localhost:8080/",
          "height": 140
        },
        "outputId": "1773cea2-a613-4b12-c922-091d4b1b0e85"
      },
      "execution_count": null,
      "outputs": [
        {
          "output_type": "execute_result",
          "data": {
            "text/plain": [
              "\"[{'EmployeeId': 1, 'FirstName': 'John', 'LastName': 'Doe', 'Title': 'Manager', 'BranchId': 1, 'HireDate': '2015-06-01', 'Email': 'john.doe@comicstore.com', 'Phone': '555-1234'}, {'EmployeeId': 2, 'FirstName': 'Jane', 'LastName': 'Smith', 'Title': 'Sales Associate', 'BranchId': 1, 'HireDate': '2017-09-15', 'Email': 'jane.smith@comicstore.com', 'Phone': '555-5678'}, {'EmployeeId': 3, 'FirstName': 'Alice', 'LastName': 'Brown', 'Title': 'Sales Associate', 'BranchId': 2, 'HireDate': '2018-03-12', 'Email': 'alice.brown@comicstore.com', 'Phone': '555-9876'}, {'EmployeeId': 4, 'FirstName': 'Michael', 'LastName': 'Clark', 'Title': 'Manager', 'BranchId': 2, 'HireDate': '2016-02-20', 'Email': 'michael.clark@comicstore.com', 'Phone': '555-6543'}, {'EmployeeId': 5, 'FirstName': 'Emily', 'LastName': 'White', 'Title': 'Sales Associate', 'BranchId': 3, 'HireDate': '2019-07-10', 'Email': 'emily.white@comicstore.com', 'Phone': '555-4321'}]\""
            ],
            "application/vnd.google.colaboratory.intrinsic+json": {
              "type": "string"
            }
          },
          "metadata": {},
          "execution_count": 13
        }
      ]
    },
    {
      "cell_type": "code",
      "source": [
        "db.run(\"SELECT * FROM Sale LIMIT 10;\", include_columns=True)"
      ],
      "metadata": {
        "id": "FrbQ-QpjTrJI",
        "colab": {
          "base_uri": "https://localhost:8080/",
          "height": 140
        },
        "outputId": "9a2c6141-1ed1-41bc-de25-e6d5c7dc44ba"
      },
      "execution_count": null,
      "outputs": [
        {
          "output_type": "execute_result",
          "data": {
            "text/plain": [
              "\"[{'SaleId': 1, 'CustomerId': 1, 'EmployeeId': 1, 'SaleDate': '2023-01-15', 'TotalAmount': 54.97}, {'SaleId': 2, 'CustomerId': 2, 'EmployeeId': 2, 'SaleDate': '2023-01-20', 'TotalAmount': 49.97}, {'SaleId': 3, 'CustomerId': 3, 'EmployeeId': 3, 'SaleDate': '2023-01-25', 'TotalAmount': 59.97}, {'SaleId': 4, 'CustomerId': 4, 'EmployeeId': 4, 'SaleDate': '2023-01-30', 'TotalAmount': 45.98}, {'SaleId': 5, 'CustomerId': 5, 'EmployeeId': 5, 'SaleDate': '2023-02-05', 'TotalAmount': 29.97}, {'SaleId': 6, 'CustomerId': 6, 'EmployeeId': 1, 'SaleDate': '2023-02-10', 'TotalAmount': 74.97}, {'SaleId': 7, 'CustomerId': 7, 'EmployeeId': 2, 'SaleDate': '2023-02-15', 'TotalAmount': 64.97}, {'SaleId': 8, 'CustomerId': 8, 'EmployeeId': 3, 'SaleDate': '2023-02-20', 'TotalAmount': 49.99}, {'SaleId': 9, 'CustomerId': 9, 'EmployeeId': 4, 'SaleDate': '2023-02-25', 'TotalAmount': 49.97}, {'SaleId': 10, 'CustomerId': 10, 'EmployeeId': 5, 'SaleDate': '2023-03-01', 'TotalAmount': 65.98}]\""
            ],
            "application/vnd.google.colaboratory.intrinsic+json": {
              "type": "string"
            }
          },
          "metadata": {},
          "execution_count": 14
        }
      ]
    },
    {
      "cell_type": "code",
      "source": [
        "db.run(\"SELECT * FROM SaleTransactions LIMIT 10;\", include_columns=True)"
      ],
      "metadata": {
        "id": "xmvqubY3TrRf",
        "colab": {
          "base_uri": "https://localhost:8080/",
          "height": 122
        },
        "outputId": "24b51220-dad0-4b6d-ca05-ece2d93e7fca"
      },
      "execution_count": null,
      "outputs": [
        {
          "output_type": "execute_result",
          "data": {
            "text/plain": [
              "\"[{'TransactionId': 1, 'SaleId': 1, 'ComicId': 1, 'Quantity': 1, 'Price': 19.99}, {'TransactionId': 2, 'SaleId': 1, 'ComicId': 2, 'Quantity': 2, 'Price': 14.99}, {'TransactionId': 3, 'SaleId': 2, 'ComicId': 3, 'Quantity': 1, 'Price': 24.99}, {'TransactionId': 4, 'SaleId': 2, 'ComicId': 4, 'Quantity': 1, 'Price': 24.98}, {'TransactionId': 5, 'SaleId': 3, 'ComicId': 5, 'Quantity': 2, 'Price': 29.99}, {'TransactionId': 6, 'SaleId': 3, 'ComicId': 6, 'Quantity': 1, 'Price': 29.98}, {'TransactionId': 7, 'SaleId': 4, 'ComicId': 7, 'Quantity': 2, 'Price': 22.99}, {'TransactionId': 8, 'SaleId': 4, 'ComicId': 8, 'Quantity': 1, 'Price': 22.99}, {'TransactionId': 9, 'SaleId': 5, 'ComicId': 9, 'Quantity': 2, 'Price': 14.99}, {'TransactionId': 10, 'SaleId': 6, 'ComicId': 10, 'Quantity': 2, 'Price': 29.99}]\""
            ],
            "application/vnd.google.colaboratory.intrinsic+json": {
              "type": "string"
            }
          },
          "metadata": {},
          "execution_count": 15
        }
      ]
    },
    {
      "cell_type": "code",
      "source": [
        "print(db.get_table_info(table_names=['Comic', 'Sale']))"
      ],
      "metadata": {
        "id": "mNSPx5MEI8Ph",
        "colab": {
          "base_uri": "https://localhost:8080/"
        },
        "outputId": "5a30fe2a-d703-46b7-ff31-f7a8a981fe91"
      },
      "execution_count": null,
      "outputs": [
        {
          "output_type": "stream",
          "name": "stdout",
          "text": [
            "\n",
            "CREATE TABLE \"Comic\" (\n",
            "\t\"ComicId\" INTEGER NOT NULL, \n",
            "\t\"Title\" NVARCHAR(100) NOT NULL, \n",
            "\t\"PublisherId\" INTEGER NOT NULL, \n",
            "\t\"Genre\" NVARCHAR(50), \n",
            "\t\"Price\" NUMERIC(10, 2) NOT NULL, \n",
            "\t\"ReleaseDate\" DATETIME, \n",
            "\tPRIMARY KEY (\"ComicId\"), \n",
            "\tFOREIGN KEY(\"PublisherId\") REFERENCES \"Publisher\" (\"PublisherId\")\n",
            ")\n",
            "\n",
            "/*\n",
            "3 rows from Comic table:\n",
            "ComicId\tTitle\tPublisherId\tGenre\tPrice\tReleaseDate\n",
            "1\tSpider-Man: Homecoming\t1\tSuperhero\t19.99\t2017-07-07 00:00:00\n",
            "2\tBatman: Year One\t2\tSuperhero\t14.99\t1987-02-01 00:00:00\n",
            "3\tHellboy: Seed of Destruction\t3\tSupernatural\t24.99\t1994-10-01 00:00:00\n",
            "*/\n",
            "\n",
            "\n",
            "CREATE TABLE \"Sale\" (\n",
            "\t\"SaleId\" INTEGER NOT NULL, \n",
            "\t\"CustomerId\" INTEGER NOT NULL, \n",
            "\t\"EmployeeId\" INTEGER, \n",
            "\t\"SaleDate\" DATETIME NOT NULL, \n",
            "\t\"TotalAmount\" NUMERIC(10, 2) NOT NULL, \n",
            "\tPRIMARY KEY (\"SaleId\"), \n",
            "\tFOREIGN KEY(\"EmployeeId\") REFERENCES \"Employee\" (\"EmployeeId\"), \n",
            "\tFOREIGN KEY(\"CustomerId\") REFERENCES \"Customer\" (\"CustomerId\")\n",
            ")\n",
            "\n",
            "/*\n",
            "3 rows from Sale table:\n",
            "SaleId\tCustomerId\tEmployeeId\tSaleDate\tTotalAmount\n",
            "1\t1\t1\t2023-01-15 00:00:00\t54.97\n",
            "2\t2\t2\t2023-01-20 00:00:00\t49.97\n",
            "3\t3\t3\t2023-01-25 00:00:00\t59.97\n",
            "*/\n"
          ]
        }
      ]
    },
    {
      "cell_type": "markdown",
      "source": [
        "## Load up SQL Tools\n",
        "\n",
        "The system uses tools to interact with the database schema and validate queries:\n",
        "   - **DB_QUERY**: Executes the generated SQL query.\n",
        "   - **DB_SCHEMA**: Fetches the schema details of the database.\n",
        "   - **DB_LIST_TABLES**: Lists all tables in the database.\n",
        "   - **DB_QUERY_CHECKER**: Validates the correctness of the SQL query before execution.\n",
        "\n",
        "![](https://i.imgur.com/iVSrFE3.png)   "
      ],
      "metadata": {
        "id": "-jtVDw-tIS1b"
      }
    },
    {
      "cell_type": "code",
      "source": [
        "from langchain_community.agent_toolkits import SQLDatabaseToolkit\n",
        "from langchain_openai import ChatOpenAI\n",
        "from langchain_google_genai import ChatGoogleGenerativeAI\n",
        "\n",
        "# chatgpt = ChatOpenAI(model=\"gpt-4o\", temperature=0)\n",
        "gemini = ChatGoogleGenerativeAI(model=\"gemini-2.5-flash\", temperature=0)\n",
        "sql_toolkit = SQLDatabaseToolkit(db=db, llm=gemini)\n",
        "sql_tools = sql_toolkit.get_tools()\n",
        "\n",
        "sql_tools"
      ],
      "metadata": {
        "id": "a--7sXgWix3m",
        "colab": {
          "base_uri": "https://localhost:8080/"
        },
        "outputId": "95a05ccb-579a-45cb-9de3-163de02f4082"
      },
      "execution_count": 13,
      "outputs": [
        {
          "output_type": "execute_result",
          "data": {
            "text/plain": [
              "[QuerySQLDatabaseTool(description=\"Input to this tool is a detailed and correct SQL query, output is a result from the database. If the query is not correct, an error message will be returned. If an error is returned, rewrite the query, check the query, and try again. If you encounter an issue with Unknown column 'xxxx' in 'field list', use sql_db_schema to query the correct table fields.\", db=<langchain_community.utilities.sql_database.SQLDatabase object at 0x7863ebab9550>),\n",
              " InfoSQLDatabaseTool(description='Input to this tool is a comma-separated list of tables, output is the schema and sample rows for those tables. Be sure that the tables actually exist by calling sql_db_list_tables first! Example Input: table1, table2, table3', db=<langchain_community.utilities.sql_database.SQLDatabase object at 0x7863ebab9550>),\n",
              " ListSQLDatabaseTool(db=<langchain_community.utilities.sql_database.SQLDatabase object at 0x7863ebab9550>),\n",
              " QuerySQLCheckerTool(description='Use this tool to double check if your query is correct before executing it. Always use this tool before executing a query with sql_db_query!', db=<langchain_community.utilities.sql_database.SQLDatabase object at 0x7863ebab9550>, llm=ChatGoogleGenerativeAI(model='models/gemini-2.5-flash', google_api_key=SecretStr('**********'), temperature=0.0, client=<google.ai.generativelanguage_v1beta.services.generative_service.client.GenerativeServiceClient object at 0x7863e8445730>, default_metadata=(), model_kwargs={}), llm_chain=LLMChain(verbose=False, prompt=PromptTemplate(input_variables=['dialect', 'query'], input_types={}, partial_variables={}, template='\\n{query}\\nDouble check the {dialect} query above for common mistakes, including:\\n- Using NOT IN with NULL values\\n- Using UNION when UNION ALL should have been used\\n- Using BETWEEN for exclusive ranges\\n- Data type mismatch in predicates\\n- Properly quoting identifiers\\n- Using the correct number of arguments for functions\\n- Casting to the correct data type\\n- Using the proper columns for joins\\n\\nIf there are any of the above mistakes, rewrite the query. If there are no mistakes, just reproduce the original query.\\n\\nOutput the final SQL query only.\\n\\nSQL Query: '), llm=ChatGoogleGenerativeAI(model='models/gemini-2.5-flash', google_api_key=SecretStr('**********'), temperature=0.0, client=<google.ai.generativelanguage_v1beta.services.generative_service.client.GenerativeServiceClient object at 0x7863e8445730>, default_metadata=(), model_kwargs={}), output_parser=StrOutputParser(), llm_kwargs={}))]"
            ]
          },
          "metadata": {},
          "execution_count": 13
        }
      ]
    },
    {
      "cell_type": "code",
      "source": [
        "for tool in sql_tools:\n",
        "    print(tool.name, '->', tool.description)"
      ],
      "metadata": {
        "id": "CTBDaNlMj_wI",
        "colab": {
          "base_uri": "https://localhost:8080/"
        },
        "outputId": "e7f263e2-f4cc-46c9-b54a-cfb0bb179daf"
      },
      "execution_count": 14,
      "outputs": [
        {
          "output_type": "stream",
          "name": "stdout",
          "text": [
            "sql_db_query -> Input to this tool is a detailed and correct SQL query, output is a result from the database. If the query is not correct, an error message will be returned. If an error is returned, rewrite the query, check the query, and try again. If you encounter an issue with Unknown column 'xxxx' in 'field list', use sql_db_schema to query the correct table fields.\n",
            "sql_db_schema -> Input to this tool is a comma-separated list of tables, output is the schema and sample rows for those tables. Be sure that the tables actually exist by calling sql_db_list_tables first! Example Input: table1, table2, table3\n",
            "sql_db_list_tables -> Input is an empty string, output is a comma-separated list of tables in the database.\n",
            "sql_db_query_checker -> Use this tool to double check if your query is correct before executing it. Always use this tool before executing a query with sql_db_query!\n"
          ]
        }
      ]
    },
    {
      "cell_type": "markdown",
      "source": [
        "## Create ReAct Agent Instruction Prompt"
      ],
      "metadata": {
        "id": "MJGale7mIwFH"
      }
    },
    {
      "cell_type": "code",
      "source": [
        "from langchain_core.messages import SystemMessage\n",
        "\n",
        "SQL_PREFIX = \"\"\"You are an agent designed to interact with a SQL database in SQLite.\n",
        "Given an input question, create a syntactically correct SQLite query to run, then look at the results of the query and return the answer.\n",
        "Unless the user specifies a specific number of examples they wish to obtain, always limit your query to at most 10 results.\n",
        "You can order the results by a relevant column to return the most interesting examples in the database.\n",
        "Never query for all the columns from a specific table, only ask for the relevant columns given the question.\n",
        "Make sure you generate a correct SQLite query as plain text without any formatting or code blocks.\n",
        "Do not include sql or similar markers.\n",
        "Do not try to explain the query, just provide the query as-is, like this: SELECT ...\n",
        "\n",
        "You have access to tools for interacting with the database.\n",
        "Only use the below tools. Only use the information returned by the below tools to construct your final answer.\n",
        "\n",
        "You MUST double check your query before executing it. If you get an error while executing a query, rewrite the query and try again.\n",
        "DO NOT make any DML statements (INSERT, UPDATE, DELETE, DROP etc.) to the database even if the user asks.\n",
        "\n",
        "To start you should ALWAYS look at the tables in the database to see what you can query.\n",
        "Do NOT skip this step.\n",
        "Then you should query the schema of the most relevant tables.\n",
        "\n",
        "When generating the final answer in markdown from the results,\n",
        "if there are special characters in the text, such as the dollar symbol,\n",
        "ensure they are escaped properly for correct rendering e.g $25.5 should become \\$25.5\n",
        "\"\"\"\n",
        "\n",
        "SYS_PROMPT = SystemMessage(content=SQL_PREFIX)"
      ],
      "metadata": {
        "id": "7Lt50XyXix-p",
        "colab": {
          "base_uri": "https://localhost:8080/"
        },
        "outputId": "d41112a4-40e4-4146-b60b-abd10094673a"
      },
      "execution_count": 15,
      "outputs": [
        {
          "output_type": "stream",
          "name": "stderr",
          "text": [
            "<>:24: SyntaxWarning: invalid escape sequence '\\$'\n",
            "<>:24: SyntaxWarning: invalid escape sequence '\\$'\n",
            "/tmp/ipython-input-2188818679.py:24: SyntaxWarning: invalid escape sequence '\\$'\n",
            "  ensure they are escaped properly for correct rendering e.g $25.5 should become \\$25.5\n"
          ]
        }
      ]
    },
    {
      "cell_type": "markdown",
      "source": [
        "## Create Text2SQL ReAct Agent"
      ],
      "metadata": {
        "id": "TecvMWWvIzN-"
      }
    },
    {
      "cell_type": "code",
      "source": [
        "from langchain_core.messages import HumanMessage\n",
        "from langgraph.prebuilt import create_react_agent\n",
        "from langchain_openai import ChatOpenAI\n",
        "\n",
        "# chatgpt = ChatOpenAI(model=\"gpt-4o\", temperature=0)\n",
        "\n",
        "text2sql_agent = create_react_agent(model=gemini,\n",
        "                                    tools=sql_tools,\n",
        "                                    state_modifier=SYS_PROMPT)\n",
        "text2sql_agent"
      ],
      "metadata": {
        "id": "VlZFNdOYlXdn",
        "colab": {
          "base_uri": "https://localhost:8080/",
          "height": 266
        },
        "outputId": "c387c87b-7fdb-4889-d9dc-729dd2c7f465"
      },
      "execution_count": 16,
      "outputs": [
        {
          "output_type": "execute_result",
          "data": {
            "text/plain": [
              "<langgraph.graph.state.CompiledStateGraph object at 0x7863e41618e0>"
            ],
            "image/png": "[encoded data removed]"
          },
          "metadata": {},
          "execution_count": 16
        }
      ]
    },
    {
      "cell_type": "markdown",
      "source": [
        "## Run and Test Text2SQL Agent"
      ],
      "metadata": {
        "id": "fsnlW1ZxI1Mp"
      }
    },
    {
      "cell_type": "code",
      "source": [
        "from IPython.display import display, Markdown\n",
        "\n",
        "for s in text2sql_agent.stream(\n",
        "    {\"messages\": [HumanMessage(content=\"What is the total number of customers?\")]}\n",
        "):\n",
        "    display(Markdown(str(s)))\n",
        "    print(\"----\")"
      ],
      "metadata": {
        "id": "EuQK9JgtpUuK",
        "colab": {
          "base_uri": "https://localhost:8080/",
          "height": 911
        },
        "outputId": "3f1c9841-9a92-4029-f514-6f1a90c53b32"
      },
      "execution_count": 17,
      "outputs": [
        {
          "output_type": "display_data",
          "data": {
            "text/plain": [
              "<IPython.core.display.Markdown object>"
            ],
            "text/markdown": "{'agent': {'messages': [AIMessage(content='', additional_kwargs={'function_call': {'name': 'sql_db_list_tables', 'arguments': '{\"tool_input\": \"\"}'}}, response_metadata={'prompt_feedback': {'block_reason': 0, 'safety_ratings': []}, 'finish_reason': 'STOP', 'model_name': 'gemini-2.5-flash', 'safety_ratings': []}, id='run--ded240fc-f13b-4cdd-ad0a-7a9580052691-0', tool_calls=[{'name': 'sql_db_list_tables', 'args': {'tool_input': ''}, 'id': '03b86bae-244b-40b5-8621-51ad42d9c64b', 'type': 'tool_call'}], usage_metadata={'input_tokens': 733, 'output_tokens': 107, 'total_tokens': 840, 'input_token_details': {'cache_read': 0}, 'output_token_details': {'reasoning': 88}})]}}"
          },
          "metadata": {}
        },
        {
          "output_type": "stream",
          "name": "stdout",
          "text": [
            "----\n"
          ]
        },
        {
          "output_type": "display_data",
          "data": {
            "text/plain": [
              "<IPython.core.display.Markdown object>"
            ],
            "text/markdown": "{'tools': {'messages': [ToolMessage(content='Branch, Comic, Customer, Employee, Inventory, Publisher, Sale, SaleTransactions', name='sql_db_list_tables', id='2e633576-2d13-4f38-9c88-f40c09caba68', tool_call_id='03b86bae-244b-40b5-8621-51ad42d9c64b')]}}"
          },
          "metadata": {}
        },
        {
          "output_type": "stream",
          "name": "stdout",
          "text": [
            "----\n"
          ]
        },
        {
          "output_type": "display_data",
          "data": {
            "text/plain": [
              "<IPython.core.display.Markdown object>"
            ],
            "text/markdown": "{'agent': {'messages': [AIMessage(content='', additional_kwargs={'function_call': {'name': 'sql_db_schema', 'arguments': '{\"table_names\": \"Customer\"}'}}, response_metadata={'prompt_feedback': {'block_reason': 0, 'safety_ratings': []}, 'finish_reason': 'STOP', 'model_name': 'gemini-2.5-flash', 'safety_ratings': []}, id='run--5f78627a-a80a-448c-b39b-28fdd506da31-0', tool_calls=[{'name': 'sql_db_schema', 'args': {'table_names': 'Customer'}, 'id': 'e0906fc0-6363-4c35-ac1c-738b3dd3672c', 'type': 'tool_call'}], usage_metadata={'input_tokens': 786, 'output_tokens': 62, 'total_tokens': 848, 'input_token_details': {'cache_read': 662}, 'output_token_details': {'reasoning': 43}})]}}"
          },
          "metadata": {}
        },
        {
          "output_type": "stream",
          "name": "stdout",
          "text": [
            "----\n"
          ]
        },
        {
          "output_type": "display_data",
          "data": {
            "text/plain": [
              "<IPython.core.display.Markdown object>"
            ],
            "text/markdown": "{'tools': {'messages': [ToolMessage(content='\\nCREATE TABLE \"Customer\" (\\n\\t\"CustomerId\" INTEGER NOT NULL, \\n\\t\"FirstName\" NVARCHAR(50) NOT NULL, \\n\\t\"LastName\" NVARCHAR(50) NOT NULL, \\n\\t\"Email\" NVARCHAR(100), \\n\\t\"Phone\" NVARCHAR(20), \\n\\t\"Address\" NVARCHAR(100), \\n\\t\"City\" NVARCHAR(50), \\n\\t\"State\" NVARCHAR(50), \\n\\t\"Country\" NVARCHAR(50) NOT NULL, \\n\\t\"PostalCode\" NVARCHAR(10), \\n\\tPRIMARY KEY (\"CustomerId\")\\n)\\n\\n/*\\n3 rows from Customer table:\\nCustomerId\\tFirstName\\tLastName\\tEmail\\tPhone\\tAddress\\tCity\\tState\\tCountry\\tPostalCode\\n1\\tRobert\\tTaylor\\trobert.taylor@example.com\\t555-1111\\t123 Main St\\tNew York\\tNY\\tUSA\\t10001\\n2\\tEmily\\tDavis\\temily.davis@example.com\\t555-2222\\t456 Oak St\\tLos Angeles\\tCA\\tUSA\\t90001\\n3\\tSarah\\tConnor\\tsarah.connor@example.com\\t555-3333\\t789 Pine St\\tChicago\\tIL\\tUSA\\t60601\\n*/', name='sql_db_schema', id='62ac72ca-bc00-4d77-bd70-383ff25e8ef1', tool_call_id='e0906fc0-6363-4c35-ac1c-738b3dd3672c')]}}"
          },
          "metadata": {}
        },
        {
          "output_type": "stream",
          "name": "stdout",
          "text": [
            "----\n"
          ]
        },
        {
          "output_type": "display_data",
          "data": {
            "text/plain": [
              "<IPython.core.display.Markdown object>"
            ],
            "text/markdown": "{'agent': {'messages': [AIMessage(content='', additional_kwargs={'function_call': {'name': 'sql_db_query_checker', 'arguments': '{\"query\": \"SELECT COUNT(CustomerId) FROM Customer\"}'}}, response_metadata={'prompt_feedback': {'block_reason': 0, 'safety_ratings': []}, 'finish_reason': 'STOP', 'model_name': 'gemini-2.5-flash', 'safety_ratings': []}, id='run--07bb20db-c582-4364-9baa-4b758eda0e49-0', tool_calls=[{'name': 'sql_db_query_checker', 'args': {'query': 'SELECT COUNT(CustomerId) FROM Customer'}, 'id': '519d1301-211c-4e59-a18e-980943bbef8c', 'type': 'tool_call'}], usage_metadata={'input_tokens': 1173, 'output_tokens': 119, 'total_tokens': 1292, 'input_token_details': {'cache_read': 744}, 'output_token_details': {'reasoning': 94}})]}}"
          },
          "metadata": {}
        },
        {
          "output_type": "stream",
          "name": "stdout",
          "text": [
            "----\n"
          ]
        },
        {
          "output_type": "display_data",
          "data": {
            "text/plain": [
              "<IPython.core.display.Markdown object>"
            ],
            "text/markdown": "{'tools': {'messages': [ToolMessage(content='SELECT COUNT(CustomerId) FROM Customer', name='sql_db_query_checker', id='eef5d955-af92-4c17-aed5-ddc91c1e1363', tool_call_id='519d1301-211c-4e59-a18e-980943bbef8c')]}}"
          },
          "metadata": {}
        },
        {
          "output_type": "stream",
          "name": "stdout",
          "text": [
            "----\n"
          ]
        },
        {
          "output_type": "display_data",
          "data": {
            "text/plain": [
              "<IPython.core.display.Markdown object>"
            ],
            "text/markdown": "{'agent': {'messages': [AIMessage(content='', additional_kwargs={'function_call': {'name': 'sql_db_query', 'arguments': '{\"query\": \"SELECT COUNT(CustomerId) FROM Customer\"}'}}, response_metadata={'prompt_feedback': {'block_reason': 0, 'safety_ratings': []}, 'finish_reason': 'STOP', 'model_name': 'gemini-2.5-flash', 'safety_ratings': []}, id='run--ff2d8a6f-ba36-4ba3-9f20-623ed306afb0-0', tool_calls=[{'name': 'sql_db_query', 'args': {'query': 'SELECT COUNT(CustomerId) FROM Customer'}, 'id': '8ac47eb5-e3b9-40bf-a5fb-4d4e7905bd1f', 'type': 'tool_call'}], usage_metadata={'input_tokens': 1223, 'output_tokens': 23, 'total_tokens': 1246, 'input_token_details': {'cache_read': 0}})]}}"
          },
          "metadata": {}
        },
        {
          "output_type": "stream",
          "name": "stdout",
          "text": [
            "----\n"
          ]
        },
        {
          "output_type": "display_data",
          "data": {
            "text/plain": [
              "<IPython.core.display.Markdown object>"
            ],
            "text/markdown": "{'tools': {'messages': [ToolMessage(content='[(20,)]', name='sql_db_query', id='514f5a47-d252-47c5-8daf-259aaefbe2a4', tool_call_id='8ac47eb5-e3b9-40bf-a5fb-4d4e7905bd1f')]}}"
          },
          "metadata": {}
        },
        {
          "output_type": "stream",
          "name": "stdout",
          "text": [
            "----\n"
          ]
        },
        {
          "output_type": "display_data",
          "data": {
            "text/plain": [
              "<IPython.core.display.Markdown object>"
            ],
            "text/markdown": "{'agent': {'messages': [AIMessage(content='The total number of customers is 20.', additional_kwargs={}, response_metadata={'prompt_feedback': {'block_reason': 0, 'safety_ratings': []}, 'finish_reason': 'STOP', 'model_name': 'gemini-2.5-flash', 'safety_ratings': []}, id='run--e5a995f7-6430-4ad4-ae1b-15a9f0cea017-0', usage_metadata={'input_tokens': 1267, 'output_tokens': 10, 'total_tokens': 1277, 'input_token_details': {'cache_read': 749}})]}}"
          },
          "metadata": {}
        },
        {
          "output_type": "stream",
          "name": "stdout",
          "text": [
            "----\n"
          ]
        }
      ]
    },
    {
      "cell_type": "code",
      "source": [
        "for event in text2sql_agent.stream(\n",
        "    {\"messages\": [HumanMessage(content=\"What are the Top 10 most popular comics?\")]},\n",
        "    stream_mode='values' #returns full agent state with all messages including updates\n",
        "):\n",
        "    event[\"messages\"][-1].pretty_print()\n",
        "\n",
        "print('\\n\\nFinal Response:\\n')\n",
        "display(Markdown(event[\"messages\"][-1].content))"
      ],
      "metadata": {
        "id": "HcX3afdGlXj6",
        "colab": {
          "base_uri": "https://localhost:8080/",
          "height": 1000
        },
        "outputId": "7264119a-423e-4c19-aa93-e0b56162b56b"
      },
      "execution_count": null,
      "outputs": [
        {
          "output_type": "stream",
          "name": "stdout",
          "text": [
            "================================\u001b[1m Human Message \u001b[0m=================================\n",
            "\n",
            "What are the Top 10 most popular comics?\n",
            "==================================\u001b[1m Ai Message \u001b[0m==================================\n",
            "Tool Calls:\n",
            "  sql_db_list_tables (call_T43bb5rdAsh0v2H6PKPvTNvm)\n",
            " Call ID: call_T43bb5rdAsh0v2H6PKPvTNvm\n",
            "  Args:\n",
            "=================================\u001b[1m Tool Message \u001b[0m=================================\n",
            "Name: sql_db_list_tables\n",
            "\n",
            "Branch, Comic, Customer, Employee, Inventory, Publisher, Sale, SaleTransactions\n",
            "==================================\u001b[1m Ai Message \u001b[0m==================================\n",
            "Tool Calls:\n",
            "  sql_db_schema (call_kJvSozHXSkdgjfCSFX1LV2td)\n",
            " Call ID: call_kJvSozHXSkdgjfCSFX1LV2td\n",
            "  Args:\n",
            "    table_names: Comic, Sale\n",
            "=================================\u001b[1m Tool Message \u001b[0m=================================\n",
            "Name: sql_db_schema\n",
            "\n",
            "\n",
            "CREATE TABLE \"Comic\" (\n",
            "\t\"ComicId\" INTEGER NOT NULL, \n",
            "\t\"Title\" NVARCHAR(100) NOT NULL, \n",
            "\t\"PublisherId\" INTEGER NOT NULL, \n",
            "\t\"Genre\" NVARCHAR(50), \n",
            "\t\"Price\" NUMERIC(10, 2) NOT NULL, \n",
            "\t\"ReleaseDate\" DATETIME, \n",
            "\tPRIMARY KEY (\"ComicId\"), \n",
            "\tFOREIGN KEY(\"PublisherId\") REFERENCES \"Publisher\" (\"PublisherId\")\n",
            ")\n",
            "\n",
            "/*\n",
            "3 rows from Comic table:\n",
            "ComicId\tTitle\tPublisherId\tGenre\tPrice\tReleaseDate\n",
            "1\tSpider-Man: Homecoming\t1\tSuperhero\t19.99\t2017-07-07 00:00:00\n",
            "2\tBatman: Year One\t2\tSuperhero\t14.99\t1987-02-01 00:00:00\n",
            "3\tHellboy: Seed of Destruction\t3\tSupernatural\t24.99\t1994-10-01 00:00:00\n",
            "*/\n",
            "\n",
            "\n",
            "CREATE TABLE \"Sale\" (\n",
            "\t\"SaleId\" INTEGER NOT NULL, \n",
            "\t\"CustomerId\" INTEGER NOT NULL, \n",
            "\t\"EmployeeId\" INTEGER, \n",
            "\t\"SaleDate\" DATETIME NOT NULL, \n",
            "\t\"TotalAmount\" NUMERIC(10, 2) NOT NULL, \n",
            "\tPRIMARY KEY (\"SaleId\"), \n",
            "\tFOREIGN KEY(\"EmployeeId\") REFERENCES \"Employee\" (\"EmployeeId\"), \n",
            "\tFOREIGN KEY(\"CustomerId\") REFERENCES \"Customer\" (\"CustomerId\")\n",
            ")\n",
            "\n",
            "/*\n",
            "3 rows from Sale table:\n",
            "SaleId\tCustomerId\tEmployeeId\tSaleDate\tTotalAmount\n",
            "1\t1\t1\t2023-01-15 00:00:00\t54.97\n",
            "2\t2\t2\t2023-01-20 00:00:00\t49.97\n",
            "3\t3\t3\t2023-01-25 00:00:00\t59.97\n",
            "*/\n",
            "==================================\u001b[1m Ai Message \u001b[0m==================================\n",
            "Tool Calls:\n",
            "  sql_db_schema (call_5qACsOxc4cMerEbhb90LQCnI)\n",
            " Call ID: call_5qACsOxc4cMerEbhb90LQCnI\n",
            "  Args:\n",
            "    table_names: SaleTransactions\n",
            "=================================\u001b[1m Tool Message \u001b[0m=================================\n",
            "Name: sql_db_schema\n",
            "\n",
            "\n",
            "CREATE TABLE \"SaleTransactions\" (\n",
            "\t\"TransactionId\" INTEGER NOT NULL, \n",
            "\t\"SaleId\" INTEGER NOT NULL, \n",
            "\t\"ComicId\" INTEGER NOT NULL, \n",
            "\t\"Quantity\" INTEGER NOT NULL, \n",
            "\t\"Price\" NUMERIC(10, 2) NOT NULL, \n",
            "\tPRIMARY KEY (\"TransactionId\"), \n",
            "\tFOREIGN KEY(\"ComicId\") REFERENCES \"Comic\" (\"ComicId\"), \n",
            "\tFOREIGN KEY(\"SaleId\") REFERENCES \"Sale\" (\"SaleId\")\n",
            ")\n",
            "\n",
            "/*\n",
            "3 rows from SaleTransactions table:\n",
            "TransactionId\tSaleId\tComicId\tQuantity\tPrice\n",
            "1\t1\t1\t1\t19.99\n",
            "2\t1\t2\t2\t14.99\n",
            "3\t2\t3\t1\t24.99\n",
            "*/\n",
            "==================================\u001b[1m Ai Message \u001b[0m==================================\n",
            "Tool Calls:\n",
            "  sql_db_query_checker (call_i2oy3gNy6uM3ZjzJUETyBEgA)\n",
            " Call ID: call_i2oy3gNy6uM3ZjzJUETyBEgA\n",
            "  Args:\n",
            "    query: SELECT Comic.Title, SUM(SaleTransactions.Quantity) as TotalSold FROM Comic JOIN SaleTransactions ON Comic.ComicId = SaleTransactions.ComicId GROUP BY Comic.Title ORDER BY TotalSold DESC LIMIT 10;\n",
            "=================================\u001b[1m Tool Message \u001b[0m=================================\n",
            "Name: sql_db_query_checker\n",
            "\n",
            "```sql\n",
            "SELECT Comic.Title, SUM(SaleTransactions.Quantity) as TotalSold \n",
            "FROM Comic \n",
            "JOIN SaleTransactions ON Comic.ComicId = SaleTransactions.ComicId \n",
            "GROUP BY Comic.Title \n",
            "ORDER BY TotalSold DESC \n",
            "LIMIT 10;\n",
            "```\n",
            "==================================\u001b[1m Ai Message \u001b[0m==================================\n",
            "Tool Calls:\n",
            "  sql_db_query (call_Z1XekT0Wglr05HznGo2RwjSw)\n",
            " Call ID: call_Z1XekT0Wglr05HznGo2RwjSw\n",
            "  Args:\n",
            "    query: SELECT Comic.Title, SUM(SaleTransactions.Quantity) as TotalSold FROM Comic JOIN SaleTransactions ON Comic.ComicId = SaleTransactions.ComicId GROUP BY Comic.Title ORDER BY TotalSold DESC LIMIT 10;\n",
            "=================================\u001b[1m Tool Message \u001b[0m=================================\n",
            "Name: sql_db_query\n",
            "\n",
            "[('Wolverine: Old Man Logan', 3), ('V for Vendetta', 2), ('Usagi Yojimbo Volume 1', 2), ('Transformers: All Hail Megatron', 2), ('The Killing Joke', 2), ('The Boys Volume 1', 2), ('Superman: Red Son', 2), ('Punisher: Welcome Back, Frank', 2), ('Preacher Volume 1', 2), ('Ms. Marvel Volume 1', 2)]\n",
            "==================================\u001b[1m Ai Message \u001b[0m==================================\n",
            "\n",
            "Here are the Top 10 most popular comics based on sales:\n",
            "\n",
            "1. Wolverine: Old Man Logan - 3 copies sold\n",
            "2. V for Vendetta - 2 copies sold\n",
            "3. Usagi Yojimbo Volume 1 - 2 copies sold\n",
            "4. Transformers: All Hail Megatron - 2 copies sold\n",
            "5. The Killing Joke - 2 copies sold\n",
            "6. The Boys Volume 1 - 2 copies sold\n",
            "7. Superman: Red Son - 2 copies sold\n",
            "8. Punisher: Welcome Back, Frank - 2 copies sold\n",
            "9. Preacher Volume 1 - 2 copies sold\n",
            "10. Ms. Marvel Volume 1 - 2 copies sold\n",
            "\n",
            "\n",
            "Final Response:\n",
            "\n"
          ]
        },
        {
          "output_type": "display_data",
          "data": {
            "text/plain": [
              "<IPython.core.display.Markdown object>"
            ],
            "text/markdown": "Here are the Top 10 most popular comics based on sales:\n\n1. Wolverine: Old Man Logan - 3 copies sold\n2. V for Vendetta - 2 copies sold\n3. Usagi Yojimbo Volume 1 - 2 copies sold\n4. Transformers: All Hail Megatron - 2 copies sold\n5. The Killing Joke - 2 copies sold\n6. The Boys Volume 1 - 2 copies sold\n7. Superman: Red Son - 2 copies sold\n8. Punisher: Welcome Back, Frank - 2 copies sold\n9. Preacher Volume 1 - 2 copies sold\n10. Ms. Marvel Volume 1 - 2 copies sold"
          },
          "metadata": {}
        }
      ]
    },
    {
      "cell_type": "code",
      "source": [
        "def call_text2sql_agent(query, verbose=False):\n",
        "\n",
        "    for event in text2sql_agent.stream(\n",
        "        {\"messages\": [HumanMessage(content=query)]},\n",
        "        stream_mode='values' #returns full agent state with all messages including updates\n",
        "    ):\n",
        "        if verbose:\n",
        "            event[\"messages\"][-1].pretty_print()\n",
        "\n",
        "    print('\\n\\nFinal Response:\\n')\n",
        "    display(Markdown(event[\"messages\"][-1].content))\n"
      ],
      "metadata": {
        "id": "Rw2P3xHqwmuo"
      },
      "execution_count": null,
      "outputs": []
    },
    {
      "cell_type": "code",
      "source": [
        "call_text2sql_agent(query=\"What are the Top 10 most popular comics?\",\n",
        "                    verbose=True)"
      ],
      "metadata": {
        "id": "YbnijTxIwfdb",
        "colab": {
          "base_uri": "https://localhost:8080/",
          "height": 1000
        },
        "outputId": "cc2034e7-b3d2-4cc8-bcd3-1145c58fba11"
      },
      "execution_count": null,
      "outputs": [
        {
          "output_type": "stream",
          "name": "stdout",
          "text": [
            "================================\u001b[1m Human Message \u001b[0m=================================\n",
            "\n",
            "What are the Top 10 most popular comics?\n",
            "==================================\u001b[1m Ai Message \u001b[0m==================================\n",
            "Tool Calls:\n",
            "  sql_db_list_tables (call_9Ph48wbOs47MnUkJlMjjp4rc)\n",
            " Call ID: call_9Ph48wbOs47MnUkJlMjjp4rc\n",
            "  Args:\n",
            "=================================\u001b[1m Tool Message \u001b[0m=================================\n",
            "Name: sql_db_list_tables\n",
            "\n",
            "Branch, Comic, Customer, Employee, Inventory, Publisher, Sale, SaleTransactions\n",
            "==================================\u001b[1m Ai Message \u001b[0m==================================\n",
            "Tool Calls:\n",
            "  sql_db_schema (call_9uEgGK8IqBVwEFplqhKtmDYb)\n",
            " Call ID: call_9uEgGK8IqBVwEFplqhKtmDYb\n",
            "  Args:\n",
            "    table_names: Comic, Sale\n",
            "=================================\u001b[1m Tool Message \u001b[0m=================================\n",
            "Name: sql_db_schema\n",
            "\n",
            "\n",
            "CREATE TABLE \"Comic\" (\n",
            "\t\"ComicId\" INTEGER NOT NULL, \n",
            "\t\"Title\" NVARCHAR(100) NOT NULL, \n",
            "\t\"PublisherId\" INTEGER NOT NULL, \n",
            "\t\"Genre\" NVARCHAR(50), \n",
            "\t\"Price\" NUMERIC(10, 2) NOT NULL, \n",
            "\t\"ReleaseDate\" DATETIME, \n",
            "\tPRIMARY KEY (\"ComicId\"), \n",
            "\tFOREIGN KEY(\"PublisherId\") REFERENCES \"Publisher\" (\"PublisherId\")\n",
            ")\n",
            "\n",
            "/*\n",
            "3 rows from Comic table:\n",
            "ComicId\tTitle\tPublisherId\tGenre\tPrice\tReleaseDate\n",
            "1\tSpider-Man: Homecoming\t1\tSuperhero\t19.99\t2017-07-07 00:00:00\n",
            "2\tBatman: Year One\t2\tSuperhero\t14.99\t1987-02-01 00:00:00\n",
            "3\tHellboy: Seed of Destruction\t3\tSupernatural\t24.99\t1994-10-01 00:00:00\n",
            "*/\n",
            "\n",
            "\n",
            "CREATE TABLE \"Sale\" (\n",
            "\t\"SaleId\" INTEGER NOT NULL, \n",
            "\t\"CustomerId\" INTEGER NOT NULL, \n",
            "\t\"EmployeeId\" INTEGER, \n",
            "\t\"SaleDate\" DATETIME NOT NULL, \n",
            "\t\"TotalAmount\" NUMERIC(10, 2) NOT NULL, \n",
            "\tPRIMARY KEY (\"SaleId\"), \n",
            "\tFOREIGN KEY(\"EmployeeId\") REFERENCES \"Employee\" (\"EmployeeId\"), \n",
            "\tFOREIGN KEY(\"CustomerId\") REFERENCES \"Customer\" (\"CustomerId\")\n",
            ")\n",
            "\n",
            "/*\n",
            "3 rows from Sale table:\n",
            "SaleId\tCustomerId\tEmployeeId\tSaleDate\tTotalAmount\n",
            "1\t1\t1\t2023-01-15 00:00:00\t54.97\n",
            "2\t2\t2\t2023-01-20 00:00:00\t49.97\n",
            "3\t3\t3\t2023-01-25 00:00:00\t59.97\n",
            "*/\n",
            "==================================\u001b[1m Ai Message \u001b[0m==================================\n",
            "Tool Calls:\n",
            "  sql_db_schema (call_1U8JVjZlCTcLB5cTTFgzgzls)\n",
            " Call ID: call_1U8JVjZlCTcLB5cTTFgzgzls\n",
            "  Args:\n",
            "    table_names: SaleTransactions\n",
            "=================================\u001b[1m Tool Message \u001b[0m=================================\n",
            "Name: sql_db_schema\n",
            "\n",
            "\n",
            "CREATE TABLE \"SaleTransactions\" (\n",
            "\t\"TransactionId\" INTEGER NOT NULL, \n",
            "\t\"SaleId\" INTEGER NOT NULL, \n",
            "\t\"ComicId\" INTEGER NOT NULL, \n",
            "\t\"Quantity\" INTEGER NOT NULL, \n",
            "\t\"Price\" NUMERIC(10, 2) NOT NULL, \n",
            "\tPRIMARY KEY (\"TransactionId\"), \n",
            "\tFOREIGN KEY(\"ComicId\") REFERENCES \"Comic\" (\"ComicId\"), \n",
            "\tFOREIGN KEY(\"SaleId\") REFERENCES \"Sale\" (\"SaleId\")\n",
            ")\n",
            "\n",
            "/*\n",
            "3 rows from SaleTransactions table:\n",
            "TransactionId\tSaleId\tComicId\tQuantity\tPrice\n",
            "1\t1\t1\t1\t19.99\n",
            "2\t1\t2\t2\t14.99\n",
            "3\t2\t3\t1\t24.99\n",
            "*/\n",
            "==================================\u001b[1m Ai Message \u001b[0m==================================\n",
            "Tool Calls:\n",
            "  sql_db_query_checker (call_goZ0Cs1vFFxlolYb1w2rlZKl)\n",
            " Call ID: call_goZ0Cs1vFFxlolYb1w2rlZKl\n",
            "  Args:\n",
            "    query: SELECT Comic.Title, SUM(SaleTransactions.Quantity) as TotalSold FROM Comic JOIN SaleTransactions ON Comic.ComicId = SaleTransactions.ComicId GROUP BY Comic.ComicId ORDER BY TotalSold DESC LIMIT 10;\n",
            "=================================\u001b[1m Tool Message \u001b[0m=================================\n",
            "Name: sql_db_query_checker\n",
            "\n",
            "```sql\n",
            "SELECT Comic.Title, SUM(SaleTransactions.Quantity) as TotalSold \n",
            "FROM Comic \n",
            "JOIN SaleTransactions ON Comic.ComicId = SaleTransactions.ComicId \n",
            "GROUP BY Comic.ComicId \n",
            "ORDER BY TotalSold DESC \n",
            "LIMIT 10;\n",
            "```\n",
            "==================================\u001b[1m Ai Message \u001b[0m==================================\n",
            "Tool Calls:\n",
            "  sql_db_query (call_dp3dwmcO9EWX3X8Wnx1ySXHh)\n",
            " Call ID: call_dp3dwmcO9EWX3X8Wnx1ySXHh\n",
            "  Args:\n",
            "    query: SELECT Comic.Title, SUM(SaleTransactions.Quantity) as TotalSold FROM Comic JOIN SaleTransactions ON Comic.ComicId = SaleTransactions.ComicId GROUP BY Comic.ComicId ORDER BY TotalSold DESC LIMIT 10;\n",
            "=================================\u001b[1m Tool Message \u001b[0m=================================\n",
            "Name: sql_db_query\n",
            "\n",
            "[('Wolverine: Old Man Logan', 3), ('Superman: Red Son', 2), ('Ms. Marvel Volume 1', 2), ('Iron Man: Extremis', 2), ('Locke & Key Volume 1', 2), ('V for Vendetta', 2), ('The Boys Volume 1', 2), ('Lumberjanes Volume 1', 2), ('Punisher: Welcome Back, Frank', 2), ('Invincible Volume 1', 2)]\n",
            "==================================\u001b[1m Ai Message \u001b[0m==================================\n",
            "\n",
            "Here are the Top 10 most popular comics based on sales:\n",
            "\n",
            "1. Wolverine: Old Man Logan - 3 copies sold\n",
            "2. Superman: Red Son - 2 copies sold\n",
            "3. Ms. Marvel Volume 1 - 2 copies sold\n",
            "4. Iron Man: Extremis - 2 copies sold\n",
            "5. Locke & Key Volume 1 - 2 copies sold\n",
            "6. V for Vendetta - 2 copies sold\n",
            "7. The Boys Volume 1 - 2 copies sold\n",
            "8. Lumberjanes Volume 1 - 2 copies sold\n",
            "9. Punisher: Welcome Back, Frank - 2 copies sold\n",
            "10. Invincible Volume 1 - 2 copies sold\n",
            "\n",
            "\n",
            "Final Response:\n",
            "\n"
          ]
        },
        {
          "output_type": "display_data",
          "data": {
            "text/plain": [
              "<IPython.core.display.Markdown object>"
            ],
            "text/markdown": "Here are the Top 10 most popular comics based on sales:\n\n1. Wolverine: Old Man Logan - 3 copies sold\n2. Superman: Red Son - 2 copies sold\n3. Ms. Marvel Volume 1 - 2 copies sold\n4. Iron Man: Extremis - 2 copies sold\n5. Locke & Key Volume 1 - 2 copies sold\n6. V for Vendetta - 2 copies sold\n7. The Boys Volume 1 - 2 copies sold\n8. Lumberjanes Volume 1 - 2 copies sold\n9. Punisher: Welcome Back, Frank - 2 copies sold\n10. Invincible Volume 1 - 2 copies sold"
          },
          "metadata": {}
        }
      ]
    },
    {
      "cell_type": "code",
      "source": [
        "call_text2sql_agent(query=\"What are the top 5 customers with most comics purchased?\",\n",
        "                    verbose=False)"
      ],
      "metadata": {
        "id": "nv--rQKD1ar0",
        "colab": {
          "base_uri": "https://localhost:8080/",
          "height": 225
        },
        "outputId": "90f4c2d7-79bd-4387-bb2c-c199bf6f9448"
      },
      "execution_count": null,
      "outputs": [
        {
          "output_type": "stream",
          "name": "stdout",
          "text": [
            "\n",
            "\n",
            "Final Response:\n",
            "\n"
          ]
        },
        {
          "output_type": "display_data",
          "data": {
            "text/plain": [
              "<IPython.core.display.Markdown object>"
            ],
            "text/markdown": "The top 5 customers with the most comics purchased are:\n\n1. Tony Stark - 8 comics\n2. Sarah Connor - 7 comics\n3. Natasha Romanoff - 6 comics\n4. Clark Kent - 6 comics\n5. Diana Prince - 6 comics"
          },
          "metadata": {}
        }
      ]
    },
    {
      "cell_type": "code",
      "source": [
        "call_text2sql_agent(query=\"Which are the top 5 customers with most money spent\",\n",
        "                    verbose=False)"
      ],
      "metadata": {
        "id": "Qt7IZD171b4H",
        "colab": {
          "base_uri": "https://localhost:8080/",
          "height": 225
        },
        "outputId": "3391d5f0-0559-4b23-d95a-f02f5e66ffc1"
      },
      "execution_count": null,
      "outputs": [
        {
          "output_type": "stream",
          "name": "stdout",
          "text": [
            "\n",
            "\n",
            "Final Response:\n",
            "\n"
          ]
        },
        {
          "output_type": "display_data",
          "data": {
            "text/plain": [
              "<IPython.core.display.Markdown object>"
            ],
            "text/markdown": "The top 5 customers with the most money spent are:\n\n1. Tony Stark - \\$164.94\n2. Bruce Wayne - \\$139.94\n3. Sarah Connor - \\$124.96\n4. Clark Kent - \\$114.96\n5. Natasha Romanoff - \\$111.96"
          },
          "metadata": {}
        }
      ]
    },
    {
      "cell_type": "code",
      "source": [
        "call_text2sql_agent(query=\"Which are the top 3 salesman with highest revenue\",\n",
        "                    verbose=False)"
      ],
      "metadata": {
        "id": "-6pk7cZkUnLz",
        "colab": {
          "base_uri": "https://localhost:8080/",
          "height": 190
        },
        "outputId": "e46f3998-bf41-4dfd-89f0-51daa57e6ab5"
      },
      "execution_count": null,
      "outputs": [
        {
          "output_type": "stream",
          "name": "stdout",
          "text": [
            "\n",
            "\n",
            "Final Response:\n",
            "\n"
          ]
        },
        {
          "output_type": "display_data",
          "data": {
            "text/plain": [
              "<IPython.core.display.Markdown object>"
            ],
            "text/markdown": "The top 3 salesmen with the highest revenue are:\n\n1. John Doe with a total revenue of \\$255.89\n2. Alice Brown with a total revenue of \\$234.94\n3. Jane Smith with a total revenue of \\$234.88"
          },
          "metadata": {}
        }
      ]
    }
  ]
}