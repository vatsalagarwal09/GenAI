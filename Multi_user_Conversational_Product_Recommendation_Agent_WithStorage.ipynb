{
  "cells": [
    {
      "cell_type": "markdown",
      "metadata": {
        "id": "view-in-github",
        "colab_type": "text"
      },
      "source": [
        "<a href=\"https://colab.research.google.com/github/vatsalagarwal09/GenAI/blob/main/Multi_user_Conversational_Product_Recommendation_Agent_WithStorage.ipynb\" target=\"_parent\"><img src=\"https://colab.research.google.com/assets/colab-badge.svg\" alt=\"Open In Colab\"/></a>"
      ]
    },
    {
      "cell_type": "markdown",
      "metadata": {
        "id": "XTzBUFWQ-OWj"
      },
      "source": [
        "# Project: Build a Multi-user Conversational Product Recommendation Agent\n",
        "\n",
        "![](https://i.imgur.com/7ZHpO6U.png)\n",
        "\n",
        "\n",
        "___Created By: Dipanjan (DJ)___"
      ]
    },
    {
      "cell_type": "markdown",
      "metadata": {
        "id": "L1KvMtf54l0d"
      },
      "source": [
        "## Install OpenAI and LangChain dependencies\n"
      ]
    },
    {
      "cell_type": "code",
      "execution_count": null,
      "metadata": {
        "colab": {
          "base_uri": "https://localhost:8080/"
        },
        "id": "eEzecGfICCw1",
        "outputId": "e1583440-5555-4f91-f34e-ca90bca72ce8",
        "scrolled": true
      },
      "outputs": [
        {
          "name": "stdout",
          "output_type": "stream",
          "text": [
            "Collecting langchain==0.3.4\n",
            "  Downloading langchain-0.3.4-py3-none-any.whl.metadata (7.1 kB)\n",
            "Requirement already satisfied: PyYAML>=5.3 in /usr/local/lib/python3.10/dist-packages (from langchain==0.3.4) (6.0.2)\n",
            "Requirement already satisfied: SQLAlchemy<3,>=1.4 in /usr/local/lib/python3.10/dist-packages (from langchain==0.3.4) (2.0.35)\n",
            "Requirement already satisfied: aiohttp<4.0.0,>=3.8.3 in /usr/local/lib/python3.10/dist-packages (from langchain==0.3.4) (3.10.10)\n",
            "Requirement already satisfied: async-timeout<5.0.0,>=4.0.0 in /usr/local/lib/python3.10/dist-packages (from langchain==0.3.4) (4.0.3)\n",
            "Requirement already satisfied: langchain-core<0.4.0,>=0.3.12 in /usr/local/lib/python3.10/dist-packages (from langchain==0.3.4) (0.3.15)\n",
            "Requirement already satisfied: langchain-text-splitters<0.4.0,>=0.3.0 in /usr/local/lib/python3.10/dist-packages (from langchain==0.3.4) (0.3.0)\n",
            "Requirement already satisfied: langsmith<0.2.0,>=0.1.17 in /usr/local/lib/python3.10/dist-packages (from langchain==0.3.4) (0.1.137)\n",
            "Requirement already satisfied: numpy<2,>=1 in /usr/local/lib/python3.10/dist-packages (from langchain==0.3.4) (1.26.4)\n",
            "Requirement already satisfied: pydantic<3.0.0,>=2.7.4 in /usr/local/lib/python3.10/dist-packages (from langchain==0.3.4) (2.9.2)\n",
            "Requirement already satisfied: requests<3,>=2 in /usr/local/lib/python3.10/dist-packages (from langchain==0.3.4) (2.32.3)\n",
            "Requirement already satisfied: tenacity!=8.4.0,<10,>=8.1.0 in /usr/local/lib/python3.10/dist-packages (from langchain==0.3.4) (9.0.0)\n",
            "Requirement already satisfied: aiohappyeyeballs>=2.3.0 in /usr/local/lib/python3.10/dist-packages (from aiohttp<4.0.0,>=3.8.3->langchain==0.3.4) (2.4.3)\n",
            "Requirement already satisfied: aiosignal>=1.1.2 in /usr/local/lib/python3.10/dist-packages (from aiohttp<4.0.0,>=3.8.3->langchain==0.3.4) (1.3.1)\n",
            "Requirement already satisfied: attrs>=17.3.0 in /usr/local/lib/python3.10/dist-packages (from aiohttp<4.0.0,>=3.8.3->langchain==0.3.4) (24.2.0)\n",
            "Requirement already satisfied: frozenlist>=1.1.1 in /usr/local/lib/python3.10/dist-packages (from aiohttp<4.0.0,>=3.8.3->langchain==0.3.4) (1.5.0)\n",
            "Requirement already satisfied: multidict<7.0,>=4.5 in /usr/local/lib/python3.10/dist-packages (from aiohttp<4.0.0,>=3.8.3->langchain==0.3.4) (6.1.0)\n",
            "Requirement already satisfied: yarl<2.0,>=1.12.0 in /usr/local/lib/python3.10/dist-packages (from aiohttp<4.0.0,>=3.8.3->langchain==0.3.4) (1.17.0)\n",
            "Requirement already satisfied: jsonpatch<2.0,>=1.33 in /usr/local/lib/python3.10/dist-packages (from langchain-core<0.4.0,>=0.3.12->langchain==0.3.4) (1.33)\n",
            "Requirement already satisfied: packaging<25,>=23.2 in /usr/local/lib/python3.10/dist-packages (from langchain-core<0.4.0,>=0.3.12->langchain==0.3.4) (24.1)\n",
            "Requirement already satisfied: typing-extensions>=4.7 in /usr/local/lib/python3.10/dist-packages (from langchain-core<0.4.0,>=0.3.12->langchain==0.3.4) (4.12.2)\n",
            "Requirement already satisfied: httpx<1,>=0.23.0 in /usr/local/lib/python3.10/dist-packages (from langsmith<0.2.0,>=0.1.17->langchain==0.3.4) (0.27.2)\n",
            "Requirement already satisfied: orjson<4.0.0,>=3.9.14 in /usr/local/lib/python3.10/dist-packages (from langsmith<0.2.0,>=0.1.17->langchain==0.3.4) (3.10.10)\n",
            "Requirement already satisfied: requests-toolbelt<2.0.0,>=1.0.0 in /usr/local/lib/python3.10/dist-packages (from langsmith<0.2.0,>=0.1.17->langchain==0.3.4) (1.0.0)\n",
            "Requirement already satisfied: annotated-types>=0.6.0 in /usr/local/lib/python3.10/dist-packages (from pydantic<3.0.0,>=2.7.4->langchain==0.3.4) (0.7.0)\n",
            "Requirement already satisfied: pydantic-core==2.23.4 in /usr/local/lib/python3.10/dist-packages (from pydantic<3.0.0,>=2.7.4->langchain==0.3.4) (2.23.4)\n",
            "Requirement already satisfied: charset-normalizer<4,>=2 in /usr/local/lib/python3.10/dist-packages (from requests<3,>=2->langchain==0.3.4) (3.4.0)\n",
            "Requirement already satisfied: idna<4,>=2.5 in /usr/local/lib/python3.10/dist-packages (from requests<3,>=2->langchain==0.3.4) (3.10)\n",
            "Requirement already satisfied: urllib3<3,>=1.21.1 in /usr/local/lib/python3.10/dist-packages (from requests<3,>=2->langchain==0.3.4) (2.2.3)\n",
            "Requirement already satisfied: certifi>=2017.4.17 in /usr/local/lib/python3.10/dist-packages (from requests<3,>=2->langchain==0.3.4) (2024.8.30)\n",
            "Requirement already satisfied: greenlet!=0.4.17 in /usr/local/lib/python3.10/dist-packages (from SQLAlchemy<3,>=1.4->langchain==0.3.4) (3.1.1)\n",
            "Requirement already satisfied: anyio in /usr/local/lib/python3.10/dist-packages (from httpx<1,>=0.23.0->langsmith<0.2.0,>=0.1.17->langchain==0.3.4) (3.7.1)\n",
            "Requirement already satisfied: httpcore==1.* in /usr/local/lib/python3.10/dist-packages (from httpx<1,>=0.23.0->langsmith<0.2.0,>=0.1.17->langchain==0.3.4) (1.0.6)\n",
            "Requirement already satisfied: sniffio in /usr/local/lib/python3.10/dist-packages (from httpx<1,>=0.23.0->langsmith<0.2.0,>=0.1.17->langchain==0.3.4) (1.3.1)\n",
            "Requirement already satisfied: h11<0.15,>=0.13 in /usr/local/lib/python3.10/dist-packages (from httpcore==1.*->httpx<1,>=0.23.0->langsmith<0.2.0,>=0.1.17->langchain==0.3.4) (0.14.0)\n",
            "Requirement already satisfied: jsonpointer>=1.9 in /usr/local/lib/python3.10/dist-packages (from jsonpatch<2.0,>=1.33->langchain-core<0.4.0,>=0.3.12->langchain==0.3.4) (3.0.0)\n",
            "Requirement already satisfied: propcache>=0.2.0 in /usr/local/lib/python3.10/dist-packages (from yarl<2.0,>=1.12.0->aiohttp<4.0.0,>=3.8.3->langchain==0.3.4) (0.2.0)\n",
            "Requirement already satisfied: exceptiongroup in /usr/local/lib/python3.10/dist-packages (from anyio->httpx<1,>=0.23.0->langsmith<0.2.0,>=0.1.17->langchain==0.3.4) (1.2.2)\n",
            "Downloading langchain-0.3.4-py3-none-any.whl (1.0 MB)\n",
            "\u001b[2K   \u001b[90m━━━━━━━━━━━━━━━━━━━━━━━━━━━━━━━━━━━━━━━━\u001b[0m \u001b[32m1.0/1.0 MB\u001b[0m \u001b[31m10.0 MB/s\u001b[0m eta \u001b[36m0:00:00\u001b[0m\n",
            "\u001b[?25hInstalling collected packages: langchain\n",
            "  Attempting uninstall: langchain\n",
            "    Found existing installation: langchain 0.3.7\n",
            "    Uninstalling langchain-0.3.7:\n",
            "      Successfully uninstalled langchain-0.3.7\n",
            "\u001b[31mERROR: pip's dependency resolver does not currently take into account all the packages that are installed. This behaviour is the source of the following dependency conflicts.\n",
            "langchain-community 0.3.5 requires langchain<0.4.0,>=0.3.6, but you have langchain 0.3.4 which is incompatible.\u001b[0m\u001b[31m\n",
            "\u001b[0mSuccessfully installed langchain-0.3.4\n",
            "Requirement already satisfied: langchain-openai==0.2.3 in /usr/local/lib/python3.10/dist-packages (0.2.3)\n",
            "Requirement already satisfied: langchain-core<0.4.0,>=0.3.12 in /usr/local/lib/python3.10/dist-packages (from langchain-openai==0.2.3) (0.3.15)\n",
            "Requirement already satisfied: openai<2.0.0,>=1.52.0 in /usr/local/lib/python3.10/dist-packages (from langchain-openai==0.2.3) (1.52.2)\n",
            "Requirement already satisfied: tiktoken<1,>=0.7 in /usr/local/lib/python3.10/dist-packages (from langchain-openai==0.2.3) (0.8.0)\n",
            "Requirement already satisfied: PyYAML>=5.3 in /usr/local/lib/python3.10/dist-packages (from langchain-core<0.4.0,>=0.3.12->langchain-openai==0.2.3) (6.0.2)\n",
            "Requirement already satisfied: jsonpatch<2.0,>=1.33 in /usr/local/lib/python3.10/dist-packages (from langchain-core<0.4.0,>=0.3.12->langchain-openai==0.2.3) (1.33)\n",
            "Requirement already satisfied: langsmith<0.2.0,>=0.1.125 in /usr/local/lib/python3.10/dist-packages (from langchain-core<0.4.0,>=0.3.12->langchain-openai==0.2.3) (0.1.137)\n",
            "Requirement already satisfied: packaging<25,>=23.2 in /usr/local/lib/python3.10/dist-packages (from langchain-core<0.4.0,>=0.3.12->langchain-openai==0.2.3) (24.1)\n",
            "Requirement already satisfied: pydantic<3.0.0,>=2.5.2 in /usr/local/lib/python3.10/dist-packages (from langchain-core<0.4.0,>=0.3.12->langchain-openai==0.2.3) (2.9.2)\n",
            "Requirement already satisfied: tenacity!=8.4.0,<10.0.0,>=8.1.0 in /usr/local/lib/python3.10/dist-packages (from langchain-core<0.4.0,>=0.3.12->langchain-openai==0.2.3) (9.0.0)\n",
            "Requirement already satisfied: typing-extensions>=4.7 in /usr/local/lib/python3.10/dist-packages (from langchain-core<0.4.0,>=0.3.12->langchain-openai==0.2.3) (4.12.2)\n",
            "Requirement already satisfied: anyio<5,>=3.5.0 in /usr/local/lib/python3.10/dist-packages (from openai<2.0.0,>=1.52.0->langchain-openai==0.2.3) (3.7.1)\n",
            "Requirement already satisfied: distro<2,>=1.7.0 in /usr/local/lib/python3.10/dist-packages (from openai<2.0.0,>=1.52.0->langchain-openai==0.2.3) (1.9.0)\n",
            "Requirement already satisfied: httpx<1,>=0.23.0 in /usr/local/lib/python3.10/dist-packages (from openai<2.0.0,>=1.52.0->langchain-openai==0.2.3) (0.27.2)\n",
            "Requirement already satisfied: jiter<1,>=0.4.0 in /usr/local/lib/python3.10/dist-packages (from openai<2.0.0,>=1.52.0->langchain-openai==0.2.3) (0.6.1)\n",
            "Requirement already satisfied: sniffio in /usr/local/lib/python3.10/dist-packages (from openai<2.0.0,>=1.52.0->langchain-openai==0.2.3) (1.3.1)\n",
            "Requirement already satisfied: tqdm>4 in /usr/local/lib/python3.10/dist-packages (from openai<2.0.0,>=1.52.0->langchain-openai==0.2.3) (4.66.6)\n",
            "Requirement already satisfied: regex>=2022.1.18 in /usr/local/lib/python3.10/dist-packages (from tiktoken<1,>=0.7->langchain-openai==0.2.3) (2024.9.11)\n",
            "Requirement already satisfied: requests>=2.26.0 in /usr/local/lib/python3.10/dist-packages (from tiktoken<1,>=0.7->langchain-openai==0.2.3) (2.32.3)\n",
            "Requirement already satisfied: idna>=2.8 in /usr/local/lib/python3.10/dist-packages (from anyio<5,>=3.5.0->openai<2.0.0,>=1.52.0->langchain-openai==0.2.3) (3.10)\n",
            "Requirement already satisfied: exceptiongroup in /usr/local/lib/python3.10/dist-packages (from anyio<5,>=3.5.0->openai<2.0.0,>=1.52.0->langchain-openai==0.2.3) (1.2.2)\n",
            "Requirement already satisfied: certifi in /usr/local/lib/python3.10/dist-packages (from httpx<1,>=0.23.0->openai<2.0.0,>=1.52.0->langchain-openai==0.2.3) (2024.8.30)\n",
            "Requirement already satisfied: httpcore==1.* in /usr/local/lib/python3.10/dist-packages (from httpx<1,>=0.23.0->openai<2.0.0,>=1.52.0->langchain-openai==0.2.3) (1.0.6)\n",
            "Requirement already satisfied: h11<0.15,>=0.13 in /usr/local/lib/python3.10/dist-packages (from httpcore==1.*->httpx<1,>=0.23.0->openai<2.0.0,>=1.52.0->langchain-openai==0.2.3) (0.14.0)\n",
            "Requirement already satisfied: jsonpointer>=1.9 in /usr/local/lib/python3.10/dist-packages (from jsonpatch<2.0,>=1.33->langchain-core<0.4.0,>=0.3.12->langchain-openai==0.2.3) (3.0.0)\n",
            "Requirement already satisfied: orjson<4.0.0,>=3.9.14 in /usr/local/lib/python3.10/dist-packages (from langsmith<0.2.0,>=0.1.125->langchain-core<0.4.0,>=0.3.12->langchain-openai==0.2.3) (3.10.10)\n",
            "Requirement already satisfied: requests-toolbelt<2.0.0,>=1.0.0 in /usr/local/lib/python3.10/dist-packages (from langsmith<0.2.0,>=0.1.125->langchain-core<0.4.0,>=0.3.12->langchain-openai==0.2.3) (1.0.0)\n",
            "Requirement already satisfied: annotated-types>=0.6.0 in /usr/local/lib/python3.10/dist-packages (from pydantic<3.0.0,>=2.5.2->langchain-core<0.4.0,>=0.3.12->langchain-openai==0.2.3) (0.7.0)\n",
            "Requirement already satisfied: pydantic-core==2.23.4 in /usr/local/lib/python3.10/dist-packages (from pydantic<3.0.0,>=2.5.2->langchain-core<0.4.0,>=0.3.12->langchain-openai==0.2.3) (2.23.4)\n",
            "Requirement already satisfied: charset-normalizer<4,>=2 in /usr/local/lib/python3.10/dist-packages (from requests>=2.26.0->tiktoken<1,>=0.7->langchain-openai==0.2.3) (3.4.0)\n",
            "Requirement already satisfied: urllib3<3,>=1.21.1 in /usr/local/lib/python3.10/dist-packages (from requests>=2.26.0->tiktoken<1,>=0.7->langchain-openai==0.2.3) (2.2.3)\n",
            "Requirement already satisfied: langchain-community==0.3.5 in /usr/local/lib/python3.10/dist-packages (0.3.5)\n",
            "Requirement already satisfied: PyYAML>=5.3 in /usr/local/lib/python3.10/dist-packages (from langchain-community==0.3.5) (6.0.2)\n",
            "Requirement already satisfied: SQLAlchemy<2.0.36,>=1.4 in /usr/local/lib/python3.10/dist-packages (from langchain-community==0.3.5) (2.0.35)\n",
            "Requirement already satisfied: aiohttp<4.0.0,>=3.8.3 in /usr/local/lib/python3.10/dist-packages (from langchain-community==0.3.5) (3.10.10)\n",
            "Requirement already satisfied: dataclasses-json<0.7,>=0.5.7 in /usr/local/lib/python3.10/dist-packages (from langchain-community==0.3.5) (0.6.7)\n",
            "Requirement already satisfied: httpx-sse<0.5.0,>=0.4.0 in /usr/local/lib/python3.10/dist-packages (from langchain-community==0.3.5) (0.4.0)\n",
            "Collecting langchain<0.4.0,>=0.3.6 (from langchain-community==0.3.5)\n",
            "  Using cached langchain-0.3.7-py3-none-any.whl.metadata (7.1 kB)\n",
            "Requirement already satisfied: langchain-core<0.4.0,>=0.3.15 in /usr/local/lib/python3.10/dist-packages (from langchain-community==0.3.5) (0.3.15)\n",
            "Requirement already satisfied: langsmith<0.2.0,>=0.1.125 in /usr/local/lib/python3.10/dist-packages (from langchain-community==0.3.5) (0.1.137)\n",
            "Requirement already satisfied: numpy<2,>=1 in /usr/local/lib/python3.10/dist-packages (from langchain-community==0.3.5) (1.26.4)\n",
            "Requirement already satisfied: pydantic-settings<3.0.0,>=2.4.0 in /usr/local/lib/python3.10/dist-packages (from langchain-community==0.3.5) (2.6.1)\n",
            "Requirement already satisfied: requests<3,>=2 in /usr/local/lib/python3.10/dist-packages (from langchain-community==0.3.5) (2.32.3)\n",
            "Requirement already satisfied: tenacity!=8.4.0,<10,>=8.1.0 in /usr/local/lib/python3.10/dist-packages (from langchain-community==0.3.5) (9.0.0)\n",
            "Requirement already satisfied: aiohappyeyeballs>=2.3.0 in /usr/local/lib/python3.10/dist-packages (from aiohttp<4.0.0,>=3.8.3->langchain-community==0.3.5) (2.4.3)\n",
            "Requirement already satisfied: aiosignal>=1.1.2 in /usr/local/lib/python3.10/dist-packages (from aiohttp<4.0.0,>=3.8.3->langchain-community==0.3.5) (1.3.1)\n",
            "Requirement already satisfied: attrs>=17.3.0 in /usr/local/lib/python3.10/dist-packages (from aiohttp<4.0.0,>=3.8.3->langchain-community==0.3.5) (24.2.0)\n",
            "Requirement already satisfied: frozenlist>=1.1.1 in /usr/local/lib/python3.10/dist-packages (from aiohttp<4.0.0,>=3.8.3->langchain-community==0.3.5) (1.5.0)\n",
            "Requirement already satisfied: multidict<7.0,>=4.5 in /usr/local/lib/python3.10/dist-packages (from aiohttp<4.0.0,>=3.8.3->langchain-community==0.3.5) (6.1.0)\n",
            "Requirement already satisfied: yarl<2.0,>=1.12.0 in /usr/local/lib/python3.10/dist-packages (from aiohttp<4.0.0,>=3.8.3->langchain-community==0.3.5) (1.17.0)\n",
            "Requirement already satisfied: async-timeout<5.0,>=4.0 in /usr/local/lib/python3.10/dist-packages (from aiohttp<4.0.0,>=3.8.3->langchain-community==0.3.5) (4.0.3)\n",
            "Requirement already satisfied: marshmallow<4.0.0,>=3.18.0 in /usr/local/lib/python3.10/dist-packages (from dataclasses-json<0.7,>=0.5.7->langchain-community==0.3.5) (3.23.1)\n",
            "Requirement already satisfied: typing-inspect<1,>=0.4.0 in /usr/local/lib/python3.10/dist-packages (from dataclasses-json<0.7,>=0.5.7->langchain-community==0.3.5) (0.9.0)\n",
            "Requirement already satisfied: langchain-text-splitters<0.4.0,>=0.3.0 in /usr/local/lib/python3.10/dist-packages (from langchain<0.4.0,>=0.3.6->langchain-community==0.3.5) (0.3.0)\n",
            "Requirement already satisfied: pydantic<3.0.0,>=2.7.4 in /usr/local/lib/python3.10/dist-packages (from langchain<0.4.0,>=0.3.6->langchain-community==0.3.5) (2.9.2)\n",
            "Requirement already satisfied: jsonpatch<2.0,>=1.33 in /usr/local/lib/python3.10/dist-packages (from langchain-core<0.4.0,>=0.3.15->langchain-community==0.3.5) (1.33)\n",
            "Requirement already satisfied: packaging<25,>=23.2 in /usr/local/lib/python3.10/dist-packages (from langchain-core<0.4.0,>=0.3.15->langchain-community==0.3.5) (24.1)\n",
            "Requirement already satisfied: typing-extensions>=4.7 in /usr/local/lib/python3.10/dist-packages (from langchain-core<0.4.0,>=0.3.15->langchain-community==0.3.5) (4.12.2)\n",
            "Requirement already satisfied: httpx<1,>=0.23.0 in /usr/local/lib/python3.10/dist-packages (from langsmith<0.2.0,>=0.1.125->langchain-community==0.3.5) (0.27.2)\n",
            "Requirement already satisfied: orjson<4.0.0,>=3.9.14 in /usr/local/lib/python3.10/dist-packages (from langsmith<0.2.0,>=0.1.125->langchain-community==0.3.5) (3.10.10)\n",
            "Requirement already satisfied: requests-toolbelt<2.0.0,>=1.0.0 in /usr/local/lib/python3.10/dist-packages (from langsmith<0.2.0,>=0.1.125->langchain-community==0.3.5) (1.0.0)\n",
            "Requirement already satisfied: python-dotenv>=0.21.0 in /usr/local/lib/python3.10/dist-packages (from pydantic-settings<3.0.0,>=2.4.0->langchain-community==0.3.5) (1.0.1)\n",
            "Requirement already satisfied: charset-normalizer<4,>=2 in /usr/local/lib/python3.10/dist-packages (from requests<3,>=2->langchain-community==0.3.5) (3.4.0)\n",
            "Requirement already satisfied: idna<4,>=2.5 in /usr/local/lib/python3.10/dist-packages (from requests<3,>=2->langchain-community==0.3.5) (3.10)\n",
            "Requirement already satisfied: urllib3<3,>=1.21.1 in /usr/local/lib/python3.10/dist-packages (from requests<3,>=2->langchain-community==0.3.5) (2.2.3)\n",
            "Requirement already satisfied: certifi>=2017.4.17 in /usr/local/lib/python3.10/dist-packages (from requests<3,>=2->langchain-community==0.3.5) (2024.8.30)\n",
            "Requirement already satisfied: greenlet!=0.4.17 in /usr/local/lib/python3.10/dist-packages (from SQLAlchemy<2.0.36,>=1.4->langchain-community==0.3.5) (3.1.1)\n",
            "Requirement already satisfied: anyio in /usr/local/lib/python3.10/dist-packages (from httpx<1,>=0.23.0->langsmith<0.2.0,>=0.1.125->langchain-community==0.3.5) (3.7.1)\n",
            "Requirement already satisfied: httpcore==1.* in /usr/local/lib/python3.10/dist-packages (from httpx<1,>=0.23.0->langsmith<0.2.0,>=0.1.125->langchain-community==0.3.5) (1.0.6)\n",
            "Requirement already satisfied: sniffio in /usr/local/lib/python3.10/dist-packages (from httpx<1,>=0.23.0->langsmith<0.2.0,>=0.1.125->langchain-community==0.3.5) (1.3.1)\n",
            "Requirement already satisfied: h11<0.15,>=0.13 in /usr/local/lib/python3.10/dist-packages (from httpcore==1.*->httpx<1,>=0.23.0->langsmith<0.2.0,>=0.1.125->langchain-community==0.3.5) (0.14.0)\n",
            "Requirement already satisfied: jsonpointer>=1.9 in /usr/local/lib/python3.10/dist-packages (from jsonpatch<2.0,>=1.33->langchain-core<0.4.0,>=0.3.15->langchain-community==0.3.5) (3.0.0)\n",
            "Requirement already satisfied: annotated-types>=0.6.0 in /usr/local/lib/python3.10/dist-packages (from pydantic<3.0.0,>=2.7.4->langchain<0.4.0,>=0.3.6->langchain-community==0.3.5) (0.7.0)\n",
            "Requirement already satisfied: pydantic-core==2.23.4 in /usr/local/lib/python3.10/dist-packages (from pydantic<3.0.0,>=2.7.4->langchain<0.4.0,>=0.3.6->langchain-community==0.3.5) (2.23.4)\n",
            "Requirement already satisfied: mypy-extensions>=0.3.0 in /usr/local/lib/python3.10/dist-packages (from typing-inspect<1,>=0.4.0->dataclasses-json<0.7,>=0.5.7->langchain-community==0.3.5) (1.0.0)\n",
            "Requirement already satisfied: propcache>=0.2.0 in /usr/local/lib/python3.10/dist-packages (from yarl<2.0,>=1.12.0->aiohttp<4.0.0,>=3.8.3->langchain-community==0.3.5) (0.2.0)\n",
            "Requirement already satisfied: exceptiongroup in /usr/local/lib/python3.10/dist-packages (from anyio->httpx<1,>=0.23.0->langsmith<0.2.0,>=0.1.125->langchain-community==0.3.5) (1.2.2)\n",
            "Using cached langchain-0.3.7-py3-none-any.whl (1.0 MB)\n",
            "Installing collected packages: langchain\n",
            "  Attempting uninstall: langchain\n",
            "    Found existing installation: langchain 0.3.4\n",
            "    Uninstalling langchain-0.3.4:\n",
            "      Successfully uninstalled langchain-0.3.4\n",
            "Successfully installed langchain-0.3.7\n",
            "Requirement already satisfied: gdown in /usr/local/lib/python3.10/dist-packages (5.2.0)\n",
            "Requirement already satisfied: beautifulsoup4 in /usr/local/lib/python3.10/dist-packages (from gdown) (4.12.3)\n",
            "Requirement already satisfied: filelock in /usr/local/lib/python3.10/dist-packages (from gdown) (3.16.1)\n",
            "Requirement already satisfied: requests[socks] in /usr/local/lib/python3.10/dist-packages (from gdown) (2.32.3)\n",
            "Requirement already satisfied: tqdm in /usr/local/lib/python3.10/dist-packages (from gdown) (4.66.6)\n",
            "Requirement already satisfied: soupsieve>1.2 in /usr/local/lib/python3.10/dist-packages (from beautifulsoup4->gdown) (2.6)\n",
            "Requirement already satisfied: charset-normalizer<4,>=2 in /usr/local/lib/python3.10/dist-packages (from requests[socks]->gdown) (3.4.0)\n",
            "Requirement already satisfied: idna<4,>=2.5 in /usr/local/lib/python3.10/dist-packages (from requests[socks]->gdown) (3.10)\n",
            "Requirement already satisfied: urllib3<3,>=1.21.1 in /usr/local/lib/python3.10/dist-packages (from requests[socks]->gdown) (2.2.3)\n",
            "Requirement already satisfied: certifi>=2017.4.17 in /usr/local/lib/python3.10/dist-packages (from requests[socks]->gdown) (2024.8.30)\n",
            "Requirement already satisfied: PySocks!=1.5.7,>=1.5.6 in /usr/local/lib/python3.10/dist-packages (from requests[socks]->gdown) (1.7.1)\n",
            "Requirement already satisfied: rich in /usr/local/lib/python3.10/dist-packages (13.9.3)\n",
            "Requirement already satisfied: markdown-it-py>=2.2.0 in /usr/local/lib/python3.10/dist-packages (from rich) (3.0.0)\n",
            "Requirement already satisfied: pygments<3.0.0,>=2.13.0 in /usr/local/lib/python3.10/dist-packages (from rich) (2.18.0)\n",
            "Requirement already satisfied: typing-extensions<5.0,>=4.0.0 in /usr/local/lib/python3.10/dist-packages (from rich) (4.12.2)\n",
            "Requirement already satisfied: mdurl~=0.1 in /usr/local/lib/python3.10/dist-packages (from markdown-it-py>=2.2.0->rich) (0.1.2)\n"
          ]
        }
      ],
      "source": [
        "# Updated package versions and import paths\n",
        "# Maintains consistency with all previous module updates\n",
        "# All changes align with the latest LangChain API structure\n",
        "!pip install langchain==0.3.21\n",
        "!pip install langchain-openai==0.3.9\n",
        "!pip install langchain-community==0.3.19\n",
        "!pip install gdown\n",
        "!pip install rich"
      ]
    },
    {
      "cell_type": "markdown",
      "metadata": {
        "id": "CiwGjVWK4q6F"
      },
      "source": [
        "## Load OpenAI API Credentials\n",
        "\n",
        "Here we load it from get password function"
      ]
    },
    {
      "cell_type": "markdown",
      "metadata": {
        "id": "PtBa7rlWJWH3"
      },
      "source": [
        "## Enter API Tokens"
      ]
    },
    {
      "cell_type": "code",
      "execution_count": null,
      "metadata": {
        "colab": {
          "base_uri": "https://localhost:8080/"
        },
        "id": "9ogxBkS6ZnnC",
        "outputId": "fde849a4-4e91-410b-96f4-a2c3dd72fd82"
      },
      "outputs": [
        {
          "name": "stdout",
          "output_type": "stream",
          "text": [
            "Enter Open AI API Key: ··········\n"
          ]
        }
      ],
      "source": [
        "from getpass import getpass\n",
        "\n",
        "OPENAI_KEY = getpass('Enter Open AI API Key: ')"
      ]
    },
    {
      "cell_type": "code",
      "execution_count": null,
      "metadata": {
        "id": "kDe44J0N0NcC"
      },
      "outputs": [],
      "source": [
        "import os\n",
        "\n",
        "os.environ['OPENAI_API_KEY'] = OPENAI_KEY"
      ]
    },
    {
      "cell_type": "markdown",
      "metadata": {
        "id": "FXpLuazqAC1o"
      },
      "source": [
        "## Get Dataset of Products"
      ]
    },
    {
      "cell_type": "code",
      "execution_count": null,
      "metadata": {
        "colab": {
          "base_uri": "https://localhost:8080/"
        },
        "id": "OcOjYvRxAFSI",
        "outputId": "01e5fe85-e192-4a4f-e70f-29bd561c6694"
      },
      "outputs": [
        {
          "name": "stdout",
          "output_type": "stream",
          "text": [
            "Downloading...\n",
            "From: https://drive.google.com/uc?id=1tAwsv97fICL74uJH9fDlxNEZ_YFFJS3W\n",
            "To: /content/Ecommerce_Product_List.csv\n",
            "\r",
            "  0% 0.00/5.19k [00:00<?, ?B/s]\r",
            "100% 5.19k/5.19k [00:00<00:00, 14.2MB/s]\n"
          ]
        }
      ],
      "source": [
        "# download it manually from https://drive.google.com/file/d/1tAwsv97fICL74uJH9fDlxNEZ_YFFJS3W/view?usp=sharing\n",
        "# or use gdown as follows to download it automatically\n",
        "!gdown 1tAwsv97fICL74uJH9fDlxNEZ_YFFJS3W"
      ]
    },
    {
      "cell_type": "code",
      "execution_count": null,
      "metadata": {
        "colab": {
          "base_uri": "https://localhost:8080/",
          "height": 206
        },
        "id": "BVhtbWb2C7S6",
        "outputId": "392446aa-9c2f-4f00-f862-498d7ad615a1"
      },
      "outputs": [
        {
          "data": {
            "application/vnd.google.colaboratory.intrinsic+json": {
              "summary": "{\n  \"name\": \"df\",\n  \"rows\": 30,\n  \"fields\": [\n    {\n      \"column\": \"Product_ID\",\n      \"properties\": {\n        \"dtype\": \"string\",\n        \"num_unique_values\": 30,\n        \"samples\": [\n          \"P028\",\n          \"P016\",\n          \"P024\"\n        ],\n        \"semantic_type\": \"\",\n        \"description\": \"\"\n      }\n    },\n    {\n      \"column\": \"Product_Name\",\n      \"properties\": {\n        \"dtype\": \"string\",\n        \"num_unique_values\": 30,\n        \"samples\": [\n          \"LumenKeyboard\",\n          \"ZetaEarbuds\",\n          \"PulseWatch XL\"\n        ],\n        \"semantic_type\": \"\",\n        \"description\": \"\"\n      }\n    },\n    {\n      \"column\": \"Category\",\n      \"properties\": {\n        \"dtype\": \"category\",\n        \"num_unique_values\": 10,\n        \"samples\": [\n          \"Monitor\",\n          \"Tablet\",\n          \"Headphones\"\n        ],\n        \"semantic_type\": \"\",\n        \"description\": \"\"\n      }\n    },\n    {\n      \"column\": \"Price_USD\",\n      \"properties\": {\n        \"dtype\": \"number\",\n        \"std\": 364,\n        \"min\": 30,\n        \"max\": 1300,\n        \"num_unique_values\": 23,\n        \"samples\": [\n          80,\n          30,\n          1200\n        ],\n        \"semantic_type\": \"\",\n        \"description\": \"\"\n      }\n    },\n    {\n      \"column\": \"Rating\",\n      \"properties\": {\n        \"dtype\": \"number\",\n        \"std\": 0.2941772083031884,\n        \"min\": 3.9,\n        \"max\": 4.9,\n        \"num_unique_values\": 11,\n        \"samples\": [\n          4.3,\n          4.5,\n          3.9\n        ],\n        \"semantic_type\": \"\",\n        \"description\": \"\"\n      }\n    },\n    {\n      \"column\": \"Description\",\n      \"properties\": {\n        \"dtype\": \"string\",\n        \"num_unique_values\": 30,\n        \"samples\": [\n          \"LumenKeyboard is a full-size mechanical keyboard with customizable RGB lighting and dedicated macro keys for gamers and professionals.\",\n          \"ZetaEarbuds provide crystal clear sound with wireless connectivity and up to 24 hours of battery life, great for on-the-go users.\",\n          \"PulseWatch XL includes a large 1.8-inch OLED display, GPS, heart rate monitor, and LTE connectivity for fitness enthusiasts and travelers.\"\n        ],\n        \"semantic_type\": \"\",\n        \"description\": \"\"\n      }\n    }\n  ]\n}",
              "type": "dataframe",
              "variable_name": "df"
            },
            "text/html": [
              "\n",
              "  <div id=\"df-6c53822a-0dab-4012-bfac-0b7b5ceeea4c\" class=\"colab-df-container\">\n",
              "    <div>\n",
              "<style scoped>\n",
              "    .dataframe tbody tr th:only-of-type {\n",
              "        vertical-align: middle;\n",
              "    }\n",
              "\n",
              "    .dataframe tbody tr th {\n",
              "        vertical-align: top;\n",
              "    }\n",
              "\n",
              "    .dataframe thead th {\n",
              "        text-align: right;\n",
              "    }\n",
              "</style>\n",
              "<table border=\"1\" class=\"dataframe\">\n",
              "  <thead>\n",
              "    <tr style=\"text-align: right;\">\n",
              "      <th></th>\n",
              "      <th>Product_ID</th>\n",
              "      <th>Product_Name</th>\n",
              "      <th>Category</th>\n",
              "      <th>Price_USD</th>\n",
              "      <th>Rating</th>\n",
              "      <th>Description</th>\n",
              "    </tr>\n",
              "  </thead>\n",
              "  <tbody>\n",
              "    <tr>\n",
              "      <th>0</th>\n",
              "      <td>P001</td>\n",
              "      <td>AlphaBook Pro</td>\n",
              "      <td>Laptop</td>\n",
              "      <td>1200</td>\n",
              "      <td>4.5</td>\n",
              "      <td>The AlphaBook Pro features a 15-inch Retina di...</td>\n",
              "    </tr>\n",
              "    <tr>\n",
              "      <th>1</th>\n",
              "      <td>P002</td>\n",
              "      <td>BetaTab S</td>\n",
              "      <td>Tablet</td>\n",
              "      <td>500</td>\n",
              "      <td>4.2</td>\n",
              "      <td>BetaTab S is a lightweight tablet with a 15-in...</td>\n",
              "    </tr>\n",
              "    <tr>\n",
              "      <th>2</th>\n",
              "      <td>P003</td>\n",
              "      <td>GammaPhone X</td>\n",
              "      <td>Smartphone</td>\n",
              "      <td>800</td>\n",
              "      <td>4.7</td>\n",
              "      <td>GammaPhone X comes with a 6.7-inch AMOLED disp...</td>\n",
              "    </tr>\n",
              "    <tr>\n",
              "      <th>3</th>\n",
              "      <td>P004</td>\n",
              "      <td>DeltaWatch 2</td>\n",
              "      <td>Smartwatch</td>\n",
              "      <td>300</td>\n",
              "      <td>4.0</td>\n",
              "      <td>DeltaWatch 2 offers fitness tracking, heart ra...</td>\n",
              "    </tr>\n",
              "    <tr>\n",
              "      <th>4</th>\n",
              "      <td>P005</td>\n",
              "      <td>EpsilonCam 300</td>\n",
              "      <td>Camera</td>\n",
              "      <td>600</td>\n",
              "      <td>4.1</td>\n",
              "      <td>EpsilonCam 300 is a mirrorless camera with a 2...</td>\n",
              "    </tr>\n",
              "  </tbody>\n",
              "</table>\n",
              "</div>\n",
              "    <div class=\"colab-df-buttons\">\n",
              "\n",
              "  <div class=\"colab-df-container\">\n",
              "    <button class=\"colab-df-convert\" onclick=\"convertToInteractive('df-6c53822a-0dab-4012-bfac-0b7b5ceeea4c')\"\n",
              "            title=\"Convert this dataframe to an interactive table.\"\n",
              "            style=\"display:none;\">\n",
              "\n",
              "  <svg xmlns=\"http://www.w3.org/2000/svg\" height=\"24px\" viewBox=\"0 -960 960 960\">\n",
              "    <path d=\"M120-120v-720h720v720H120Zm60-500h600v-160H180v160Zm220 220h160v-160H400v160Zm0 220h160v-160H400v160ZM180-400h160v-160H180v160Zm440 0h160v-160H620v160ZM180-180h160v-160H180v160Zm440 0h160v-160H620v160Z\"/>\n",
              "  </svg>\n",
              "    </button>\n",
              "\n",
              "  <style>\n",
              "    .colab-df-container {\n",
              "      display:flex;\n",
              "      gap: 12px;\n",
              "    }\n",
              "\n",
              "    .colab-df-convert {\n",
              "      background-color: #E8F0FE;\n",
              "      border: none;\n",
              "      border-radius: 50%;\n",
              "      cursor: pointer;\n",
              "      display: none;\n",
              "      fill: #1967D2;\n",
              "      height: 32px;\n",
              "      padding: 0 0 0 0;\n",
              "      width: 32px;\n",
              "    }\n",
              "\n",
              "    .colab-df-convert:hover {\n",
              "      background-color: #E2EBFA;\n",
              "      box-shadow: 0px 1px 2px rgba(60, 64, 67, 0.3), 0px 1px 3px 1px rgba(60, 64, 67, 0.15);\n",
              "      fill: #174EA6;\n",
              "    }\n",
              "\n",
              "    .colab-df-buttons div {\n",
              "      margin-bottom: 4px;\n",
              "    }\n",
              "\n",
              "    [theme=dark] .colab-df-convert {\n",
              "      background-color: #3B4455;\n",
              "      fill: #D2E3FC;\n",
              "    }\n",
              "\n",
              "    [theme=dark] .colab-df-convert:hover {\n",
              "      background-color: #434B5C;\n",
              "      box-shadow: 0px 1px 3px 1px rgba(0, 0, 0, 0.15);\n",
              "      filter: drop-shadow(0px 1px 2px rgba(0, 0, 0, 0.3));\n",
              "      fill: #FFFFFF;\n",
              "    }\n",
              "  </style>\n",
              "\n",
              "    <script>\n",
              "      const buttonEl =\n",
              "        document.querySelector('#df-6c53822a-0dab-4012-bfac-0b7b5ceeea4c button.colab-df-convert');\n",
              "      buttonEl.style.display =\n",
              "        google.colab.kernel.accessAllowed ? 'block' : 'none';\n",
              "\n",
              "      async function convertToInteractive(key) {\n",
              "        const element = document.querySelector('#df-6c53822a-0dab-4012-bfac-0b7b5ceeea4c');\n",
              "        const dataTable =\n",
              "          await google.colab.kernel.invokeFunction('convertToInteractive',\n",
              "                                                    [key], {});\n",
              "        if (!dataTable) return;\n",
              "\n",
              "        const docLinkHtml = 'Like what you see? Visit the ' +\n",
              "          '<a target=\"_blank\" href=https://colab.research.google.com/notebooks/data_table.ipynb>data table notebook</a>'\n",
              "          + ' to learn more about interactive tables.';\n",
              "        element.innerHTML = '';\n",
              "        dataTable['output_type'] = 'display_data';\n",
              "        await google.colab.output.renderOutput(dataTable, element);\n",
              "        const docLink = document.createElement('div');\n",
              "        docLink.innerHTML = docLinkHtml;\n",
              "        element.appendChild(docLink);\n",
              "      }\n",
              "    </script>\n",
              "  </div>\n",
              "\n",
              "\n",
              "<div id=\"df-8659fcb1-79b5-4a46-b81e-553d4172a10f\">\n",
              "  <button class=\"colab-df-quickchart\" onclick=\"quickchart('df-8659fcb1-79b5-4a46-b81e-553d4172a10f')\"\n",
              "            title=\"Suggest charts\"\n",
              "            style=\"display:none;\">\n",
              "\n",
              "<svg xmlns=\"http://www.w3.org/2000/svg\" height=\"24px\"viewBox=\"0 0 24 24\"\n",
              "     width=\"24px\">\n",
              "    <g>\n",
              "        <path d=\"M19 3H5c-1.1 0-2 .9-2 2v14c0 1.1.9 2 2 2h14c1.1 0 2-.9 2-2V5c0-1.1-.9-2-2-2zM9 17H7v-7h2v7zm4 0h-2V7h2v10zm4 0h-2v-4h2v4z\"/>\n",
              "    </g>\n",
              "</svg>\n",
              "  </button>\n",
              "\n",
              "<style>\n",
              "  .colab-df-quickchart {\n",
              "      --bg-color: #E8F0FE;\n",
              "      --fill-color: #1967D2;\n",
              "      --hover-bg-color: #E2EBFA;\n",
              "      --hover-fill-color: #174EA6;\n",
              "      --disabled-fill-color: #AAA;\n",
              "      --disabled-bg-color: #DDD;\n",
              "  }\n",
              "\n",
              "  [theme=dark] .colab-df-quickchart {\n",
              "      --bg-color: #3B4455;\n",
              "      --fill-color: #D2E3FC;\n",
              "      --hover-bg-color: #434B5C;\n",
              "      --hover-fill-color: #FFFFFF;\n",
              "      --disabled-bg-color: #3B4455;\n",
              "      --disabled-fill-color: #666;\n",
              "  }\n",
              "\n",
              "  .colab-df-quickchart {\n",
              "    background-color: var(--bg-color);\n",
              "    border: none;\n",
              "    border-radius: 50%;\n",
              "    cursor: pointer;\n",
              "    display: none;\n",
              "    fill: var(--fill-color);\n",
              "    height: 32px;\n",
              "    padding: 0;\n",
              "    width: 32px;\n",
              "  }\n",
              "\n",
              "  .colab-df-quickchart:hover {\n",
              "    background-color: var(--hover-bg-color);\n",
              "    box-shadow: 0 1px 2px rgba(60, 64, 67, 0.3), 0 1px 3px 1px rgba(60, 64, 67, 0.15);\n",
              "    fill: var(--button-hover-fill-color);\n",
              "  }\n",
              "\n",
              "  .colab-df-quickchart-complete:disabled,\n",
              "  .colab-df-quickchart-complete:disabled:hover {\n",
              "    background-color: var(--disabled-bg-color);\n",
              "    fill: var(--disabled-fill-color);\n",
              "    box-shadow: none;\n",
              "  }\n",
              "\n",
              "  .colab-df-spinner {\n",
              "    border: 2px solid var(--fill-color);\n",
              "    border-color: transparent;\n",
              "    border-bottom-color: var(--fill-color);\n",
              "    animation:\n",
              "      spin 1s steps(1) infinite;\n",
              "  }\n",
              "\n",
              "  @keyframes spin {\n",
              "    0% {\n",
              "      border-color: transparent;\n",
              "      border-bottom-color: var(--fill-color);\n",
              "      border-left-color: var(--fill-color);\n",
              "    }\n",
              "    20% {\n",
              "      border-color: transparent;\n",
              "      border-left-color: var(--fill-color);\n",
              "      border-top-color: var(--fill-color);\n",
              "    }\n",
              "    30% {\n",
              "      border-color: transparent;\n",
              "      border-left-color: var(--fill-color);\n",
              "      border-top-color: var(--fill-color);\n",
              "      border-right-color: var(--fill-color);\n",
              "    }\n",
              "    40% {\n",
              "      border-color: transparent;\n",
              "      border-right-color: var(--fill-color);\n",
              "      border-top-color: var(--fill-color);\n",
              "    }\n",
              "    60% {\n",
              "      border-color: transparent;\n",
              "      border-right-color: var(--fill-color);\n",
              "    }\n",
              "    80% {\n",
              "      border-color: transparent;\n",
              "      border-right-color: var(--fill-color);\n",
              "      border-bottom-color: var(--fill-color);\n",
              "    }\n",
              "    90% {\n",
              "      border-color: transparent;\n",
              "      border-bottom-color: var(--fill-color);\n",
              "    }\n",
              "  }\n",
              "</style>\n",
              "\n",
              "  <script>\n",
              "    async function quickchart(key) {\n",
              "      const quickchartButtonEl =\n",
              "        document.querySelector('#' + key + ' button');\n",
              "      quickchartButtonEl.disabled = true;  // To prevent multiple clicks.\n",
              "      quickchartButtonEl.classList.add('colab-df-spinner');\n",
              "      try {\n",
              "        const charts = await google.colab.kernel.invokeFunction(\n",
              "            'suggestCharts', [key], {});\n",
              "      } catch (error) {\n",
              "        console.error('Error during call to suggestCharts:', error);\n",
              "      }\n",
              "      quickchartButtonEl.classList.remove('colab-df-spinner');\n",
              "      quickchartButtonEl.classList.add('colab-df-quickchart-complete');\n",
              "    }\n",
              "    (() => {\n",
              "      let quickchartButtonEl =\n",
              "        document.querySelector('#df-8659fcb1-79b5-4a46-b81e-553d4172a10f button');\n",
              "      quickchartButtonEl.style.display =\n",
              "        google.colab.kernel.accessAllowed ? 'block' : 'none';\n",
              "    })();\n",
              "  </script>\n",
              "</div>\n",
              "\n",
              "    </div>\n",
              "  </div>\n"
            ],
            "text/plain": [
              "  Product_ID    Product_Name    Category  Price_USD  Rating  \\\n",
              "0       P001   AlphaBook Pro      Laptop       1200     4.5   \n",
              "1       P002       BetaTab S      Tablet        500     4.2   \n",
              "2       P003    GammaPhone X  Smartphone        800     4.7   \n",
              "3       P004    DeltaWatch 2  Smartwatch        300     4.0   \n",
              "4       P005  EpsilonCam 300      Camera        600     4.1   \n",
              "\n",
              "                                         Description  \n",
              "0  The AlphaBook Pro features a 15-inch Retina di...  \n",
              "1  BetaTab S is a lightweight tablet with a 15-in...  \n",
              "2  GammaPhone X comes with a 6.7-inch AMOLED disp...  \n",
              "3  DeltaWatch 2 offers fitness tracking, heart ra...  \n",
              "4  EpsilonCam 300 is a mirrorless camera with a 2...  "
            ]
          },
          "execution_count": 49,
          "metadata": {},
          "output_type": "execute_result"
        }
      ],
      "source": [
        "import pandas as pd\n",
        "\n",
        "df = pd.read_csv('./Ecommerce_Product_List.csv')\n",
        "df.head()"
      ]
    },
    {
      "cell_type": "code",
      "execution_count": null,
      "metadata": {
        "colab": {
          "base_uri": "https://localhost:8080/"
        },
        "id": "DKTqiNhtD0gx",
        "outputId": "4a969812-9b73-4330-828d-aea69a3240cf"
      },
      "outputs": [
        {
          "name": "stdout",
          "output_type": "stream",
          "text": [
            "<class 'pandas.core.frame.DataFrame'>\n",
            "RangeIndex: 30 entries, 0 to 29\n",
            "Data columns (total 6 columns):\n",
            " #   Column        Non-Null Count  Dtype  \n",
            "---  ------        --------------  -----  \n",
            " 0   Product_ID    30 non-null     object \n",
            " 1   Product_Name  30 non-null     object \n",
            " 2   Category      30 non-null     object \n",
            " 3   Price_USD     30 non-null     int64  \n",
            " 4   Rating        30 non-null     float64\n",
            " 5   Description   30 non-null     object \n",
            "dtypes: float64(1), int64(1), object(4)\n",
            "memory usage: 1.5+ KB\n"
          ]
        }
      ],
      "source": [
        "df.info()"
      ]
    },
    {
      "cell_type": "code",
      "execution_count": null,
      "metadata": {
        "colab": {
          "base_uri": "https://localhost:8080/"
        },
        "id": "Mh8VeyWoEyeC",
        "outputId": "0d87636e-c033-4291-e601-80e85541c120"
      },
      "outputs": [
        {
          "data": {
            "text/plain": [
              "array(['Laptop', 'Tablet', 'Smartphone', 'Smartwatch', 'Camera',\n",
              "       'Headphones', 'Mouse', 'Keyboard', 'Monitor', 'Charger'],\n",
              "      dtype=object)"
            ]
          },
          "execution_count": 51,
          "metadata": {},
          "output_type": "execute_result"
        }
      ],
      "source": [
        "df['Category'].unique()"
      ]
    },
    {
      "cell_type": "code",
      "execution_count": null,
      "metadata": {
        "colab": {
          "base_uri": "https://localhost:8080/"
        },
        "id": "tfDCcH1cFDkr",
        "outputId": "f5321388-5ade-411c-f8b1-ba8b6d60892a"
      },
      "outputs": [
        {
          "data": {
            "text/plain": [
              "array([4.5, 4.2, 4.7, 4. , 4.1, 4.3, 4.6, 4.4, 4.8, 3.9, 4.9])"
            ]
          },
          "execution_count": 52,
          "metadata": {},
          "output_type": "execute_result"
        }
      ],
      "source": [
        "df['Rating'].unique()"
      ]
    },
    {
      "cell_type": "markdown",
      "metadata": {
        "id": "XH1TCb01Dm5a"
      },
      "source": [
        "## Product Recommender Agent Workflow\n",
        "\n",
        "We will:\n",
        "\n",
        "- Build a Pandas Code Tool Executor to filter products based on category, rating, price\n",
        "- Build a LLM Recommender Chain to filter products based on natural language descriptions using an LLM\n",
        "- Build a query rephraser LLM Chain to combine multiple queries in a conversation to generate better queries\n",
        "- Combine all of these into a single chain\n",
        "- Add conversational memory to this system\n",
        "\n",
        "![](https://i.imgur.com/qJIsErH.png)"
      ]
    },
    {
      "cell_type": "markdown",
      "metadata": {
        "id": "WID98LhFAV7r"
      },
      "source": [
        "## Text 2 Pandas Code Tool Executor Chain"
      ]
    },
    {
      "cell_type": "code",
      "execution_count": null,
      "metadata": {
        "colab": {
          "base_uri": "https://localhost:8080/"
        },
        "id": "L1ru0VstDcnL",
        "outputId": "13212455-ef0f-45fc-d7f5-e4f34580ad1d"
      },
      "outputs": [
        {
          "name": "stdout",
          "output_type": "stream",
          "text": [
            "|    | Product_ID   | Product_Name   | Category   |   Price_USD |   Rating | Description                                                                                                                              |\n",
            "|---:|:-------------|:---------------|:-----------|------------:|---------:|:-----------------------------------------------------------------------------------------------------------------------------------------|\n",
            "|  1 | P002         | BetaTab S      | Tablet     |         500 |      4.2 | BetaTab S is a lightweight tablet with a 15-inch display, 4GB RAM, and 64GB storage. Perfect for entertainment and light work on the go. |\n",
            "| 11 | P012         | BetaTab Lite   | Tablet     |         400 |      4.1 | BetaTab Lite is a budget-friendly 10-inch tablet with 2GB RAM and 32GB storage, perfect for casual browsing and entertainment.           |\n",
            "| 21 | P022         | SpectraTab Max | Tablet     |         600 |      4.3 | SpectraTab Max features a 12-inch Retina display, 6GB RAM, and 128GB storage, designed for entertainment and professional use.           |\n"
          ]
        }
      ],
      "source": [
        "# Updated import path for output parsers:\n",
        "from langchain.output_parsers.str_output import StrOutputParser\n",
        "from langchain.runnables import chain\n",
        "from langchain.schema.runnable import RunnablePassthrough\n",
        "from operator import itemgetter\n",
        "# Updated import paths for prompt templates:\n",
        "from langchain.prompts import ChatPromptTemplate\n",
        "from langchain_openai import ChatOpenAI\n",
        "\n",
        "\n",
        "# Updated parameter name from model_name to model:\n",
        "chatgpt = ChatOpenAI(model='gpt-4o-mini', temperature=0)\n",
        "\n",
        "@chain\n",
        "def pandas_code_tool_executor(query):\n",
        "    result_df = eval(query)\n",
        "    if result_df.empty:\n",
        "        return df.to_markdown()\n",
        "    else:\n",
        "        return result_df.to_markdown()\n",
        "\n",
        "FILTER_PROMPT = \"\"\"Given the following schema of a dataframe table,\n",
        "            your task is to figure out the best pandas query to\n",
        "            filter the dataframe based on the user query which\n",
        "            will be in natural language.\n",
        "\n",
        "            The schema is as follows:\n",
        "\n",
        "            #   Column        Non-Null Count  Dtype\n",
        "            ---  ------        --------------  -----\n",
        "            0   Product_ID    30 non-null     object\n",
        "            1   Product_Name  30 non-null     object\n",
        "            2   Category      30 non-null     object\n",
        "            3   Price_USD     30 non-null     int64\n",
        "            4   Rating        30 non-null     float64\n",
        "            5   Description   30 non-null     object\n",
        "\n",
        "            Category has values: ['Laptop', 'Tablet', 'Smartphone',\n",
        "                                  'Smartwatch', 'Camera',\n",
        "                                  'Headphones', 'Mouse', 'Keyboard',\n",
        "                                  'Monitor', 'Charger']\n",
        "\n",
        "            Rating ranges from 1 - 5 in floats\n",
        "\n",
        "            You will try to figure out the pandas query focusing\n",
        "            only on Category, Price_USD and Rating if the user mentions\n",
        "            anything about these in their natural language query.\n",
        "            Do not make up column names, only use the above.\n",
        "            If not the pandas query should just return the full dataframe.\n",
        "            Remember the dataframe name is df.\n",
        "\n",
        "            Just return only the pandas query and nothing else.\n",
        "            Do not return the results as markdown, just return the query\n",
        "\n",
        "            User Query: {user_query}\n",
        "            Pandas Query:\n",
        "        \"\"\"\n",
        "\n",
        "filter_prompt_template = ChatPromptTemplate.from_template(FILTER_PROMPT)\n",
        "\n",
        "data_filter_chain = (\n",
        "         filter_prompt_template\n",
        "           |\n",
        "         chatgpt\n",
        "           |\n",
        "         StrOutputParser()\n",
        "           |\n",
        "         pandas_code_tool_executor\n",
        ")\n",
        "\n",
        "product_table = data_filter_chain.invoke({\"user_query\": \"\"\"looking for a tablet with > 10 inch display\n",
        "                                                           and at least 64GB storage\"\"\"})\n",
        "print(product_table)"
      ]
    },
    {
      "cell_type": "markdown",
      "metadata": {
        "id": "1ntOX8xmA8Rj"
      },
      "source": [
        "## Product Description LLM Recommender Chain"
      ]
    },
    {
      "cell_type": "code",
      "execution_count": null,
      "metadata": {
        "colab": {
          "base_uri": "https://localhost:8080/"
        },
        "id": "DtAeKNhVpA1l",
        "outputId": "9c5f6e5b-e5c1-4035-f7aa-7006798fa21c"
      },
      "outputs": [
        {
          "name": "stdout",
          "output_type": "stream",
          "text": [
            "| Product_Name       | Price_USD | Rating | Description                                                                                                                              |\n",
            "|--------------------|-----------|--------|------------------------------------------------------------------------------------------------------------------------------------------|\n",
            "| BetaTab S          | 500       | 4.2    | BetaTab S is a lightweight tablet with a 15-inch display, 4GB RAM, and 64GB storage. Perfect for entertainment and light work on the go. |\n",
            "| SpectraTab Max     | 600       | 4.3    | SpectraTab Max features a 12-inch Retina display, 6GB RAM, and 128GB storage, designed for entertainment and professional use.           |\n",
            "\n",
            "I recommend the **BetaTab S** and **SpectraTab Max** because they both meet your requirements for a tablet with a display greater than 10 inches and at least 64GB of storage. The BetaTab S offers a larger 15-inch display, making it ideal for entertainment and light work, while the SpectraTab Max provides a high-quality 12-inch Retina display, suitable for both entertainment and professional tasks.\n"
          ]
        }
      ],
      "source": [
        "RECOMMEND_PROMPT = \"\"\"Act as an expert retail product advisor\n",
        "                      Given the following table of products,\n",
        "                      focus on the product attributes and description in the table\n",
        "                      and based on the user query below do the following\n",
        "\n",
        "                      - Recommend the most appropriate products based on the query\n",
        "                      - Recommedation should have product name, price,  rating, description\n",
        "                      - Also add a brief on why you recommend the product\n",
        "                      - Do not make up products or recommend products not in the table\n",
        "                      - If some specifications do not match focus on the ones which match and recommend\n",
        "                      - If nothing matches recommend 5 random products from the table\n",
        "                      - Do not generate anything else except the fields mentioned above\n",
        "\n",
        "                    In case the user query is just a generic query or greeting\n",
        "                    respond to them appropriately without recommending any products\n",
        "\n",
        "                    Product Table:\n",
        "                    {product_table}\n",
        "\n",
        "                    User Query:\n",
        "                    {user_query}\n",
        "\n",
        "                    Recommendation:\n",
        "                    \"\"\"\n",
        "\n",
        "recommend_prompt_template = ChatPromptTemplate.from_template(RECOMMEND_PROMPT)\n",
        "\n",
        "recommend_chain = (\n",
        "         recommend_prompt_template\n",
        "           |\n",
        "         chatgpt\n",
        "           |\n",
        "         StrOutputParser()\n",
        ")\n",
        "\n",
        "response = recommend_chain.invoke({\"user_query\": \"\"\"looking for a tablet with greater than 10 inch display\n",
        "                                                           and at least 64GB storage\"\"\",\n",
        "                                   \"product_table\": product_table})\n",
        "print(response)"
      ]
    },
    {
      "cell_type": "code",
      "execution_count": null,
      "metadata": {
        "id": "81hv-9UJoxeV"
      },
      "outputs": [],
      "source": [
        "combined_chain = (\n",
        "         {\n",
        "             'user_query' : itemgetter('user_query'),\n",
        "             'product_table' : data_filter_chain\n",
        "         }\n",
        "           |\n",
        "         recommend_chain\n",
        ")"
      ]
    },
    {
      "cell_type": "code",
      "execution_count": null,
      "metadata": {
        "colab": {
          "base_uri": "https://localhost:8080/"
        },
        "id": "lfOQaZFYKiTN",
        "outputId": "1b3b7263-6a5b-4035-917a-4895bb9c55a1"
      },
      "outputs": [
        {
          "name": "stdout",
          "output_type": "stream",
          "text": [
            "| Product_Name      | Price_USD | Rating | Description                                                                                                                          |\n",
            "|-------------------|-----------|--------|-------------------------------------------------------------------------------------------------------------------------------------|\n",
            "| AlphaBook Air     | 1000      | 4.6    | AlphaBook Air offers a sleek 13-inch Retina display, 8GB RAM, 256GB SSD, and Intel Core i5, designed for portability and efficiency. |\n",
            "\n",
            "I recommend the AlphaBook Air because it is the only laptop in the specified price range of $500 to $1000. It offers a good balance of performance and portability with its Intel Core i5 processor, 8GB RAM, and 256GB SSD, making it suitable for various tasks while still being relatively affordable.\n"
          ]
        }
      ],
      "source": [
        "response = combined_chain.invoke({\"user_query\": \"\"\"looking for a cheap laptop\n",
        "                                                      in the range of 500 - 1000\n",
        "                                                \"\"\"})\n",
        "print(response)"
      ]
    },
    {
      "cell_type": "markdown",
      "metadata": {
        "id": "fm6pZinBV4Q1"
      },
      "source": [
        "## Multi-user Window-based Conversation Chains with persistence\n",
        "\n",
        "The beauty of `SQLChatMessageHistory` is that we can store separate conversation histories per user or session which is often the need for real-world chatbots which will be accessed by many users at the same time. Instead of in-memory we can store it in a SQL database which can be used to store a lot of conversations.\n",
        "\n",
        "We use a `get_session_history` function which is expected to take in a `session_id` and return a Message History object. Everything is stored in a SQL database. This `session_id` is used to distinguish between separate conversations, and should be passed in as part of the config when calling the new chain\n",
        "\n",
        "We also use a `memory_buffer_window` function to only use the top-K last historical conversations before sending it to the LLM, basically our own implementation of `ConversationBufferWindowMemory`"
      ]
    },
    {
      "cell_type": "code",
      "execution_count": null,
      "metadata": {
        "id": "tLdc_EEzWSKG"
      },
      "outputs": [],
      "source": [
        "# removes the memory database file - usually not needed\n",
        "# you can run this only when you want to remove all conversation histories\n",
        "!rm memory.db"
      ]
    },
    {
      "cell_type": "markdown",
      "metadata": {
        "id": "-zsELwIgBind"
      },
      "source": [
        "## Historical Conversation Query Rephraser Chain"
      ]
    },
    {
      "cell_type": "code",
      "execution_count": null,
      "metadata": {
        "id": "J-Qam16QUgkj"
      },
      "outputs": [],
      "source": [
        "from langchain.chat_message_histories import SQLChatMessageHistory\n",
        "from langchain.chat_history import BaseChatMessageHistory\n",
        "from langchain.runnables.history import RunnableWithMessageHistory\n",
        "from langchain.prompts import ChatPromptTemplate, MessagesPlaceholder\n",
        "from langchain.runnables import RunnablePassthrough\n",
        "from langchain.output_parsers.str_output import StrOutputParser\n",
        "\n",
        "# used to retrieve conversation history from database\n",
        "# based on a specific user or session ID\n",
        "def get_session_history_db(session_id):\n",
        "    return SQLChatMessageHistory(session_id, \"sqlite:///memory.db\")\n",
        "\n",
        "\n",
        "SYS_PROMPT = \"\"\"You are a retail product expert.\n",
        "                Carefully analyze the following conversation history\n",
        "                and the current user query.\n",
        "                Refer to the history and rephrase the current user query\n",
        "                into a standalone query which can be used without the history\n",
        "                for making search queries.\n",
        "                Rephrase only if needed.\n",
        "                Just return the query and do not answer it.\n",
        "            \"\"\"\n",
        "\n",
        "# prompt to load in history and current input from the user\n",
        "prompt_template = ChatPromptTemplate.from_messages(\n",
        "    [\n",
        "        (\"system\", SYS_PROMPT),\n",
        "        MessagesPlaceholder(variable_name=\"history\"),\n",
        "        (\"human\", \"\"\"Current User Query:\n",
        "                     {human_input}\n",
        "                  \"\"\"),\n",
        "    ]\n",
        ")\n",
        "\n",
        "# create a memory buffer window function to return the last K conversations\n",
        "def memory_buffer_window(messages, k=10): # 10 here means retrieve only last 2*10 user-AI conversations\n",
        "    return messages[-(2*k):]\n",
        "\n",
        "# create a basic LLM Chain which only sends the last K conversations per user\n",
        "rephrase_query_chain = (\n",
        "    RunnablePassthrough.assign(history=lambda x: memory_buffer_window(x[\"history\"]))\n",
        "      |\n",
        "    prompt_template\n",
        "      |\n",
        "    chatgpt\n",
        "      |\n",
        "    StrOutputParser()\n",
        ")"
      ]
    },
    {
      "cell_type": "markdown",
      "metadata": {
        "id": "XE5KFcjmBprc"
      },
      "source": [
        "## Combining All Chains Together"
      ]
    },
    {
      "cell_type": "code",
      "execution_count": null,
      "metadata": {
        "id": "xqF_mibbBo_H"
      },
      "outputs": [],
      "source": [
        "combined_chain = (\n",
        "         {\n",
        "             'human_input' : itemgetter('human_input'),\n",
        "             'history' : itemgetter('history')\n",
        "         }\n",
        "           |\n",
        "        {\n",
        "            'user_query': rephrase_query_chain\n",
        "        }\n",
        "           |\n",
        "        RunnablePassthrough.assign(product_table=data_filter_chain)\n",
        "            |\n",
        "        recommend_chain\n",
        ")"
      ]
    },
    {
      "cell_type": "markdown",
      "metadata": {
        "id": "TgV1zW5YBxBD"
      },
      "source": [
        "## Wrapping it into a Multi-user Conversation Chain with Memory"
      ]
    },
    {
      "cell_type": "code",
      "execution_count": null,
      "metadata": {
        "id": "GKepk9DBrRNS"
      },
      "outputs": [],
      "source": [
        "from rich.console import Console\n",
        "from rich.markdown import Markdown\n",
        "\n",
        "# create a conversation chain which can load memory based on specific user or session id\n",
        "conv_chain = RunnableWithMessageHistory(\n",
        "    combined_chain,\n",
        "    get_session_history_db,\n",
        "    input_messages_key=\"human_input\",\n",
        "    history_messages_key=\"history\",\n",
        ")\n",
        "\n",
        "# create a utility function to take in current user input prompt and their session ID\n",
        "# streams result live back to the user from the LLM\n",
        "def chat_with_llm(prompt: str, session_id: str):\n",
        "    response = conv_chain.invoke({\"human_input\": prompt},\n",
        "                                 {'configurable': { 'session_id': session_id}})\n",
        "    console = Console()\n",
        "    console.print(Markdown(response))\n"
      ]
    },
    {
      "cell_type": "markdown",
      "metadata": {
        "id": "kqfxpy4qB11L"
      },
      "source": [
        "## Test Product Recommender Agent"
      ]
    },
    {
      "cell_type": "markdown",
      "metadata": {
        "id": "gkPyZbTnxBSY"
      },
      "source": [
        "Test conversation chain for user 1"
      ]
    },
    {
      "cell_type": "code",
      "execution_count": null,
      "metadata": {
        "colab": {
          "base_uri": "https://localhost:8080/",
          "height": 265
        },
        "id": "ebkhHCjfWl0q",
        "outputId": "0bda24d0-14a1-4b7e-f01c-45c32df01737"
      },
      "outputs": [
        {
          "data": {
            "text/html": [
              "<pre style=\"white-space:pre;overflow-x:auto;line-height:normal;font-family:Menlo,'DejaVu Sans Mono',consolas,'Courier New',monospace\">\n",
              "                                                                                                                   \n",
              " <span style=\"font-weight: bold\"> Product_Name   </span> <span style=\"font-weight: bold\"> Price_USD </span> <span style=\"font-weight: bold\"> Rating </span> <span style=\"font-weight: bold\"> Description                                                               </span> \n",
              " ━━━━━━━━━━━━━━━━━━━━━━━━━━━━━━━━━━━━━━━━━━━━━━━━━━━━━━━━━━━━━━━━━━━━━━━━━━━━━━━━━━━━━━━━━━━━━━━━━━━━━━━━━━━━━━━━━ \n",
              "  BetaTab S        500         4.2      BetaTab S is a lightweight tablet with a 15-inch display, 4GB RAM, and     \n",
              "                                        64GB storage. Perfect for entertainment and light work on the go.          \n",
              "  BetaTab Lite     400         4.1      BetaTab Lite is a budget-friendly 10-inch tablet with 2GB RAM and 32GB     \n",
              "                                        storage, perfect for casual browsing and entertainment.                    \n",
              "  SpectraTab Max   600         4.3      SpectraTab Max features a 12-inch Retina display, 6GB RAM, and 128GB       \n",
              "                                        storage, designed for entertainment and professional use.                  \n",
              "                                                                                                                   \n",
              "\n",
              "I recommend these tablets because they cater to a variety of needs and budgets. The BetaTab S is great for those   \n",
              "who want a larger display and more RAM for multitasking. The BetaTab Lite is ideal for casual users looking for an \n",
              "affordable option, while the SpectraTab Max offers a premium experience with a high-resolution display and ample   \n",
              "storage for both entertainment and professional tasks.                                                             \n",
              "</pre>\n"
            ],
            "text/plain": [
              "\n",
              "                                                                                                                   \n",
              " \u001b[1m \u001b[0m\u001b[1mProduct_Name\u001b[0m\u001b[1m  \u001b[0m\u001b[1m \u001b[0m \u001b[1m \u001b[0m\u001b[1mPrice_USD\u001b[0m\u001b[1m \u001b[0m \u001b[1m \u001b[0m\u001b[1mRating\u001b[0m\u001b[1m \u001b[0m \u001b[1m \u001b[0m\u001b[1mDescription\u001b[0m\u001b[1m                                                              \u001b[0m\u001b[1m \u001b[0m \n",
              " ━━━━━━━━━━━━━━━━━━━━━━━━━━━━━━━━━━━━━━━━━━━━━━━━━━━━━━━━━━━━━━━━━━━━━━━━━━━━━━━━━━━━━━━━━━━━━━━━━━━━━━━━━━━━━━━━━ \n",
              "  BetaTab S        500         4.2      BetaTab S is a lightweight tablet with a 15-inch display, 4GB RAM, and     \n",
              "                                        64GB storage. Perfect for entertainment and light work on the go.          \n",
              "  BetaTab Lite     400         4.1      BetaTab Lite is a budget-friendly 10-inch tablet with 2GB RAM and 32GB     \n",
              "                                        storage, perfect for casual browsing and entertainment.                    \n",
              "  SpectraTab Max   600         4.3      SpectraTab Max features a 12-inch Retina display, 6GB RAM, and 128GB       \n",
              "                                        storage, designed for entertainment and professional use.                  \n",
              "                                                                                                                   \n",
              "\n",
              "I recommend these tablets because they cater to a variety of needs and budgets. The BetaTab S is great for those   \n",
              "who want a larger display and more RAM for multitasking. The BetaTab Lite is ideal for casual users looking for an \n",
              "affordable option, while the SpectraTab Max offers a premium experience with a high-resolution display and ample   \n",
              "storage for both entertainment and professional tasks.                                                             \n"
            ]
          },
          "metadata": {},
          "output_type": "display_data"
        }
      ],
      "source": [
        "user_id = 'jim001'\n",
        "prompt = \"looking for a tablet\"\n",
        "chat_with_llm(prompt, user_id)"
      ]
    },
    {
      "cell_type": "code",
      "execution_count": null,
      "metadata": {
        "colab": {
          "base_uri": "https://localhost:8080/",
          "height": 215
        },
        "id": "cW6On1LasjYb",
        "outputId": "00a800b2-86b3-49a7-eaf2-cf9f5efe44d8"
      },
      "outputs": [
        {
          "data": {
            "text/html": [
              "<pre style=\"white-space:pre;overflow-x:auto;line-height:normal;font-family:Menlo,'DejaVu Sans Mono',consolas,'Courier New',monospace\">\n",
              "                                                                                                                   \n",
              " <span style=\"font-weight: bold\"> Product_Name   </span> <span style=\"font-weight: bold\"> Price_USD </span> <span style=\"font-weight: bold\"> Rating </span> <span style=\"font-weight: bold\"> Description                                                               </span> \n",
              " ━━━━━━━━━━━━━━━━━━━━━━━━━━━━━━━━━━━━━━━━━━━━━━━━━━━━━━━━━━━━━━━━━━━━━━━━━━━━━━━━━━━━━━━━━━━━━━━━━━━━━━━━━━━━━━━━━ \n",
              "  BetaTab S        500         4.2      BetaTab S is a lightweight tablet with a 15-inch display, 4GB RAM, and     \n",
              "                                        64GB storage. Perfect for entertainment and light work on the go.          \n",
              "  SpectraTab Max   600         4.3      SpectraTab Max features a 12-inch Retina display, 6GB RAM, and 128GB       \n",
              "                                        storage, designed for entertainment and professional use.                  \n",
              "                                                                                                                   \n",
              "\n",
              "I recommend the BetaTab S and SpectraTab Max because they both have displays larger than 10 inches, meeting your   \n",
              "requirement. The BetaTab S is great for casual use and portability, while the SpectraTab Max offers a higher       \n",
              "specification suitable for both entertainment and professional tasks.                                              \n",
              "</pre>\n"
            ],
            "text/plain": [
              "\n",
              "                                                                                                                   \n",
              " \u001b[1m \u001b[0m\u001b[1mProduct_Name\u001b[0m\u001b[1m  \u001b[0m\u001b[1m \u001b[0m \u001b[1m \u001b[0m\u001b[1mPrice_USD\u001b[0m\u001b[1m \u001b[0m \u001b[1m \u001b[0m\u001b[1mRating\u001b[0m\u001b[1m \u001b[0m \u001b[1m \u001b[0m\u001b[1mDescription\u001b[0m\u001b[1m                                                              \u001b[0m\u001b[1m \u001b[0m \n",
              " ━━━━━━━━━━━━━━━━━━━━━━━━━━━━━━━━━━━━━━━━━━━━━━━━━━━━━━━━━━━━━━━━━━━━━━━━━━━━━━━━━━━━━━━━━━━━━━━━━━━━━━━━━━━━━━━━━ \n",
              "  BetaTab S        500         4.2      BetaTab S is a lightweight tablet with a 15-inch display, 4GB RAM, and     \n",
              "                                        64GB storage. Perfect for entertainment and light work on the go.          \n",
              "  SpectraTab Max   600         4.3      SpectraTab Max features a 12-inch Retina display, 6GB RAM, and 128GB       \n",
              "                                        storage, designed for entertainment and professional use.                  \n",
              "                                                                                                                   \n",
              "\n",
              "I recommend the BetaTab S and SpectraTab Max because they both have displays larger than 10 inches, meeting your   \n",
              "requirement. The BetaTab S is great for casual use and portability, while the SpectraTab Max offers a higher       \n",
              "specification suitable for both entertainment and professional tasks.                                              \n"
            ]
          },
          "metadata": {},
          "output_type": "display_data"
        }
      ],
      "source": [
        "prompt = \"want one which has display larger than 10 inches\"\n",
        "chat_with_llm(prompt, user_id)"
      ]
    },
    {
      "cell_type": "code",
      "execution_count": null,
      "metadata": {
        "colab": {
          "base_uri": "https://localhost:8080/",
          "height": 182
        },
        "id": "gMY_wEU5soCL",
        "outputId": "097407d1-843a-43f2-b720-69854da47303"
      },
      "outputs": [
        {
          "data": {
            "text/html": [
              "<pre style=\"white-space:pre;overflow-x:auto;line-height:normal;font-family:Menlo,'DejaVu Sans Mono',consolas,'Courier New',monospace\">\n",
              "                                                                                                                   \n",
              " <span style=\"font-weight: bold\"> Product_Name   </span> <span style=\"font-weight: bold\"> Price_USD </span> <span style=\"font-weight: bold\"> Rating </span> <span style=\"font-weight: bold\"> Description                                                               </span> \n",
              " ━━━━━━━━━━━━━━━━━━━━━━━━━━━━━━━━━━━━━━━━━━━━━━━━━━━━━━━━━━━━━━━━━━━━━━━━━━━━━━━━━━━━━━━━━━━━━━━━━━━━━━━━━━━━━━━━━ \n",
              "  SpectraTab Max   600         4.3      SpectraTab Max features a 12-inch Retina display, 6GB RAM, and 128GB       \n",
              "                                        storage, designed for entertainment and professional use.                  \n",
              "                                                                                                                   \n",
              "\n",
              "I recommend the SpectraTab Max because it meets your requirement for at least 128GB of storage. With its powerful  \n",
              "specifications, including a 12-inch Retina display and 6GB of RAM, it is well-suited for both entertainment and    \n",
              "professional tasks.                                                                                                \n",
              "</pre>\n"
            ],
            "text/plain": [
              "\n",
              "                                                                                                                   \n",
              " \u001b[1m \u001b[0m\u001b[1mProduct_Name\u001b[0m\u001b[1m  \u001b[0m\u001b[1m \u001b[0m \u001b[1m \u001b[0m\u001b[1mPrice_USD\u001b[0m\u001b[1m \u001b[0m \u001b[1m \u001b[0m\u001b[1mRating\u001b[0m\u001b[1m \u001b[0m \u001b[1m \u001b[0m\u001b[1mDescription\u001b[0m\u001b[1m                                                              \u001b[0m\u001b[1m \u001b[0m \n",
              " ━━━━━━━━━━━━━━━━━━━━━━━━━━━━━━━━━━━━━━━━━━━━━━━━━━━━━━━━━━━━━━━━━━━━━━━━━━━━━━━━━━━━━━━━━━━━━━━━━━━━━━━━━━━━━━━━━ \n",
              "  SpectraTab Max   600         4.3      SpectraTab Max features a 12-inch Retina display, 6GB RAM, and 128GB       \n",
              "                                        storage, designed for entertainment and professional use.                  \n",
              "                                                                                                                   \n",
              "\n",
              "I recommend the SpectraTab Max because it meets your requirement for at least 128GB of storage. With its powerful  \n",
              "specifications, including a 12-inch Retina display and 6GB of RAM, it is well-suited for both entertainment and    \n",
              "professional tasks.                                                                                                \n"
            ]
          },
          "metadata": {},
          "output_type": "display_data"
        }
      ],
      "source": [
        "prompt = \"need at least 128GB disk space\"\n",
        "chat_with_llm(prompt, user_id)"
      ]
    },
    {
      "cell_type": "markdown",
      "metadata": {
        "id": "qDLyOrajxD8i"
      },
      "source": [
        "Now test conversation chain for user 2"
      ]
    },
    {
      "cell_type": "code",
      "execution_count": null,
      "metadata": {
        "colab": {
          "base_uri": "https://localhost:8080/",
          "height": 281
        },
        "id": "YBe4sodJW9UL",
        "outputId": "03f52591-6774-49b3-c25b-57d195c0a31a"
      },
      "outputs": [
        {
          "data": {
            "text/html": [
              "<pre style=\"white-space:pre;overflow-x:auto;line-height:normal;font-family:Menlo,'DejaVu Sans Mono',consolas,'Courier New',monospace\">\n",
              "                                                                                                                   \n",
              " <span style=\"font-weight: bold\"> Product_Name   </span> <span style=\"font-weight: bold\"> Price_USD </span> <span style=\"font-weight: bold\"> Rating </span> <span style=\"font-weight: bold\"> Description                                                               </span> \n",
              " ━━━━━━━━━━━━━━━━━━━━━━━━━━━━━━━━━━━━━━━━━━━━━━━━━━━━━━━━━━━━━━━━━━━━━━━━━━━━━━━━━━━━━━━━━━━━━━━━━━━━━━━━━━━━━━━━━ \n",
              "  OmniBook Elite   1300        4.7      OmniBook Elite is a powerful 14-inch laptop with 16GB RAM, 512GB SSD, and  \n",
              "                                        Intel Core i7, perfect for productivity and multitasking.                  \n",
              "  AlphaBook Air    1000        4.6      AlphaBook Air offers a sleek 13-inch Retina display, 8GB RAM, 256GB SSD,   \n",
              "                                        and Intel Core i5, designed for portability and efficiency.                \n",
              "  AlphaBook Pro    1200        4.5      The AlphaBook Pro features a 15-inch Retina display, 16GB RAM, 512GB SSD,  \n",
              "                                        and an Intel Core i7 processor. Ideal for professionals who need           \n",
              "                                        performance and portability.                                               \n",
              "                                                                                                                   \n",
              "\n",
              "I recommend these laptops because they all have high ratings, indicating strong customer satisfaction. The OmniBook\n",
              "Elite has the highest rating and is designed for productivity, making it an excellent choice for users who need a  \n",
              "powerful machine. The AlphaBook Air is highly portable and efficient, while the AlphaBook Pro offers a balance of  \n",
              "performance and portability, making them all suitable options based on your request for a highly rated laptop.     \n",
              "</pre>\n"
            ],
            "text/plain": [
              "\n",
              "                                                                                                                   \n",
              " \u001b[1m \u001b[0m\u001b[1mProduct_Name\u001b[0m\u001b[1m  \u001b[0m\u001b[1m \u001b[0m \u001b[1m \u001b[0m\u001b[1mPrice_USD\u001b[0m\u001b[1m \u001b[0m \u001b[1m \u001b[0m\u001b[1mRating\u001b[0m\u001b[1m \u001b[0m \u001b[1m \u001b[0m\u001b[1mDescription\u001b[0m\u001b[1m                                                              \u001b[0m\u001b[1m \u001b[0m \n",
              " ━━━━━━━━━━━━━━━━━━━━━━━━━━━━━━━━━━━━━━━━━━━━━━━━━━━━━━━━━━━━━━━━━━━━━━━━━━━━━━━━━━━━━━━━━━━━━━━━━━━━━━━━━━━━━━━━━ \n",
              "  OmniBook Elite   1300        4.7      OmniBook Elite is a powerful 14-inch laptop with 16GB RAM, 512GB SSD, and  \n",
              "                                        Intel Core i7, perfect for productivity and multitasking.                  \n",
              "  AlphaBook Air    1000        4.6      AlphaBook Air offers a sleek 13-inch Retina display, 8GB RAM, 256GB SSD,   \n",
              "                                        and Intel Core i5, designed for portability and efficiency.                \n",
              "  AlphaBook Pro    1200        4.5      The AlphaBook Pro features a 15-inch Retina display, 16GB RAM, 512GB SSD,  \n",
              "                                        and an Intel Core i7 processor. Ideal for professionals who need           \n",
              "                                        performance and portability.                                               \n",
              "                                                                                                                   \n",
              "\n",
              "I recommend these laptops because they all have high ratings, indicating strong customer satisfaction. The OmniBook\n",
              "Elite has the highest rating and is designed for productivity, making it an excellent choice for users who need a  \n",
              "powerful machine. The AlphaBook Air is highly portable and efficient, while the AlphaBook Pro offers a balance of  \n",
              "performance and portability, making them all suitable options based on your request for a highly rated laptop.     \n"
            ]
          },
          "metadata": {},
          "output_type": "display_data"
        }
      ],
      "source": [
        "user_id = 'bond007'\n",
        "prompt = \"I want a laptop with a high rating\"\n",
        "chat_with_llm(prompt, user_id)"
      ]
    },
    {
      "cell_type": "code",
      "execution_count": null,
      "metadata": {
        "colab": {
          "base_uri": "https://localhost:8080/",
          "height": 232
        },
        "id": "ebV3Mt-vXG3U",
        "outputId": "49e15bee-2e72-41ae-f175-71ee69ee7065"
      },
      "outputs": [
        {
          "data": {
            "text/html": [
              "<pre style=\"white-space:pre;overflow-x:auto;line-height:normal;font-family:Menlo,'DejaVu Sans Mono',consolas,'Courier New',monospace\">\n",
              "                                                                                                                   \n",
              " <span style=\"font-weight: bold\"> Product_Name   </span> <span style=\"font-weight: bold\"> Price_USD </span> <span style=\"font-weight: bold\"> Rating </span> <span style=\"font-weight: bold\"> Description                                                               </span> \n",
              " ━━━━━━━━━━━━━━━━━━━━━━━━━━━━━━━━━━━━━━━━━━━━━━━━━━━━━━━━━━━━━━━━━━━━━━━━━━━━━━━━━━━━━━━━━━━━━━━━━━━━━━━━━━━━━━━━━ \n",
              "  AlphaBook Pro    1200        4.5      The AlphaBook Pro features a 15-inch Retina display, 16GB RAM, 512GB SSD,  \n",
              "                                        and an Intel Core i7 processor. Ideal for professionals who need           \n",
              "                                        performance and portability.                                               \n",
              "  OmniBook Elite   1300        4.7      OmniBook Elite is a powerful 14-inch laptop with 16GB RAM, 512GB SSD, and  \n",
              "                                        Intel Core i7, perfect for productivity and multitasking.                  \n",
              "                                                                                                                   \n",
              "\n",
              "I recommend the <span style=\"font-weight: bold\">AlphaBook Pro</span> and <span style=\"font-weight: bold\">OmniBook Elite</span> because they both meet your requirement of having at least 16GB of\n",
              "memory. The AlphaBook Pro is ideal for professionals needing performance and portability, while the OmniBook Elite \n",
              "is designed for productivity and multitasking, making them both excellent choices for your needs.                  \n",
              "</pre>\n"
            ],
            "text/plain": [
              "\n",
              "                                                                                                                   \n",
              " \u001b[1m \u001b[0m\u001b[1mProduct_Name\u001b[0m\u001b[1m  \u001b[0m\u001b[1m \u001b[0m \u001b[1m \u001b[0m\u001b[1mPrice_USD\u001b[0m\u001b[1m \u001b[0m \u001b[1m \u001b[0m\u001b[1mRating\u001b[0m\u001b[1m \u001b[0m \u001b[1m \u001b[0m\u001b[1mDescription\u001b[0m\u001b[1m                                                              \u001b[0m\u001b[1m \u001b[0m \n",
              " ━━━━━━━━━━━━━━━━━━━━━━━━━━━━━━━━━━━━━━━━━━━━━━━━━━━━━━━━━━━━━━━━━━━━━━━━━━━━━━━━━━━━━━━━━━━━━━━━━━━━━━━━━━━━━━━━━ \n",
              "  AlphaBook Pro    1200        4.5      The AlphaBook Pro features a 15-inch Retina display, 16GB RAM, 512GB SSD,  \n",
              "                                        and an Intel Core i7 processor. Ideal for professionals who need           \n",
              "                                        performance and portability.                                               \n",
              "  OmniBook Elite   1300        4.7      OmniBook Elite is a powerful 14-inch laptop with 16GB RAM, 512GB SSD, and  \n",
              "                                        Intel Core i7, perfect for productivity and multitasking.                  \n",
              "                                                                                                                   \n",
              "\n",
              "I recommend the \u001b[1mAlphaBook Pro\u001b[0m and \u001b[1mOmniBook Elite\u001b[0m because they both meet your requirement of having at least 16GB of\n",
              "memory. The AlphaBook Pro is ideal for professionals needing performance and portability, while the OmniBook Elite \n",
              "is designed for productivity and multitasking, making them both excellent choices for your needs.                  \n"
            ]
          },
          "metadata": {},
          "output_type": "display_data"
        }
      ],
      "source": [
        "prompt = \"want atleast 16GB memory\"\n",
        "chat_with_llm(prompt, user_id)"
      ]
    }
  ],
  "metadata": {
    "colab": {
      "provenance": [],
      "include_colab_link": true
    },
    "kernelspec": {
      "display_name": "Python 3 (ipykernel)",
      "language": "python",
      "name": "python3"
    },
    "language_info": {
      "codemirror_mode": {
        "name": "ipython",
        "version": 3
      },
      "file_extension": ".py",
      "mimetype": "text/x-python",
      "name": "python",
      "nbconvert_exporter": "python",
      "pygments_lexer": "ipython3",
      "version": "3.8.10"
    }
  },
  "nbformat": 4,
  "nbformat_minor": 0
}